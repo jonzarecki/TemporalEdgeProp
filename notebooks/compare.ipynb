{
 "cells": [
  {
   "cell_type": "code",
   "execution_count": 1,
   "metadata": {},
   "outputs": [],
   "source": [
    "%load_ext autoreload\n",
    "%autoreload 2\n",
    "\n",
    "import os,sys,inspect\n",
    "current_dir = os.path.dirname(os.path.abspath(inspect.getfile(inspect.currentframe())))\n",
    "parent_dir = os.path.dirname(current_dir)\n",
    "sys.path.insert(0, os.path.join(parent_dir)) \n",
    "\n",
    "%matplotlib inline"
   ]
  },
  {
   "cell_type": "code",
   "execution_count": 14,
   "metadata": {},
   "outputs": [],
   "source": [
    "import networkx as nx\n",
    "import numpy as np"
   ]
  },
  {
   "cell_type": "code",
   "execution_count": 183,
   "metadata": {},
   "outputs": [],
   "source": [
    "g = nx.barabasi_albert_graph(100, 30)\n",
    "\n",
    "NUM_CLASSES = 2\n",
    "def int2onehot(i, max_int=NUM_CLASSES):\n",
    "    x = [0] * max_int\n",
    "    x[i] = 1\n",
    "    return x\n",
    "\n",
    "edge2label = {edge:int2onehot(np.random.randint(NUM_CLASSES)) for edge in g.edges()}\n",
    "nx.set_edge_attributes(g,edge2label,'label')"
   ]
  },
  {
   "cell_type": "code",
   "execution_count": 184,
   "metadata": {},
   "outputs": [],
   "source": [
    "A=nx.adj_matrix(g).toarray()"
   ]
  },
  {
   "cell_type": "code",
   "execution_count": 185,
   "metadata": {},
   "outputs": [],
   "source": [
    "Y = np.zeros(shape=(A.shape[0], A.shape[1], NUM_CLASSES))\n",
    "for (u,v), label in edge2label.items():\n",
    "    Y[u,v] = label\n",
    "    Y[v,u] = label"
   ]
  },
  {
   "cell_type": "code",
   "execution_count": 203,
   "metadata": {},
   "outputs": [],
   "source": [
    "def our_method(A, Y):\n",
    "    last_Y = Y.copy()\n",
    "    for i in range(100):\n",
    "        B = np.sum(np.dot(A, last_Y),axis=0)\n",
    "        D = np.sum(A,axis=0)\n",
    "\n",
    "        mat = (B[:,np.newaxis,:]+B[np.newaxis,:,:]) / (D[:,np.newaxis] + D[np.newaxis,:])[:,:,np.newaxis]\n",
    "\n",
    "        mat[A==0] = 0\n",
    "        mat[A!=0] = mat[A!=0]/np.sum(mat[A!=0],axis=-1)[:,np.newaxis]\n",
    "        mat[mat!=mat] = 0\n",
    "\n",
    "        last_Y = mat\n",
    "    return last_Y"
   ]
  },
  {
   "cell_type": "code",
   "execution_count": 208,
   "metadata": {},
   "outputs": [],
   "source": [
    "def their_method(A, Y):\n",
    "    last_Y = np.sum(np.dot(A, Y),axis=0)\n",
    "    last_Y = last_Y/np.sum(last_Y,axis=-1)[:,np.newaxis]\n",
    "    last_Y[last_Y!=last_Y] = 0\n",
    "    \n",
    "    for i in range(100):\n",
    "        B = np.dot(A, last_Y)\n",
    "        D = np.sum(A,axis=0)\n",
    "        last_Y = B/D[:,np.newaxis]\n",
    "    \n",
    "#     last_Y=last_Y[:,np.newaxis,:]*last_Y[np.newaxis,:,:]\n",
    "    last_Y=last_Y[:,np.newaxis,:]+last_Y[np.newaxis,:,:]\n",
    "    last_Y[A==0] = 0\n",
    "    last_Y[A!=0] = last_Y[A!=0]/np.sum(last_Y[A!=0],axis=-1)[:,np.newaxis]\n",
    "    last_Y[last_Y!=last_Y] = 0\n",
    "    \n",
    "    return last_Y"
   ]
  },
  {
   "cell_type": "code",
   "execution_count": 205,
   "metadata": {},
   "outputs": [
    {
     "data": {
      "text/plain": [
       "False"
      ]
     },
     "execution_count": 205,
     "metadata": {},
     "output_type": "execute_result"
    }
   ],
   "source": [
    "np.allclose(their_method(A, Y),our_method(A, Y))"
   ]
  },
  {
   "cell_type": "code",
   "execution_count": 209,
   "metadata": {},
   "outputs": [
    {
     "data": {
      "text/plain": [
       "array([[0.        , 0.        , 0.        , ..., 0.50206147, 0.        ,\n",
       "        0.        ],\n",
       "       [0.        , 0.        , 0.        , ..., 0.50206147, 0.        ,\n",
       "        0.        ],\n",
       "       [0.        , 0.        , 0.        , ..., 0.        , 0.        ,\n",
       "        0.        ],\n",
       "       ...,\n",
       "       [0.50206147, 0.50206147, 0.        , ..., 0.        , 0.        ,\n",
       "        0.50206147],\n",
       "       [0.        , 0.        , 0.        , ..., 0.        , 0.        ,\n",
       "        0.        ],\n",
       "       [0.        , 0.        , 0.        , ..., 0.50206147, 0.        ,\n",
       "        0.        ]])"
      ]
     },
     "execution_count": 209,
     "metadata": {},
     "output_type": "execute_result"
    }
   ],
   "source": [
    "their_method(A, Y)[:,:,0]"
   ]
  },
  {
   "cell_type": "code",
   "execution_count": 210,
   "metadata": {},
   "outputs": [
    {
     "data": {
      "text/plain": [
       "array([[0.        , 0.        , 0.        , ..., 0.49784624, 0.        ,\n",
       "        0.        ],\n",
       "       [0.        , 0.        , 0.        , ..., 0.49784624, 0.        ,\n",
       "        0.        ],\n",
       "       [0.        , 0.        , 0.        , ..., 0.        , 0.        ,\n",
       "        0.        ],\n",
       "       ...,\n",
       "       [0.49784624, 0.49784624, 0.        , ..., 0.        , 0.        ,\n",
       "        0.49784624],\n",
       "       [0.        , 0.        , 0.        , ..., 0.        , 0.        ,\n",
       "        0.        ],\n",
       "       [0.        , 0.        , 0.        , ..., 0.49784624, 0.        ,\n",
       "        0.        ]])"
      ]
     },
     "execution_count": 210,
     "metadata": {},
     "output_type": "execute_result"
    }
   ],
   "source": [
    "our_method(A, Y)[:,:,0]"
   ]
  },
  {
   "cell_type": "code",
   "execution_count": null,
   "metadata": {},
   "outputs": [],
   "source": []
  },
  {
   "cell_type": "code",
   "execution_count": null,
   "metadata": {},
   "outputs": [],
   "source": []
  }
 ],
 "metadata": {
  "kernelspec": {
   "display_name": "Python 3",
   "language": "python",
   "name": "python3"
  },
  "language_info": {
   "codemirror_mode": {
    "name": "ipython",
    "version": 3
   },
   "file_extension": ".py",
   "mimetype": "text/x-python",
   "name": "python",
   "nbconvert_exporter": "python",
   "pygments_lexer": "ipython3",
   "version": "3.7.6"
  }
 },
 "nbformat": 4,
 "nbformat_minor": 2
}
