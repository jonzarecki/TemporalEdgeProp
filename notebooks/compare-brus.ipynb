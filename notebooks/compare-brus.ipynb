{
 "cells": [
  {
   "cell_type": "code",
   "execution_count": 1,
   "metadata": {
    "ExecuteTime": {
     "end_time": "2020-03-19T10:15:26.133645Z",
     "start_time": "2020-03-19T10:15:25.892592Z"
    }
   },
   "outputs": [],
   "source": [
    "%load_ext autoreload\n",
    "%autoreload 2\n",
    "\n",
    "import os,sys,inspect\n",
    "current_dir = os.path.dirname(os.path.abspath(inspect.getfile(inspect.currentframe())))\n",
    "parent_dir = os.path.dirname(current_dir)\n",
    "sys.path.insert(0, os.path.join(parent_dir)) \n",
    "\n",
    "%matplotlib inline"
   ]
  },
  {
   "cell_type": "code",
   "execution_count": 17,
   "metadata": {
    "ExecuteTime": {
     "end_time": "2020-03-19T10:25:57.046901Z",
     "start_time": "2020-03-19T10:25:57.009892Z"
    }
   },
   "outputs": [],
   "source": [
    "import networkx as nx\n",
    "import numpy as np\n",
    "from edge_prop.data_loader import DataLoader\n",
    "from edge_prop.models.dense_edge_propagation import DenseEdgeProp\n",
    "from edge_prop.models.dense_baseline import DenseBasline\n",
    "from sklearn.metrics import accuracy_score\n",
    "from edge_prop.constants import DATASET2PATH\n",
    "from itertools import product"
   ]
  },
  {
   "cell_type": "markdown",
   "metadata": {},
   "source": [
    "### Experiment on real world data"
   ]
  },
  {
   "cell_type": "code",
   "execution_count": 4,
   "metadata": {
    "ExecuteTime": {
     "end_time": "2020-03-18T16:39:32.679808Z",
     "start_time": "2020-03-18T16:39:30.224446Z"
    }
   },
   "outputs": [],
   "source": [
    "path = DATASET2PATH['slashdot']\n",
    "graph, y_true, test_indices = DataLoader(path).load_data(1_000)\n",
    "y_test = y_true[test_indices]"
   ]
  },
  {
   "cell_type": "markdown",
   "metadata": {},
   "source": [
    "##### Our model"
   ]
  },
  {
   "cell_type": "code",
   "execution_count": 7,
   "metadata": {
    "ExecuteTime": {
     "end_time": "2020-03-18T18:21:50.149100Z",
     "start_time": "2020-03-18T16:41:29.080845Z"
    }
   },
   "outputs": [
    {
     "data": {
      "application/vnd.jupyter.widget-view+json": {
       "model_id": "f1eea24e7aa641519ad7797d73de26ec",
       "version_major": 2,
       "version_minor": 0
      },
      "text/plain": [
       "HBox(children=(FloatProgress(value=0.0, description='Fitting model', max=50.0, style=ProgressStyle(description…"
      ]
     },
     "metadata": {},
     "output_type": "display_data"
    },
    {
     "name": "stderr",
     "output_type": "stream",
     "text": [
      "C:\\Users\\Brus\\Documents\\repos\\TemporalEdgeProp\\edge_prop\\models\\dense_edge_propagation.py:56: RuntimeWarning: divide by zero encountered in true_divide\n",
      "  mat = (B[:, np.newaxis, :] + B[np.newaxis, :, :]) / (D[:, np.newaxis] + D[np.newaxis, :])[:, :, np.newaxis]\n",
      "C:\\Users\\Brus\\Documents\\repos\\TemporalEdgeProp\\edge_prop\\models\\dense_edge_propagation.py:56: RuntimeWarning: invalid value encountered in true_divide\n",
      "  mat = (B[:, np.newaxis, :] + B[np.newaxis, :, :]) / (D[:, np.newaxis] + D[np.newaxis, :])[:, :, np.newaxis]\n",
      "C:\\Users\\Brus\\Documents\\repos\\TemporalEdgeProp\\edge_prop\\models\\dense_edge_propagation.py:59: RuntimeWarning: invalid value encountered in true_divide\n",
      "  mat[adj_mat != 0] = mat[adj_mat != 0] / np.sum(mat[adj_mat != 0], axis=-1, keepdims=True)\n"
     ]
    },
    {
     "name": "stdout",
     "output_type": "stream",
     "text": [
      "\n"
     ]
    },
    {
     "name": "stderr",
     "output_type": "stream",
     "text": [
      "C:\\Users\\Brus\\Documents\\repos\\TemporalEdgeProp\\edge_prop\\models\\dense_edge_propagation.py:67: ConvergenceWarning: max_iter was reached without convergence\n",
      "  warnings.warn(\"max_iter was reached without convergence\", category=ConvergenceWarning)\n"
     ]
    },
    {
     "data": {
      "text/plain": [
       "<edge_prop.models.dense_edge_propagation.DenseEdgeProp at 0x19f28fb3488>"
      ]
     },
     "execution_count": 7,
     "metadata": {},
     "output_type": "execute_result"
    }
   ],
   "source": [
    "edge_prop = DenseEdgeProp(graph.y_attr, max_iter=50, alpha=0.8)\n",
    "edge_prop.fit(graph)"
   ]
  },
  {
   "cell_type": "code",
   "execution_count": 9,
   "metadata": {
    "ExecuteTime": {
     "end_time": "2020-03-18T18:21:56.264094Z",
     "start_time": "2020-03-18T18:21:56.147068Z"
    }
   },
   "outputs": [
    {
     "name": "stdout",
     "output_type": "stream",
     "text": [
      "Accuracy: 0.595243701436308\n"
     ]
    }
   ],
   "source": [
    "y_pred = edge_prop.predict()[test_indices]\n",
    "print(f\"Accuracy: {accuracy_score(y_test, y_pred)}\")"
   ]
  },
  {
   "cell_type": "markdown",
   "metadata": {},
   "source": [
    "### Baseline"
   ]
  },
  {
   "cell_type": "code",
   "execution_count": 5,
   "metadata": {
    "ExecuteTime": {
     "end_time": "2020-03-18T16:41:17.632115Z",
     "start_time": "2020-03-18T16:39:32.680808Z"
    }
   },
   "outputs": [
    {
     "name": "stderr",
     "output_type": "stream",
     "text": [
      "C:\\Users\\Brus\\Documents\\repos\\TemporalEdgeProp\\edge_prop\\models\\dense_baseline.py:49: RuntimeWarning: invalid value encountered in true_divide\n",
      "  last_Y = last_Y / np.sum(last_Y, axis=-1)[:, np.newaxis]\n"
     ]
    },
    {
     "data": {
      "application/vnd.jupyter.widget-view+json": {
       "model_id": "bc5fd5f204db417faf0f44d9aec5f1ca",
       "version_major": 2,
       "version_minor": 0
      },
      "text/plain": [
       "HBox(children=(FloatProgress(value=0.0, description='Fitting model', max=50.0, style=ProgressStyle(description…"
      ]
     },
     "metadata": {},
     "output_type": "display_data"
    },
    {
     "name": "stderr",
     "output_type": "stream",
     "text": [
      "C:\\Users\\Brus\\Documents\\repos\\TemporalEdgeProp\\edge_prop\\models\\dense_baseline.py:55: RuntimeWarning: invalid value encountered in true_divide\n",
      "  last_Y = B / D[:, np.newaxis]\n"
     ]
    },
    {
     "name": "stdout",
     "output_type": "stream",
     "text": [
      "\n"
     ]
    },
    {
     "data": {
      "text/plain": [
       "<edge_prop.models.dense_baseline.DenseBasline at 0x19f2a4c1188>"
      ]
     },
     "execution_count": 5,
     "metadata": {},
     "output_type": "execute_result"
    }
   ],
   "source": [
    "baseline = DenseBasline(graph.y_attr, max_iter=50, alpha=0.8)\n",
    "baseline.fit(graph)"
   ]
  },
  {
   "cell_type": "code",
   "execution_count": 6,
   "metadata": {
    "ExecuteTime": {
     "end_time": "2020-03-18T16:41:21.528527Z",
     "start_time": "2020-03-18T16:41:21.417502Z"
    }
   },
   "outputs": [
    {
     "name": "stdout",
     "output_type": "stream",
     "text": [
      "Accuracy: 0.5939879130366533\n"
     ]
    }
   ],
   "source": [
    "y_pred = baseline.predict()[test_indices]\n",
    "print(f\"Accuracy: {accuracy_score(y_test, y_pred)}\")"
   ]
  },
  {
   "cell_type": "markdown",
   "metadata": {},
   "source": [
    "### Wikipedia dataset"
   ]
  },
  {
   "cell_type": "code",
   "execution_count": 9,
   "metadata": {
    "ExecuteTime": {
     "end_time": "2020-03-19T10:17:34.909891Z",
     "start_time": "2020-03-19T10:17:34.073199Z"
    }
   },
   "outputs": [],
   "source": [
    "path = DATASET2PATH['wiki']\n",
    "dtype_tuples = [('label', int), ('time', str)]\n",
    "graph, y_true, test_indices = DataLoader(path, dtype_tuples=dtype_tuples, test_size=0.5).load_data()\n",
    "y_test = y_true[test_indices]"
   ]
  },
  {
   "cell_type": "markdown",
   "metadata": {},
   "source": [
    "#### Our model"
   ]
  },
  {
   "cell_type": "code",
   "execution_count": 14,
   "metadata": {
    "ExecuteTime": {
     "end_time": "2020-03-19T10:23:47.614092Z",
     "start_time": "2020-03-19T10:22:12.729887Z"
    }
   },
   "outputs": [
    {
     "data": {
      "application/vnd.jupyter.widget-view+json": {
       "model_id": "f1ff07c97e554868907c595c05b58a6a",
       "version_major": 2,
       "version_minor": 0
      },
      "text/plain": [
       "HBox(children=(FloatProgress(value=0.0, description='Fitting model', max=50.0, style=ProgressStyle(description…"
      ]
     },
     "metadata": {},
     "output_type": "display_data"
    },
    {
     "name": "stdout",
     "output_type": "stream",
     "text": [
      "\n"
     ]
    },
    {
     "data": {
      "text/plain": [
       "<edge_prop.models.dense_edge_propagation.DenseEdgeProp at 0x1eae0cf1688>"
      ]
     },
     "execution_count": 14,
     "metadata": {},
     "output_type": "execute_result"
    }
   ],
   "source": [
    "edge_prop = DenseEdgeProp(graph.y_attr, max_iter=50, alpha=1)\n",
    "edge_prop.fit(graph)"
   ]
  },
  {
   "cell_type": "code",
   "execution_count": 15,
   "metadata": {
    "ExecuteTime": {
     "end_time": "2020-03-19T10:23:48.200616Z",
     "start_time": "2020-03-19T10:23:47.615092Z"
    }
   },
   "outputs": [
    {
     "name": "stderr",
     "output_type": "stream",
     "text": [
      "C:\\Users\\Brus\\Documents\\repos\\TemporalEdgeProp\\edge_prop\\models\\base_model.py:55: RuntimeWarning: edge ('3758', '3759') doesn't have a definitive max: [0. 0.]\n",
      "  warnings.warn(f\"edge {(u,v)} doesn't have a definitive max: {dist}\", category=RuntimeWarning)\n",
      "C:\\Users\\Brus\\Documents\\repos\\TemporalEdgeProp\\edge_prop\\models\\base_model.py:55: RuntimeWarning: edge ('3759', '3759') doesn't have a definitive max: [0. 0.]\n",
      "  warnings.warn(f\"edge {(u,v)} doesn't have a definitive max: {dist}\", category=RuntimeWarning)\n",
      "C:\\Users\\Brus\\Documents\\repos\\TemporalEdgeProp\\edge_prop\\models\\base_model.py:55: RuntimeWarning: edge ('4072', '4073') doesn't have a definitive max: [0. 0.]\n",
      "  warnings.warn(f\"edge {(u,v)} doesn't have a definitive max: {dist}\", category=RuntimeWarning)\n",
      "C:\\Users\\Brus\\Documents\\repos\\TemporalEdgeProp\\edge_prop\\models\\base_model.py:55: RuntimeWarning: edge ('5025', '5026') doesn't have a definitive max: [0. 0.]\n",
      "  warnings.warn(f\"edge {(u,v)} doesn't have a definitive max: {dist}\", category=RuntimeWarning)\n",
      "C:\\Users\\Brus\\Documents\\repos\\TemporalEdgeProp\\edge_prop\\models\\base_model.py:55: RuntimeWarning: edge ('5266', '5267') doesn't have a definitive max: [0. 0.]\n",
      "  warnings.warn(f\"edge {(u,v)} doesn't have a definitive max: {dist}\", category=RuntimeWarning)\n",
      "C:\\Users\\Brus\\Documents\\repos\\TemporalEdgeProp\\edge_prop\\models\\base_model.py:55: RuntimeWarning: edge ('5311', '5312') doesn't have a definitive max: [0. 0.]\n",
      "  warnings.warn(f\"edge {(u,v)} doesn't have a definitive max: {dist}\", category=RuntimeWarning)\n",
      "C:\\Users\\Brus\\Documents\\repos\\TemporalEdgeProp\\edge_prop\\models\\base_model.py:55: RuntimeWarning: edge ('5510', '5511') doesn't have a definitive max: [0. 0.]\n",
      "  warnings.warn(f\"edge {(u,v)} doesn't have a definitive max: {dist}\", category=RuntimeWarning)\n",
      "C:\\Users\\Brus\\Documents\\repos\\TemporalEdgeProp\\edge_prop\\models\\base_model.py:55: RuntimeWarning: edge ('5604', '5604') doesn't have a definitive max: [0. 0.]\n",
      "  warnings.warn(f\"edge {(u,v)} doesn't have a definitive max: {dist}\", category=RuntimeWarning)\n",
      "C:\\Users\\Brus\\Documents\\repos\\TemporalEdgeProp\\edge_prop\\models\\base_model.py:55: RuntimeWarning: edge ('6133', '6134') doesn't have a definitive max: [0. 0.]\n",
      "  warnings.warn(f\"edge {(u,v)} doesn't have a definitive max: {dist}\", category=RuntimeWarning)\n",
      "C:\\Users\\Brus\\Documents\\repos\\TemporalEdgeProp\\edge_prop\\models\\base_model.py:55: RuntimeWarning: edge ('6134', '6135') doesn't have a definitive max: [0. 0.]\n",
      "  warnings.warn(f\"edge {(u,v)} doesn't have a definitive max: {dist}\", category=RuntimeWarning)\n",
      "C:\\Users\\Brus\\Documents\\repos\\TemporalEdgeProp\\edge_prop\\models\\base_model.py:55: RuntimeWarning: edge ('6268', '6269') doesn't have a definitive max: [0. 0.]\n",
      "  warnings.warn(f\"edge {(u,v)} doesn't have a definitive max: {dist}\", category=RuntimeWarning)\n",
      "C:\\Users\\Brus\\Documents\\repos\\TemporalEdgeProp\\edge_prop\\models\\base_model.py:55: RuntimeWarning: edge ('6501', '6502') doesn't have a definitive max: [0. 0.]\n",
      "  warnings.warn(f\"edge {(u,v)} doesn't have a definitive max: {dist}\", category=RuntimeWarning)\n",
      "C:\\Users\\Brus\\Documents\\repos\\TemporalEdgeProp\\edge_prop\\models\\base_model.py:55: RuntimeWarning: edge ('6903', '6904') doesn't have a definitive max: [0. 0.]\n",
      "  warnings.warn(f\"edge {(u,v)} doesn't have a definitive max: {dist}\", category=RuntimeWarning)\n",
      "C:\\Users\\Brus\\Documents\\repos\\TemporalEdgeProp\\edge_prop\\models\\base_model.py:55: RuntimeWarning: edge ('6948', '6949') doesn't have a definitive max: [0. 0.]\n",
      "  warnings.warn(f\"edge {(u,v)} doesn't have a definitive max: {dist}\", category=RuntimeWarning)\n",
      "C:\\Users\\Brus\\Documents\\repos\\TemporalEdgeProp\\edge_prop\\models\\base_model.py:55: RuntimeWarning: edge ('6949', '6950') doesn't have a definitive max: [0. 0.]\n",
      "  warnings.warn(f\"edge {(u,v)} doesn't have a definitive max: {dist}\", category=RuntimeWarning)\n"
     ]
    },
    {
     "name": "stdout",
     "output_type": "stream",
     "text": [
      "Accuracy: 0.7179609337779895\n"
     ]
    }
   ],
   "source": [
    "y_pred = edge_prop.predict()[test_indices]\n",
    "print(f\"Accuracy: {accuracy_score(y_test, y_pred)}\")"
   ]
  },
  {
   "cell_type": "markdown",
   "metadata": {},
   "source": [
    "#### Baseline"
   ]
  },
  {
   "cell_type": "code",
   "execution_count": 12,
   "metadata": {
    "ExecuteTime": {
     "end_time": "2020-03-19T10:19:40.403612Z",
     "start_time": "2020-03-19T10:19:30.338643Z"
    }
   },
   "outputs": [
    {
     "name": "stderr",
     "output_type": "stream",
     "text": [
      "Fitting model:   0%|                                                                                                                            | 0/200 [00:00<?, ?iter/s, dif=0.000277]\n"
     ]
    },
    {
     "data": {
      "text/plain": [
       "<edge_prop.models.dense_baseline.DenseBasline at 0x1eaddf8dd48>"
      ]
     },
     "execution_count": 12,
     "metadata": {},
     "output_type": "execute_result"
    }
   ],
   "source": [
    "baseline = DenseBasline(graph.y_attr, max_iter=200, alpha=0.8)\n",
    "baseline.fit(graph)"
   ]
  },
  {
   "cell_type": "code",
   "execution_count": 13,
   "metadata": {
    "ExecuteTime": {
     "end_time": "2020-03-19T10:19:40.978536Z",
     "start_time": "2020-03-19T10:19:40.404612Z"
    }
   },
   "outputs": [
    {
     "name": "stdout",
     "output_type": "stream",
     "text": [
      "Accuracy: 0.7063879625218358\n"
     ]
    },
    {
     "name": "stderr",
     "output_type": "stream",
     "text": [
      "C:\\Users\\Brus\\Documents\\repos\\TemporalEdgeProp\\edge_prop\\models\\base_model.py:55: RuntimeWarning: edge ('3758', '3759') doesn't have a definitive max: [0. 0.]\n",
      "  warnings.warn(f\"edge {(u,v)} doesn't have a definitive max: {dist}\", category=RuntimeWarning)\n",
      "C:\\Users\\Brus\\Documents\\repos\\TemporalEdgeProp\\edge_prop\\models\\base_model.py:55: RuntimeWarning: edge ('3759', '3759') doesn't have a definitive max: [0. 0.]\n",
      "  warnings.warn(f\"edge {(u,v)} doesn't have a definitive max: {dist}\", category=RuntimeWarning)\n",
      "C:\\Users\\Brus\\Documents\\repos\\TemporalEdgeProp\\edge_prop\\models\\base_model.py:55: RuntimeWarning: edge ('4072', '4073') doesn't have a definitive max: [0. 0.]\n",
      "  warnings.warn(f\"edge {(u,v)} doesn't have a definitive max: {dist}\", category=RuntimeWarning)\n",
      "C:\\Users\\Brus\\Documents\\repos\\TemporalEdgeProp\\edge_prop\\models\\base_model.py:55: RuntimeWarning: edge ('5025', '5026') doesn't have a definitive max: [0. 0.]\n",
      "  warnings.warn(f\"edge {(u,v)} doesn't have a definitive max: {dist}\", category=RuntimeWarning)\n",
      "C:\\Users\\Brus\\Documents\\repos\\TemporalEdgeProp\\edge_prop\\models\\base_model.py:55: RuntimeWarning: edge ('5266', '5267') doesn't have a definitive max: [0. 0.]\n",
      "  warnings.warn(f\"edge {(u,v)} doesn't have a definitive max: {dist}\", category=RuntimeWarning)\n",
      "C:\\Users\\Brus\\Documents\\repos\\TemporalEdgeProp\\edge_prop\\models\\base_model.py:55: RuntimeWarning: edge ('5311', '5312') doesn't have a definitive max: [0. 0.]\n",
      "  warnings.warn(f\"edge {(u,v)} doesn't have a definitive max: {dist}\", category=RuntimeWarning)\n",
      "C:\\Users\\Brus\\Documents\\repos\\TemporalEdgeProp\\edge_prop\\models\\base_model.py:55: RuntimeWarning: edge ('5510', '5511') doesn't have a definitive max: [0. 0.]\n",
      "  warnings.warn(f\"edge {(u,v)} doesn't have a definitive max: {dist}\", category=RuntimeWarning)\n",
      "C:\\Users\\Brus\\Documents\\repos\\TemporalEdgeProp\\edge_prop\\models\\base_model.py:55: RuntimeWarning: edge ('5604', '5604') doesn't have a definitive max: [0. 0.]\n",
      "  warnings.warn(f\"edge {(u,v)} doesn't have a definitive max: {dist}\", category=RuntimeWarning)\n",
      "C:\\Users\\Brus\\Documents\\repos\\TemporalEdgeProp\\edge_prop\\models\\base_model.py:55: RuntimeWarning: edge ('6133', '6134') doesn't have a definitive max: [0. 0.]\n",
      "  warnings.warn(f\"edge {(u,v)} doesn't have a definitive max: {dist}\", category=RuntimeWarning)\n",
      "C:\\Users\\Brus\\Documents\\repos\\TemporalEdgeProp\\edge_prop\\models\\base_model.py:55: RuntimeWarning: edge ('6134', '6135') doesn't have a definitive max: [0. 0.]\n",
      "  warnings.warn(f\"edge {(u,v)} doesn't have a definitive max: {dist}\", category=RuntimeWarning)\n",
      "C:\\Users\\Brus\\Documents\\repos\\TemporalEdgeProp\\edge_prop\\models\\base_model.py:55: RuntimeWarning: edge ('6268', '6269') doesn't have a definitive max: [0. 0.]\n",
      "  warnings.warn(f\"edge {(u,v)} doesn't have a definitive max: {dist}\", category=RuntimeWarning)\n",
      "C:\\Users\\Brus\\Documents\\repos\\TemporalEdgeProp\\edge_prop\\models\\base_model.py:55: RuntimeWarning: edge ('6501', '6502') doesn't have a definitive max: [0. 0.]\n",
      "  warnings.warn(f\"edge {(u,v)} doesn't have a definitive max: {dist}\", category=RuntimeWarning)\n",
      "C:\\Users\\Brus\\Documents\\repos\\TemporalEdgeProp\\edge_prop\\models\\base_model.py:55: RuntimeWarning: edge ('6903', '6904') doesn't have a definitive max: [0. 0.]\n",
      "  warnings.warn(f\"edge {(u,v)} doesn't have a definitive max: {dist}\", category=RuntimeWarning)\n",
      "C:\\Users\\Brus\\Documents\\repos\\TemporalEdgeProp\\edge_prop\\models\\base_model.py:55: RuntimeWarning: edge ('6948', '6949') doesn't have a definitive max: [0. 0.]\n",
      "  warnings.warn(f\"edge {(u,v)} doesn't have a definitive max: {dist}\", category=RuntimeWarning)\n",
      "C:\\Users\\Brus\\Documents\\repos\\TemporalEdgeProp\\edge_prop\\models\\base_model.py:55: RuntimeWarning: edge ('6949', '6950') doesn't have a definitive max: [0. 0.]\n",
      "  warnings.warn(f\"edge {(u,v)} doesn't have a definitive max: {dist}\", category=RuntimeWarning)\n"
     ]
    }
   ],
   "source": [
    "y_pred = baseline.predict()[test_indices]\n",
    "print(f\"Accuracy: {accuracy_score(y_test, y_pred)}\")"
   ]
  },
  {
   "cell_type": "markdown",
   "metadata": {},
   "source": [
    "### Run Experiment"
   ]
  },
  {
   "cell_type": "code",
   "execution_count": 27,
   "metadata": {
    "ExecuteTime": {
     "end_time": "2020-03-19T11:13:48.021842Z",
     "start_time": "2020-03-19T10:36:20.861905Z"
    }
   },
   "outputs": [
    {
     "data": {
      "application/vnd.jupyter.widget-view+json": {
       "model_id": "003ce41c75434e48b2bd60d1f12be04e",
       "version_major": 2,
       "version_minor": 0
      },
      "text/plain": [
       "HBox(children=(FloatProgress(value=0.0, description='Fitting model', max=50.0, style=ProgressStyle(description…"
      ]
     },
     "metadata": {},
     "output_type": "display_data"
    },
    {
     "name": "stdout",
     "output_type": "stream",
     "text": [
      "\n"
     ]
    },
    {
     "name": "stderr",
     "output_type": "stream",
     "text": [
      "C:\\Users\\Brus\\Documents\\repos\\TemporalEdgeProp\\edge_prop\\models\\base_model.py:55: RuntimeWarning: edge ('5025', '5026') doesn't have a definitive max: [0. 0.]\n",
      "  warnings.warn(f\"edge {(u,v)} doesn't have a definitive max: {dist}\", category=RuntimeWarning)\n",
      "C:\\Users\\Brus\\Documents\\repos\\TemporalEdgeProp\\edge_prop\\models\\base_model.py:55: RuntimeWarning: edge ('5266', '5267') doesn't have a definitive max: [0. 0.]\n",
      "  warnings.warn(f\"edge {(u,v)} doesn't have a definitive max: {dist}\", category=RuntimeWarning)\n",
      "C:\\Users\\Brus\\Documents\\repos\\TemporalEdgeProp\\edge_prop\\models\\base_model.py:55: RuntimeWarning: edge ('5510', '5511') doesn't have a definitive max: [0. 0.]\n",
      "  warnings.warn(f\"edge {(u,v)} doesn't have a definitive max: {dist}\", category=RuntimeWarning)\n",
      "C:\\Users\\Brus\\Documents\\repos\\TemporalEdgeProp\\edge_prop\\models\\base_model.py:55: RuntimeWarning: edge ('6501', '6502') doesn't have a definitive max: [0. 0.]\n",
      "  warnings.warn(f\"edge {(u,v)} doesn't have a definitive max: {dist}\", category=RuntimeWarning)\n",
      "C:\\Users\\Brus\\Documents\\repos\\TemporalEdgeProp\\edge_prop\\models\\base_model.py:55: RuntimeWarning: edge ('6948', '6949') doesn't have a definitive max: [0.5 0.5]\n",
      "  warnings.warn(f\"edge {(u,v)} doesn't have a definitive max: {dist}\", category=RuntimeWarning)\n",
      "C:\\Users\\Brus\\Documents\\repos\\TemporalEdgeProp\\edge_prop\\models\\base_model.py:55: RuntimeWarning: edge ('6949', '6950') doesn't have a definitive max: [0.5 0.5]\n",
      "  warnings.warn(f\"edge {(u,v)} doesn't have a definitive max: {dist}\", category=RuntimeWarning)\n",
      "Fitting model: 100%|███████████████████████████████████████████████████████████████████████████████████████████████████████████████████████| 50/50 [00:00<00:00, 480.65iter/s, dif=1.52]\n",
      "C:\\Users\\Brus\\Documents\\repos\\TemporalEdgeProp\\edge_prop\\models\\base_model.py:55: RuntimeWarning: edge ('5025', '5026') doesn't have a definitive max: [0. 0.]\n",
      "  warnings.warn(f\"edge {(u,v)} doesn't have a definitive max: {dist}\", category=RuntimeWarning)\n",
      "C:\\Users\\Brus\\Documents\\repos\\TemporalEdgeProp\\edge_prop\\models\\base_model.py:55: RuntimeWarning: edge ('5266', '5267') doesn't have a definitive max: [0. 0.]\n",
      "  warnings.warn(f\"edge {(u,v)} doesn't have a definitive max: {dist}\", category=RuntimeWarning)\n",
      "C:\\Users\\Brus\\Documents\\repos\\TemporalEdgeProp\\edge_prop\\models\\base_model.py:55: RuntimeWarning: edge ('5510', '5511') doesn't have a definitive max: [0. 0.]\n",
      "  warnings.warn(f\"edge {(u,v)} doesn't have a definitive max: {dist}\", category=RuntimeWarning)\n",
      "C:\\Users\\Brus\\Documents\\repos\\TemporalEdgeProp\\edge_prop\\models\\base_model.py:55: RuntimeWarning: edge ('6501', '6502') doesn't have a definitive max: [0. 0.]\n",
      "  warnings.warn(f\"edge {(u,v)} doesn't have a definitive max: {dist}\", category=RuntimeWarning)\n",
      "C:\\Users\\Brus\\Documents\\repos\\TemporalEdgeProp\\edge_prop\\models\\base_model.py:55: RuntimeWarning: edge ('6948', '6949') doesn't have a definitive max: [0.5 0.5]\n",
      "  warnings.warn(f\"edge {(u,v)} doesn't have a definitive max: {dist}\", category=RuntimeWarning)\n",
      "C:\\Users\\Brus\\Documents\\repos\\TemporalEdgeProp\\edge_prop\\models\\base_model.py:55: RuntimeWarning: edge ('6949', '6950') doesn't have a definitive max: [0.5 0.5]\n",
      "  warnings.warn(f\"edge {(u,v)} doesn't have a definitive max: {dist}\", category=RuntimeWarning)\n"
     ]
    },
    {
     "data": {
      "application/vnd.jupyter.widget-view+json": {
       "model_id": "33e5a376770b4610802cb1d3bd99d748",
       "version_major": 2,
       "version_minor": 0
      },
      "text/plain": [
       "HBox(children=(FloatProgress(value=0.0, description='Fitting model', max=50.0, style=ProgressStyle(description…"
      ]
     },
     "metadata": {},
     "output_type": "display_data"
    },
    {
     "name": "stdout",
     "output_type": "stream",
     "text": [
      "\n"
     ]
    },
    {
     "name": "stderr",
     "output_type": "stream",
     "text": [
      "C:\\Users\\Brus\\Documents\\repos\\TemporalEdgeProp\\edge_prop\\models\\base_model.py:55: RuntimeWarning: edge ('2106', '2107') doesn't have a definitive max: [0. 0.]\n",
      "  warnings.warn(f\"edge {(u,v)} doesn't have a definitive max: {dist}\", category=RuntimeWarning)\n",
      "C:\\Users\\Brus\\Documents\\repos\\TemporalEdgeProp\\edge_prop\\models\\base_model.py:55: RuntimeWarning: edge ('4072', '4073') doesn't have a definitive max: [0. 0.]\n",
      "  warnings.warn(f\"edge {(u,v)} doesn't have a definitive max: {dist}\", category=RuntimeWarning)\n",
      "C:\\Users\\Brus\\Documents\\repos\\TemporalEdgeProp\\edge_prop\\models\\base_model.py:55: RuntimeWarning: edge ('4797', '4798') doesn't have a definitive max: [0. 0.]\n",
      "  warnings.warn(f\"edge {(u,v)} doesn't have a definitive max: {dist}\", category=RuntimeWarning)\n",
      "C:\\Users\\Brus\\Documents\\repos\\TemporalEdgeProp\\edge_prop\\models\\base_model.py:55: RuntimeWarning: edge ('5025', '5026') doesn't have a definitive max: [0. 0.]\n",
      "  warnings.warn(f\"edge {(u,v)} doesn't have a definitive max: {dist}\", category=RuntimeWarning)\n",
      "C:\\Users\\Brus\\Documents\\repos\\TemporalEdgeProp\\edge_prop\\models\\base_model.py:55: RuntimeWarning: edge ('5045', '5045') doesn't have a definitive max: [0. 0.]\n",
      "  warnings.warn(f\"edge {(u,v)} doesn't have a definitive max: {dist}\", category=RuntimeWarning)\n",
      "C:\\Users\\Brus\\Documents\\repos\\TemporalEdgeProp\\edge_prop\\models\\base_model.py:55: RuntimeWarning: edge ('5098', '5099') doesn't have a definitive max: [0. 0.]\n",
      "  warnings.warn(f\"edge {(u,v)} doesn't have a definitive max: {dist}\", category=RuntimeWarning)\n",
      "C:\\Users\\Brus\\Documents\\repos\\TemporalEdgeProp\\edge_prop\\models\\base_model.py:55: RuntimeWarning: edge ('5266', '5267') doesn't have a definitive max: [0. 0.]\n",
      "  warnings.warn(f\"edge {(u,v)} doesn't have a definitive max: {dist}\", category=RuntimeWarning)\n",
      "C:\\Users\\Brus\\Documents\\repos\\TemporalEdgeProp\\edge_prop\\models\\base_model.py:55: RuntimeWarning: edge ('5370', '5371') doesn't have a definitive max: [0. 0.]\n",
      "  warnings.warn(f\"edge {(u,v)} doesn't have a definitive max: {dist}\", category=RuntimeWarning)\n",
      "C:\\Users\\Brus\\Documents\\repos\\TemporalEdgeProp\\edge_prop\\models\\base_model.py:55: RuntimeWarning: edge ('5503', '5504') doesn't have a definitive max: [0. 0.]\n",
      "  warnings.warn(f\"edge {(u,v)} doesn't have a definitive max: {dist}\", category=RuntimeWarning)\n",
      "C:\\Users\\Brus\\Documents\\repos\\TemporalEdgeProp\\edge_prop\\models\\base_model.py:55: RuntimeWarning: edge ('5510', '5511') doesn't have a definitive max: [0. 0.]\n",
      "  warnings.warn(f\"edge {(u,v)} doesn't have a definitive max: {dist}\", category=RuntimeWarning)\n",
      "C:\\Users\\Brus\\Documents\\repos\\TemporalEdgeProp\\edge_prop\\models\\base_model.py:55: RuntimeWarning: edge ('6133', '6134') doesn't have a definitive max: [0. 0.]\n",
      "  warnings.warn(f\"edge {(u,v)} doesn't have a definitive max: {dist}\", category=RuntimeWarning)\n",
      "C:\\Users\\Brus\\Documents\\repos\\TemporalEdgeProp\\edge_prop\\models\\base_model.py:55: RuntimeWarning: edge ('6134', '6135') doesn't have a definitive max: [0. 0.]\n",
      "  warnings.warn(f\"edge {(u,v)} doesn't have a definitive max: {dist}\", category=RuntimeWarning)\n",
      "C:\\Users\\Brus\\Documents\\repos\\TemporalEdgeProp\\edge_prop\\models\\base_model.py:55: RuntimeWarning: edge ('6268', '6269') doesn't have a definitive max: [0. 0.]\n",
      "  warnings.warn(f\"edge {(u,v)} doesn't have a definitive max: {dist}\", category=RuntimeWarning)\n",
      "C:\\Users\\Brus\\Documents\\repos\\TemporalEdgeProp\\edge_prop\\models\\base_model.py:55: RuntimeWarning: edge ('6273', '6274') doesn't have a definitive max: [0. 0.]\n",
      "  warnings.warn(f\"edge {(u,v)} doesn't have a definitive max: {dist}\", category=RuntimeWarning)\n",
      "C:\\Users\\Brus\\Documents\\repos\\TemporalEdgeProp\\edge_prop\\models\\base_model.py:55: RuntimeWarning: edge ('6477', '6478') doesn't have a definitive max: [0. 0.]\n",
      "  warnings.warn(f\"edge {(u,v)} doesn't have a definitive max: {dist}\", category=RuntimeWarning)\n",
      "C:\\Users\\Brus\\Documents\\repos\\TemporalEdgeProp\\edge_prop\\models\\base_model.py:55: RuntimeWarning: edge ('6478', '6479') doesn't have a definitive max: [0. 0.]\n",
      "  warnings.warn(f\"edge {(u,v)} doesn't have a definitive max: {dist}\", category=RuntimeWarning)\n",
      "C:\\Users\\Brus\\Documents\\repos\\TemporalEdgeProp\\edge_prop\\models\\base_model.py:55: RuntimeWarning: edge ('6872', '6873') doesn't have a definitive max: [0. 0.]\n",
      "  warnings.warn(f\"edge {(u,v)} doesn't have a definitive max: {dist}\", category=RuntimeWarning)\n",
      "C:\\Users\\Brus\\Documents\\repos\\TemporalEdgeProp\\edge_prop\\models\\base_model.py:55: RuntimeWarning: edge ('6903', '6904') doesn't have a definitive max: [0. 0.]\n",
      "  warnings.warn(f\"edge {(u,v)} doesn't have a definitive max: {dist}\", category=RuntimeWarning)\n",
      "Fitting model: 100%|███████████████████████████████████████████████████████████████████████████████████████████████████████████████████████| 50/50 [00:00<00:00, 490.89iter/s, dif=1.51]\n",
      "C:\\Users\\Brus\\Documents\\repos\\TemporalEdgeProp\\edge_prop\\models\\base_model.py:55: RuntimeWarning: edge ('2106', '2107') doesn't have a definitive max: [0. 0.]\n",
      "  warnings.warn(f\"edge {(u,v)} doesn't have a definitive max: {dist}\", category=RuntimeWarning)\n",
      "C:\\Users\\Brus\\Documents\\repos\\TemporalEdgeProp\\edge_prop\\models\\base_model.py:55: RuntimeWarning: edge ('4072', '4073') doesn't have a definitive max: [0. 0.]\n",
      "  warnings.warn(f\"edge {(u,v)} doesn't have a definitive max: {dist}\", category=RuntimeWarning)\n",
      "C:\\Users\\Brus\\Documents\\repos\\TemporalEdgeProp\\edge_prop\\models\\base_model.py:55: RuntimeWarning: edge ('4797', '4798') doesn't have a definitive max: [0. 0.]\n",
      "  warnings.warn(f\"edge {(u,v)} doesn't have a definitive max: {dist}\", category=RuntimeWarning)\n",
      "C:\\Users\\Brus\\Documents\\repos\\TemporalEdgeProp\\edge_prop\\models\\base_model.py:55: RuntimeWarning: edge ('5025', '5026') doesn't have a definitive max: [0. 0.]\n",
      "  warnings.warn(f\"edge {(u,v)} doesn't have a definitive max: {dist}\", category=RuntimeWarning)\n",
      "C:\\Users\\Brus\\Documents\\repos\\TemporalEdgeProp\\edge_prop\\models\\base_model.py:55: RuntimeWarning: edge ('5045', '5045') doesn't have a definitive max: [0. 0.]\n",
      "  warnings.warn(f\"edge {(u,v)} doesn't have a definitive max: {dist}\", category=RuntimeWarning)\n",
      "C:\\Users\\Brus\\Documents\\repos\\TemporalEdgeProp\\edge_prop\\models\\base_model.py:55: RuntimeWarning: edge ('5098', '5099') doesn't have a definitive max: [0. 0.]\n",
      "  warnings.warn(f\"edge {(u,v)} doesn't have a definitive max: {dist}\", category=RuntimeWarning)\n",
      "C:\\Users\\Brus\\Documents\\repos\\TemporalEdgeProp\\edge_prop\\models\\base_model.py:55: RuntimeWarning: edge ('5266', '5267') doesn't have a definitive max: [0. 0.]\n",
      "  warnings.warn(f\"edge {(u,v)} doesn't have a definitive max: {dist}\", category=RuntimeWarning)\n",
      "C:\\Users\\Brus\\Documents\\repos\\TemporalEdgeProp\\edge_prop\\models\\base_model.py:55: RuntimeWarning: edge ('5370', '5371') doesn't have a definitive max: [0. 0.]\n",
      "  warnings.warn(f\"edge {(u,v)} doesn't have a definitive max: {dist}\", category=RuntimeWarning)\n",
      "C:\\Users\\Brus\\Documents\\repos\\TemporalEdgeProp\\edge_prop\\models\\base_model.py:55: RuntimeWarning: edge ('5503', '5504') doesn't have a definitive max: [0. 0.]\n",
      "  warnings.warn(f\"edge {(u,v)} doesn't have a definitive max: {dist}\", category=RuntimeWarning)\n",
      "C:\\Users\\Brus\\Documents\\repos\\TemporalEdgeProp\\edge_prop\\models\\base_model.py:55: RuntimeWarning: edge ('5510', '5511') doesn't have a definitive max: [0. 0.]\n",
      "  warnings.warn(f\"edge {(u,v)} doesn't have a definitive max: {dist}\", category=RuntimeWarning)\n",
      "C:\\Users\\Brus\\Documents\\repos\\TemporalEdgeProp\\edge_prop\\models\\base_model.py:55: RuntimeWarning: edge ('6133', '6134') doesn't have a definitive max: [0. 0.]\n",
      "  warnings.warn(f\"edge {(u,v)} doesn't have a definitive max: {dist}\", category=RuntimeWarning)\n",
      "C:\\Users\\Brus\\Documents\\repos\\TemporalEdgeProp\\edge_prop\\models\\base_model.py:55: RuntimeWarning: edge ('6134', '6135') doesn't have a definitive max: [0. 0.]\n",
      "  warnings.warn(f\"edge {(u,v)} doesn't have a definitive max: {dist}\", category=RuntimeWarning)\n",
      "C:\\Users\\Brus\\Documents\\repos\\TemporalEdgeProp\\edge_prop\\models\\base_model.py:55: RuntimeWarning: edge ('6268', '6269') doesn't have a definitive max: [0. 0.]\n",
      "  warnings.warn(f\"edge {(u,v)} doesn't have a definitive max: {dist}\", category=RuntimeWarning)\n",
      "C:\\Users\\Brus\\Documents\\repos\\TemporalEdgeProp\\edge_prop\\models\\base_model.py:55: RuntimeWarning: edge ('6273', '6274') doesn't have a definitive max: [0. 0.]\n",
      "  warnings.warn(f\"edge {(u,v)} doesn't have a definitive max: {dist}\", category=RuntimeWarning)\n",
      "C:\\Users\\Brus\\Documents\\repos\\TemporalEdgeProp\\edge_prop\\models\\base_model.py:55: RuntimeWarning: edge ('6477', '6478') doesn't have a definitive max: [0. 0.]\n",
      "  warnings.warn(f\"edge {(u,v)} doesn't have a definitive max: {dist}\", category=RuntimeWarning)\n",
      "C:\\Users\\Brus\\Documents\\repos\\TemporalEdgeProp\\edge_prop\\models\\base_model.py:55: RuntimeWarning: edge ('6478', '6479') doesn't have a definitive max: [0. 0.]\n",
      "  warnings.warn(f\"edge {(u,v)} doesn't have a definitive max: {dist}\", category=RuntimeWarning)\n",
      "C:\\Users\\Brus\\Documents\\repos\\TemporalEdgeProp\\edge_prop\\models\\base_model.py:55: RuntimeWarning: edge ('6872', '6873') doesn't have a definitive max: [0. 0.]\n",
      "  warnings.warn(f\"edge {(u,v)} doesn't have a definitive max: {dist}\", category=RuntimeWarning)\n",
      "C:\\Users\\Brus\\Documents\\repos\\TemporalEdgeProp\\edge_prop\\models\\base_model.py:55: RuntimeWarning: edge ('6903', '6904') doesn't have a definitive max: [0. 0.]\n",
      "  warnings.warn(f\"edge {(u,v)} doesn't have a definitive max: {dist}\", category=RuntimeWarning)\n"
     ]
    },
    {
     "data": {
      "application/vnd.jupyter.widget-view+json": {
       "model_id": "df1e6878cd264ab19824060d52724815",
       "version_major": 2,
       "version_minor": 0
      },
      "text/plain": [
       "HBox(children=(FloatProgress(value=0.0, description='Fitting model', max=50.0, style=ProgressStyle(description…"
      ]
     },
     "metadata": {},
     "output_type": "display_data"
    },
    {
     "name": "stdout",
     "output_type": "stream",
     "text": [
      "\n"
     ]
    },
    {
     "name": "stderr",
     "output_type": "stream",
     "text": [
      "C:\\Users\\Brus\\Documents\\repos\\TemporalEdgeProp\\edge_prop\\models\\base_model.py:55: RuntimeWarning: edge ('2106', '2107') doesn't have a definitive max: [0. 0.]\n",
      "  warnings.warn(f\"edge {(u,v)} doesn't have a definitive max: {dist}\", category=RuntimeWarning)\n",
      "C:\\Users\\Brus\\Documents\\repos\\TemporalEdgeProp\\edge_prop\\models\\base_model.py:55: RuntimeWarning: edge ('2911', '2912') doesn't have a definitive max: [0. 0.]\n",
      "  warnings.warn(f\"edge {(u,v)} doesn't have a definitive max: {dist}\", category=RuntimeWarning)\n",
      "C:\\Users\\Brus\\Documents\\repos\\TemporalEdgeProp\\edge_prop\\models\\base_model.py:55: RuntimeWarning: edge ('3758', '3759') doesn't have a definitive max: [0. 0.]\n",
      "  warnings.warn(f\"edge {(u,v)} doesn't have a definitive max: {dist}\", category=RuntimeWarning)\n",
      "C:\\Users\\Brus\\Documents\\repos\\TemporalEdgeProp\\edge_prop\\models\\base_model.py:55: RuntimeWarning: edge ('3759', '3759') doesn't have a definitive max: [0. 0.]\n",
      "  warnings.warn(f\"edge {(u,v)} doesn't have a definitive max: {dist}\", category=RuntimeWarning)\n",
      "C:\\Users\\Brus\\Documents\\repos\\TemporalEdgeProp\\edge_prop\\models\\base_model.py:55: RuntimeWarning: edge ('4072', '4073') doesn't have a definitive max: [0. 0.]\n",
      "  warnings.warn(f\"edge {(u,v)} doesn't have a definitive max: {dist}\", category=RuntimeWarning)\n",
      "C:\\Users\\Brus\\Documents\\repos\\TemporalEdgeProp\\edge_prop\\models\\base_model.py:55: RuntimeWarning: edge ('4797', '4798') doesn't have a definitive max: [0. 0.]\n",
      "  warnings.warn(f\"edge {(u,v)} doesn't have a definitive max: {dist}\", category=RuntimeWarning)\n",
      "C:\\Users\\Brus\\Documents\\repos\\TemporalEdgeProp\\edge_prop\\models\\base_model.py:55: RuntimeWarning: edge ('5045', '5045') doesn't have a definitive max: [0. 0.]\n",
      "  warnings.warn(f\"edge {(u,v)} doesn't have a definitive max: {dist}\", category=RuntimeWarning)\n",
      "C:\\Users\\Brus\\Documents\\repos\\TemporalEdgeProp\\edge_prop\\models\\base_model.py:55: RuntimeWarning: edge ('5266', '5267') doesn't have a definitive max: [0. 0.]\n",
      "  warnings.warn(f\"edge {(u,v)} doesn't have a definitive max: {dist}\", category=RuntimeWarning)\n",
      "C:\\Users\\Brus\\Documents\\repos\\TemporalEdgeProp\\edge_prop\\models\\base_model.py:55: RuntimeWarning: edge ('5311', '5312') doesn't have a definitive max: [0. 0.]\n",
      "  warnings.warn(f\"edge {(u,v)} doesn't have a definitive max: {dist}\", category=RuntimeWarning)\n",
      "C:\\Users\\Brus\\Documents\\repos\\TemporalEdgeProp\\edge_prop\\models\\base_model.py:55: RuntimeWarning: edge ('5370', '5371') doesn't have a definitive max: [0. 0.]\n",
      "  warnings.warn(f\"edge {(u,v)} doesn't have a definitive max: {dist}\", category=RuntimeWarning)\n",
      "C:\\Users\\Brus\\Documents\\repos\\TemporalEdgeProp\\edge_prop\\models\\base_model.py:55: RuntimeWarning: edge ('5379', '5380') doesn't have a definitive max: [0. 0.]\n",
      "  warnings.warn(f\"edge {(u,v)} doesn't have a definitive max: {dist}\", category=RuntimeWarning)\n",
      "C:\\Users\\Brus\\Documents\\repos\\TemporalEdgeProp\\edge_prop\\models\\base_model.py:55: RuntimeWarning: edge ('5503', '5504') doesn't have a definitive max: [0. 0.]\n",
      "  warnings.warn(f\"edge {(u,v)} doesn't have a definitive max: {dist}\", category=RuntimeWarning)\n",
      "C:\\Users\\Brus\\Documents\\repos\\TemporalEdgeProp\\edge_prop\\models\\base_model.py:55: RuntimeWarning: edge ('5510', '5511') doesn't have a definitive max: [0. 0.]\n",
      "  warnings.warn(f\"edge {(u,v)} doesn't have a definitive max: {dist}\", category=RuntimeWarning)\n",
      "C:\\Users\\Brus\\Documents\\repos\\TemporalEdgeProp\\edge_prop\\models\\base_model.py:55: RuntimeWarning: edge ('5604', '5604') doesn't have a definitive max: [0. 0.]\n",
      "  warnings.warn(f\"edge {(u,v)} doesn't have a definitive max: {dist}\", category=RuntimeWarning)\n",
      "C:\\Users\\Brus\\Documents\\repos\\TemporalEdgeProp\\edge_prop\\models\\base_model.py:55: RuntimeWarning: edge ('6133', '6134') doesn't have a definitive max: [0. 0.]\n",
      "  warnings.warn(f\"edge {(u,v)} doesn't have a definitive max: {dist}\", category=RuntimeWarning)\n",
      "C:\\Users\\Brus\\Documents\\repos\\TemporalEdgeProp\\edge_prop\\models\\base_model.py:55: RuntimeWarning: edge ('6134', '6135') doesn't have a definitive max: [0. 0.]\n",
      "  warnings.warn(f\"edge {(u,v)} doesn't have a definitive max: {dist}\", category=RuntimeWarning)\n",
      "C:\\Users\\Brus\\Documents\\repos\\TemporalEdgeProp\\edge_prop\\models\\base_model.py:55: RuntimeWarning: edge ('6268', '6269') doesn't have a definitive max: [0. 0.]\n",
      "  warnings.warn(f\"edge {(u,v)} doesn't have a definitive max: {dist}\", category=RuntimeWarning)\n",
      "C:\\Users\\Brus\\Documents\\repos\\TemporalEdgeProp\\edge_prop\\models\\base_model.py:55: RuntimeWarning: edge ('6477', '6478') doesn't have a definitive max: [0. 0.]\n",
      "  warnings.warn(f\"edge {(u,v)} doesn't have a definitive max: {dist}\", category=RuntimeWarning)\n",
      "C:\\Users\\Brus\\Documents\\repos\\TemporalEdgeProp\\edge_prop\\models\\base_model.py:55: RuntimeWarning: edge ('6478', '6479') doesn't have a definitive max: [0. 0.]\n",
      "  warnings.warn(f\"edge {(u,v)} doesn't have a definitive max: {dist}\", category=RuntimeWarning)\n",
      "C:\\Users\\Brus\\Documents\\repos\\TemporalEdgeProp\\edge_prop\\models\\base_model.py:55: RuntimeWarning: edge ('6501', '6502') doesn't have a definitive max: [0. 0.]\n",
      "  warnings.warn(f\"edge {(u,v)} doesn't have a definitive max: {dist}\", category=RuntimeWarning)\n",
      "C:\\Users\\Brus\\Documents\\repos\\TemporalEdgeProp\\edge_prop\\models\\base_model.py:55: RuntimeWarning: edge ('6880', '6881') doesn't have a definitive max: [0. 0.]\n",
      "  warnings.warn(f\"edge {(u,v)} doesn't have a definitive max: {dist}\", category=RuntimeWarning)\n",
      "C:\\Users\\Brus\\Documents\\repos\\TemporalEdgeProp\\edge_prop\\models\\base_model.py:55: RuntimeWarning: edge ('6903', '6904') doesn't have a definitive max: [0. 0.]\n",
      "  warnings.warn(f\"edge {(u,v)} doesn't have a definitive max: {dist}\", category=RuntimeWarning)\n",
      "Fitting model: 100%|███████████████████████████████████████████████████████████████████████████████████████████████████████████████████████| 50/50 [00:00<00:00, 515.35iter/s, dif=1.52]\n",
      "C:\\Users\\Brus\\Documents\\repos\\TemporalEdgeProp\\edge_prop\\models\\base_model.py:55: RuntimeWarning: edge ('2106', '2107') doesn't have a definitive max: [0. 0.]\n",
      "  warnings.warn(f\"edge {(u,v)} doesn't have a definitive max: {dist}\", category=RuntimeWarning)\n",
      "C:\\Users\\Brus\\Documents\\repos\\TemporalEdgeProp\\edge_prop\\models\\base_model.py:55: RuntimeWarning: edge ('2911', '2912') doesn't have a definitive max: [0. 0.]\n",
      "  warnings.warn(f\"edge {(u,v)} doesn't have a definitive max: {dist}\", category=RuntimeWarning)\n",
      "C:\\Users\\Brus\\Documents\\repos\\TemporalEdgeProp\\edge_prop\\models\\base_model.py:55: RuntimeWarning: edge ('3758', '3759') doesn't have a definitive max: [0. 0.]\n",
      "  warnings.warn(f\"edge {(u,v)} doesn't have a definitive max: {dist}\", category=RuntimeWarning)\n",
      "C:\\Users\\Brus\\Documents\\repos\\TemporalEdgeProp\\edge_prop\\models\\base_model.py:55: RuntimeWarning: edge ('3759', '3759') doesn't have a definitive max: [0. 0.]\n",
      "  warnings.warn(f\"edge {(u,v)} doesn't have a definitive max: {dist}\", category=RuntimeWarning)\n",
      "C:\\Users\\Brus\\Documents\\repos\\TemporalEdgeProp\\edge_prop\\models\\base_model.py:55: RuntimeWarning: edge ('4072', '4073') doesn't have a definitive max: [0. 0.]\n",
      "  warnings.warn(f\"edge {(u,v)} doesn't have a definitive max: {dist}\", category=RuntimeWarning)\n",
      "C:\\Users\\Brus\\Documents\\repos\\TemporalEdgeProp\\edge_prop\\models\\base_model.py:55: RuntimeWarning: edge ('4797', '4798') doesn't have a definitive max: [0. 0.]\n",
      "  warnings.warn(f\"edge {(u,v)} doesn't have a definitive max: {dist}\", category=RuntimeWarning)\n",
      "C:\\Users\\Brus\\Documents\\repos\\TemporalEdgeProp\\edge_prop\\models\\base_model.py:55: RuntimeWarning: edge ('5045', '5045') doesn't have a definitive max: [0. 0.]\n",
      "  warnings.warn(f\"edge {(u,v)} doesn't have a definitive max: {dist}\", category=RuntimeWarning)\n",
      "C:\\Users\\Brus\\Documents\\repos\\TemporalEdgeProp\\edge_prop\\models\\base_model.py:55: RuntimeWarning: edge ('5266', '5267') doesn't have a definitive max: [0. 0.]\n",
      "  warnings.warn(f\"edge {(u,v)} doesn't have a definitive max: {dist}\", category=RuntimeWarning)\n",
      "C:\\Users\\Brus\\Documents\\repos\\TemporalEdgeProp\\edge_prop\\models\\base_model.py:55: RuntimeWarning: edge ('5311', '5312') doesn't have a definitive max: [0. 0.]\n",
      "  warnings.warn(f\"edge {(u,v)} doesn't have a definitive max: {dist}\", category=RuntimeWarning)\n",
      "C:\\Users\\Brus\\Documents\\repos\\TemporalEdgeProp\\edge_prop\\models\\base_model.py:55: RuntimeWarning: edge ('5370', '5371') doesn't have a definitive max: [0. 0.]\n",
      "  warnings.warn(f\"edge {(u,v)} doesn't have a definitive max: {dist}\", category=RuntimeWarning)\n",
      "C:\\Users\\Brus\\Documents\\repos\\TemporalEdgeProp\\edge_prop\\models\\base_model.py:55: RuntimeWarning: edge ('5379', '5380') doesn't have a definitive max: [0. 0.]\n",
      "  warnings.warn(f\"edge {(u,v)} doesn't have a definitive max: {dist}\", category=RuntimeWarning)\n",
      "C:\\Users\\Brus\\Documents\\repos\\TemporalEdgeProp\\edge_prop\\models\\base_model.py:55: RuntimeWarning: edge ('5503', '5504') doesn't have a definitive max: [0. 0.]\n",
      "  warnings.warn(f\"edge {(u,v)} doesn't have a definitive max: {dist}\", category=RuntimeWarning)\n",
      "C:\\Users\\Brus\\Documents\\repos\\TemporalEdgeProp\\edge_prop\\models\\base_model.py:55: RuntimeWarning: edge ('5510', '5511') doesn't have a definitive max: [0. 0.]\n",
      "  warnings.warn(f\"edge {(u,v)} doesn't have a definitive max: {dist}\", category=RuntimeWarning)\n",
      "C:\\Users\\Brus\\Documents\\repos\\TemporalEdgeProp\\edge_prop\\models\\base_model.py:55: RuntimeWarning: edge ('5604', '5604') doesn't have a definitive max: [0. 0.]\n",
      "  warnings.warn(f\"edge {(u,v)} doesn't have a definitive max: {dist}\", category=RuntimeWarning)\n",
      "C:\\Users\\Brus\\Documents\\repos\\TemporalEdgeProp\\edge_prop\\models\\base_model.py:55: RuntimeWarning: edge ('6133', '6134') doesn't have a definitive max: [0. 0.]\n",
      "  warnings.warn(f\"edge {(u,v)} doesn't have a definitive max: {dist}\", category=RuntimeWarning)\n",
      "C:\\Users\\Brus\\Documents\\repos\\TemporalEdgeProp\\edge_prop\\models\\base_model.py:55: RuntimeWarning: edge ('6134', '6135') doesn't have a definitive max: [0. 0.]\n",
      "  warnings.warn(f\"edge {(u,v)} doesn't have a definitive max: {dist}\", category=RuntimeWarning)\n",
      "C:\\Users\\Brus\\Documents\\repos\\TemporalEdgeProp\\edge_prop\\models\\base_model.py:55: RuntimeWarning: edge ('6268', '6269') doesn't have a definitive max: [0. 0.]\n",
      "  warnings.warn(f\"edge {(u,v)} doesn't have a definitive max: {dist}\", category=RuntimeWarning)\n",
      "C:\\Users\\Brus\\Documents\\repos\\TemporalEdgeProp\\edge_prop\\models\\base_model.py:55: RuntimeWarning: edge ('6477', '6478') doesn't have a definitive max: [0. 0.]\n",
      "  warnings.warn(f\"edge {(u,v)} doesn't have a definitive max: {dist}\", category=RuntimeWarning)\n",
      "C:\\Users\\Brus\\Documents\\repos\\TemporalEdgeProp\\edge_prop\\models\\base_model.py:55: RuntimeWarning: edge ('6478', '6479') doesn't have a definitive max: [0. 0.]\n",
      "  warnings.warn(f\"edge {(u,v)} doesn't have a definitive max: {dist}\", category=RuntimeWarning)\n",
      "C:\\Users\\Brus\\Documents\\repos\\TemporalEdgeProp\\edge_prop\\models\\base_model.py:55: RuntimeWarning: edge ('6501', '6502') doesn't have a definitive max: [0. 0.]\n",
      "  warnings.warn(f\"edge {(u,v)} doesn't have a definitive max: {dist}\", category=RuntimeWarning)\n",
      "C:\\Users\\Brus\\Documents\\repos\\TemporalEdgeProp\\edge_prop\\models\\base_model.py:55: RuntimeWarning: edge ('6880', '6881') doesn't have a definitive max: [0. 0.]\n",
      "  warnings.warn(f\"edge {(u,v)} doesn't have a definitive max: {dist}\", category=RuntimeWarning)\n",
      "C:\\Users\\Brus\\Documents\\repos\\TemporalEdgeProp\\edge_prop\\models\\base_model.py:55: RuntimeWarning: edge ('6903', '6904') doesn't have a definitive max: [0. 0.]\n",
      "  warnings.warn(f\"edge {(u,v)} doesn't have a definitive max: {dist}\", category=RuntimeWarning)\n"
     ]
    },
    {
     "data": {
      "application/vnd.jupyter.widget-view+json": {
       "model_id": "6cd4f3f44b3347a69bc7800b2659b394",
       "version_major": 2,
       "version_minor": 0
      },
      "text/plain": [
       "HBox(children=(FloatProgress(value=0.0, description='Fitting model', max=50.0, style=ProgressStyle(description…"
      ]
     },
     "metadata": {},
     "output_type": "display_data"
    },
    {
     "name": "stdout",
     "output_type": "stream",
     "text": [
      "\n"
     ]
    },
    {
     "name": "stderr",
     "output_type": "stream",
     "text": [
      "C:\\Users\\Brus\\Documents\\repos\\TemporalEdgeProp\\edge_prop\\models\\base_model.py:55: RuntimeWarning: edge ('2106', '2107') doesn't have a definitive max: [0. 0.]\n",
      "  warnings.warn(f\"edge {(u,v)} doesn't have a definitive max: {dist}\", category=RuntimeWarning)\n",
      "C:\\Users\\Brus\\Documents\\repos\\TemporalEdgeProp\\edge_prop\\models\\base_model.py:55: RuntimeWarning: edge ('3758', '3759') doesn't have a definitive max: [0. 0.]\n",
      "  warnings.warn(f\"edge {(u,v)} doesn't have a definitive max: {dist}\", category=RuntimeWarning)\n",
      "C:\\Users\\Brus\\Documents\\repos\\TemporalEdgeProp\\edge_prop\\models\\base_model.py:55: RuntimeWarning: edge ('3759', '3759') doesn't have a definitive max: [0. 0.]\n",
      "  warnings.warn(f\"edge {(u,v)} doesn't have a definitive max: {dist}\", category=RuntimeWarning)\n",
      "C:\\Users\\Brus\\Documents\\repos\\TemporalEdgeProp\\edge_prop\\models\\base_model.py:55: RuntimeWarning: edge ('5510', '5511') doesn't have a definitive max: [0. 0.]\n",
      "  warnings.warn(f\"edge {(u,v)} doesn't have a definitive max: {dist}\", category=RuntimeWarning)\n",
      "C:\\Users\\Brus\\Documents\\repos\\TemporalEdgeProp\\edge_prop\\models\\base_model.py:55: RuntimeWarning: edge ('5604', '5604') doesn't have a definitive max: [0. 0.]\n",
      "  warnings.warn(f\"edge {(u,v)} doesn't have a definitive max: {dist}\", category=RuntimeWarning)\n",
      "C:\\Users\\Brus\\Documents\\repos\\TemporalEdgeProp\\edge_prop\\models\\base_model.py:55: RuntimeWarning: edge ('6594', '6594') doesn't have a definitive max: [0. 0.]\n",
      "  warnings.warn(f\"edge {(u,v)} doesn't have a definitive max: {dist}\", category=RuntimeWarning)\n",
      "C:\\Users\\Brus\\Documents\\repos\\TemporalEdgeProp\\edge_prop\\models\\base_model.py:55: RuntimeWarning: edge ('6903', '6904') doesn't have a definitive max: [0. 0.]\n",
      "  warnings.warn(f\"edge {(u,v)} doesn't have a definitive max: {dist}\", category=RuntimeWarning)\n",
      "Fitting model:   0%|                                                                                                                             | 0/50 [00:00<?, ?iter/s, dif=0.000723]\n",
      "C:\\Users\\Brus\\Documents\\repos\\TemporalEdgeProp\\edge_prop\\models\\base_model.py:55: RuntimeWarning: edge ('2106', '2107') doesn't have a definitive max: [0. 0.]\n",
      "  warnings.warn(f\"edge {(u,v)} doesn't have a definitive max: {dist}\", category=RuntimeWarning)\n",
      "C:\\Users\\Brus\\Documents\\repos\\TemporalEdgeProp\\edge_prop\\models\\base_model.py:55: RuntimeWarning: edge ('3758', '3759') doesn't have a definitive max: [0. 0.]\n",
      "  warnings.warn(f\"edge {(u,v)} doesn't have a definitive max: {dist}\", category=RuntimeWarning)\n",
      "C:\\Users\\Brus\\Documents\\repos\\TemporalEdgeProp\\edge_prop\\models\\base_model.py:55: RuntimeWarning: edge ('3759', '3759') doesn't have a definitive max: [0. 0.]\n",
      "  warnings.warn(f\"edge {(u,v)} doesn't have a definitive max: {dist}\", category=RuntimeWarning)\n",
      "C:\\Users\\Brus\\Documents\\repos\\TemporalEdgeProp\\edge_prop\\models\\base_model.py:55: RuntimeWarning: edge ('5510', '5511') doesn't have a definitive max: [0. 0.]\n",
      "  warnings.warn(f\"edge {(u,v)} doesn't have a definitive max: {dist}\", category=RuntimeWarning)\n",
      "C:\\Users\\Brus\\Documents\\repos\\TemporalEdgeProp\\edge_prop\\models\\base_model.py:55: RuntimeWarning: edge ('5604', '5604') doesn't have a definitive max: [0. 0.]\n",
      "  warnings.warn(f\"edge {(u,v)} doesn't have a definitive max: {dist}\", category=RuntimeWarning)\n",
      "C:\\Users\\Brus\\Documents\\repos\\TemporalEdgeProp\\edge_prop\\models\\base_model.py:55: RuntimeWarning: edge ('6594', '6594') doesn't have a definitive max: [0. 0.]\n",
      "  warnings.warn(f\"edge {(u,v)} doesn't have a definitive max: {dist}\", category=RuntimeWarning)\n",
      "C:\\Users\\Brus\\Documents\\repos\\TemporalEdgeProp\\edge_prop\\models\\base_model.py:55: RuntimeWarning: edge ('6903', '6904') doesn't have a definitive max: [0. 0.]\n",
      "  warnings.warn(f\"edge {(u,v)} doesn't have a definitive max: {dist}\", category=RuntimeWarning)\n"
     ]
    },
    {
     "data": {
      "application/vnd.jupyter.widget-view+json": {
       "model_id": "dc20c4449ab04c439f95342677141716",
       "version_major": 2,
       "version_minor": 0
      },
      "text/plain": [
       "HBox(children=(FloatProgress(value=0.0, description='Fitting model', max=50.0, style=ProgressStyle(description…"
      ]
     },
     "metadata": {},
     "output_type": "display_data"
    },
    {
     "name": "stdout",
     "output_type": "stream",
     "text": [
      "\n"
     ]
    },
    {
     "name": "stderr",
     "output_type": "stream",
     "text": [
      "C:\\Users\\Brus\\Documents\\repos\\TemporalEdgeProp\\edge_prop\\models\\base_model.py:55: RuntimeWarning: edge ('2911', '2912') doesn't have a definitive max: [0. 0.]\n",
      "  warnings.warn(f\"edge {(u,v)} doesn't have a definitive max: {dist}\", category=RuntimeWarning)\n",
      "C:\\Users\\Brus\\Documents\\repos\\TemporalEdgeProp\\edge_prop\\models\\base_model.py:55: RuntimeWarning: edge ('4072', '4073') doesn't have a definitive max: [0. 0.]\n",
      "  warnings.warn(f\"edge {(u,v)} doesn't have a definitive max: {dist}\", category=RuntimeWarning)\n",
      "C:\\Users\\Brus\\Documents\\repos\\TemporalEdgeProp\\edge_prop\\models\\base_model.py:55: RuntimeWarning: edge ('5025', '5026') doesn't have a definitive max: [0. 0.]\n",
      "  warnings.warn(f\"edge {(u,v)} doesn't have a definitive max: {dist}\", category=RuntimeWarning)\n",
      "C:\\Users\\Brus\\Documents\\repos\\TemporalEdgeProp\\edge_prop\\models\\base_model.py:55: RuntimeWarning: edge ('5311', '5312') doesn't have a definitive max: [0. 0.]\n",
      "  warnings.warn(f\"edge {(u,v)} doesn't have a definitive max: {dist}\", category=RuntimeWarning)\n",
      "C:\\Users\\Brus\\Documents\\repos\\TemporalEdgeProp\\edge_prop\\models\\base_model.py:55: RuntimeWarning: edge ('5379', '5380') doesn't have a definitive max: [0. 0.]\n",
      "  warnings.warn(f\"edge {(u,v)} doesn't have a definitive max: {dist}\", category=RuntimeWarning)\n",
      "C:\\Users\\Brus\\Documents\\repos\\TemporalEdgeProp\\edge_prop\\models\\base_model.py:55: RuntimeWarning: edge ('5510', '5511') doesn't have a definitive max: [0. 0.]\n",
      "  warnings.warn(f\"edge {(u,v)} doesn't have a definitive max: {dist}\", category=RuntimeWarning)\n",
      "C:\\Users\\Brus\\Documents\\repos\\TemporalEdgeProp\\edge_prop\\models\\base_model.py:55: RuntimeWarning: edge ('6133', '6134') doesn't have a definitive max: [0. 0.]\n",
      "  warnings.warn(f\"edge {(u,v)} doesn't have a definitive max: {dist}\", category=RuntimeWarning)\n",
      "C:\\Users\\Brus\\Documents\\repos\\TemporalEdgeProp\\edge_prop\\models\\base_model.py:55: RuntimeWarning: edge ('6134', '6135') doesn't have a definitive max: [0. 0.]\n",
      "  warnings.warn(f\"edge {(u,v)} doesn't have a definitive max: {dist}\", category=RuntimeWarning)\n",
      "C:\\Users\\Brus\\Documents\\repos\\TemporalEdgeProp\\edge_prop\\models\\base_model.py:55: RuntimeWarning: edge ('6477', '6478') doesn't have a definitive max: [0. 0.]\n",
      "  warnings.warn(f\"edge {(u,v)} doesn't have a definitive max: {dist}\", category=RuntimeWarning)\n",
      "C:\\Users\\Brus\\Documents\\repos\\TemporalEdgeProp\\edge_prop\\models\\base_model.py:55: RuntimeWarning: edge ('6478', '6479') doesn't have a definitive max: [0. 0.]\n",
      "  warnings.warn(f\"edge {(u,v)} doesn't have a definitive max: {dist}\", category=RuntimeWarning)\n",
      "C:\\Users\\Brus\\Documents\\repos\\TemporalEdgeProp\\edge_prop\\models\\base_model.py:55: RuntimeWarning: edge ('6501', '6502') doesn't have a definitive max: [0. 0.]\n",
      "  warnings.warn(f\"edge {(u,v)} doesn't have a definitive max: {dist}\", category=RuntimeWarning)\n",
      "C:\\Users\\Brus\\Documents\\repos\\TemporalEdgeProp\\edge_prop\\models\\base_model.py:55: RuntimeWarning: edge ('6594', '6594') doesn't have a definitive max: [0. 0.]\n",
      "  warnings.warn(f\"edge {(u,v)} doesn't have a definitive max: {dist}\", category=RuntimeWarning)\n",
      "C:\\Users\\Brus\\Documents\\repos\\TemporalEdgeProp\\edge_prop\\models\\base_model.py:55: RuntimeWarning: edge ('6872', '6873') doesn't have a definitive max: [0. 0.]\n",
      "  warnings.warn(f\"edge {(u,v)} doesn't have a definitive max: {dist}\", category=RuntimeWarning)\n",
      "C:\\Users\\Brus\\Documents\\repos\\TemporalEdgeProp\\edge_prop\\models\\base_model.py:55: RuntimeWarning: edge ('6880', '6881') doesn't have a definitive max: [0. 0.]\n",
      "  warnings.warn(f\"edge {(u,v)} doesn't have a definitive max: {dist}\", category=RuntimeWarning)\n",
      "C:\\Users\\Brus\\Documents\\repos\\TemporalEdgeProp\\edge_prop\\models\\base_model.py:55: RuntimeWarning: edge ('6948', '6949') doesn't have a definitive max: [0. 0.]\n",
      "  warnings.warn(f\"edge {(u,v)} doesn't have a definitive max: {dist}\", category=RuntimeWarning)\n",
      "C:\\Users\\Brus\\Documents\\repos\\TemporalEdgeProp\\edge_prop\\models\\base_model.py:55: RuntimeWarning: edge ('6949', '6950') doesn't have a definitive max: [0. 0.]\n",
      "  warnings.warn(f\"edge {(u,v)} doesn't have a definitive max: {dist}\", category=RuntimeWarning)\n",
      "Fitting model:   0%|                                                                                                                             | 0/50 [00:00<?, ?iter/s, dif=0.000622]\n",
      "C:\\Users\\Brus\\Documents\\repos\\TemporalEdgeProp\\edge_prop\\models\\base_model.py:55: RuntimeWarning: edge ('2911', '2912') doesn't have a definitive max: [0. 0.]\n",
      "  warnings.warn(f\"edge {(u,v)} doesn't have a definitive max: {dist}\", category=RuntimeWarning)\n",
      "C:\\Users\\Brus\\Documents\\repos\\TemporalEdgeProp\\edge_prop\\models\\base_model.py:55: RuntimeWarning: edge ('4072', '4073') doesn't have a definitive max: [0. 0.]\n",
      "  warnings.warn(f\"edge {(u,v)} doesn't have a definitive max: {dist}\", category=RuntimeWarning)\n",
      "C:\\Users\\Brus\\Documents\\repos\\TemporalEdgeProp\\edge_prop\\models\\base_model.py:55: RuntimeWarning: edge ('5025', '5026') doesn't have a definitive max: [0. 0.]\n",
      "  warnings.warn(f\"edge {(u,v)} doesn't have a definitive max: {dist}\", category=RuntimeWarning)\n",
      "C:\\Users\\Brus\\Documents\\repos\\TemporalEdgeProp\\edge_prop\\models\\base_model.py:55: RuntimeWarning: edge ('5311', '5312') doesn't have a definitive max: [0. 0.]\n",
      "  warnings.warn(f\"edge {(u,v)} doesn't have a definitive max: {dist}\", category=RuntimeWarning)\n",
      "C:\\Users\\Brus\\Documents\\repos\\TemporalEdgeProp\\edge_prop\\models\\base_model.py:55: RuntimeWarning: edge ('5379', '5380') doesn't have a definitive max: [0. 0.]\n",
      "  warnings.warn(f\"edge {(u,v)} doesn't have a definitive max: {dist}\", category=RuntimeWarning)\n",
      "C:\\Users\\Brus\\Documents\\repos\\TemporalEdgeProp\\edge_prop\\models\\base_model.py:55: RuntimeWarning: edge ('5510', '5511') doesn't have a definitive max: [0. 0.]\n",
      "  warnings.warn(f\"edge {(u,v)} doesn't have a definitive max: {dist}\", category=RuntimeWarning)\n",
      "C:\\Users\\Brus\\Documents\\repos\\TemporalEdgeProp\\edge_prop\\models\\base_model.py:55: RuntimeWarning: edge ('6133', '6134') doesn't have a definitive max: [0. 0.]\n",
      "  warnings.warn(f\"edge {(u,v)} doesn't have a definitive max: {dist}\", category=RuntimeWarning)\n",
      "C:\\Users\\Brus\\Documents\\repos\\TemporalEdgeProp\\edge_prop\\models\\base_model.py:55: RuntimeWarning: edge ('6134', '6135') doesn't have a definitive max: [0. 0.]\n",
      "  warnings.warn(f\"edge {(u,v)} doesn't have a definitive max: {dist}\", category=RuntimeWarning)\n",
      "C:\\Users\\Brus\\Documents\\repos\\TemporalEdgeProp\\edge_prop\\models\\base_model.py:55: RuntimeWarning: edge ('6477', '6478') doesn't have a definitive max: [0. 0.]\n",
      "  warnings.warn(f\"edge {(u,v)} doesn't have a definitive max: {dist}\", category=RuntimeWarning)\n",
      "C:\\Users\\Brus\\Documents\\repos\\TemporalEdgeProp\\edge_prop\\models\\base_model.py:55: RuntimeWarning: edge ('6478', '6479') doesn't have a definitive max: [0. 0.]\n",
      "  warnings.warn(f\"edge {(u,v)} doesn't have a definitive max: {dist}\", category=RuntimeWarning)\n",
      "C:\\Users\\Brus\\Documents\\repos\\TemporalEdgeProp\\edge_prop\\models\\base_model.py:55: RuntimeWarning: edge ('6501', '6502') doesn't have a definitive max: [0. 0.]\n",
      "  warnings.warn(f\"edge {(u,v)} doesn't have a definitive max: {dist}\", category=RuntimeWarning)\n",
      "C:\\Users\\Brus\\Documents\\repos\\TemporalEdgeProp\\edge_prop\\models\\base_model.py:55: RuntimeWarning: edge ('6594', '6594') doesn't have a definitive max: [0. 0.]\n",
      "  warnings.warn(f\"edge {(u,v)} doesn't have a definitive max: {dist}\", category=RuntimeWarning)\n",
      "C:\\Users\\Brus\\Documents\\repos\\TemporalEdgeProp\\edge_prop\\models\\base_model.py:55: RuntimeWarning: edge ('6872', '6873') doesn't have a definitive max: [0. 0.]\n",
      "  warnings.warn(f\"edge {(u,v)} doesn't have a definitive max: {dist}\", category=RuntimeWarning)\n",
      "C:\\Users\\Brus\\Documents\\repos\\TemporalEdgeProp\\edge_prop\\models\\base_model.py:55: RuntimeWarning: edge ('6880', '6881') doesn't have a definitive max: [0. 0.]\n",
      "  warnings.warn(f\"edge {(u,v)} doesn't have a definitive max: {dist}\", category=RuntimeWarning)\n",
      "C:\\Users\\Brus\\Documents\\repos\\TemporalEdgeProp\\edge_prop\\models\\base_model.py:55: RuntimeWarning: edge ('6948', '6949') doesn't have a definitive max: [0. 0.]\n",
      "  warnings.warn(f\"edge {(u,v)} doesn't have a definitive max: {dist}\", category=RuntimeWarning)\n",
      "C:\\Users\\Brus\\Documents\\repos\\TemporalEdgeProp\\edge_prop\\models\\base_model.py:55: RuntimeWarning: edge ('6949', '6950') doesn't have a definitive max: [0. 0.]\n",
      "  warnings.warn(f\"edge {(u,v)} doesn't have a definitive max: {dist}\", category=RuntimeWarning)\n"
     ]
    },
    {
     "data": {
      "application/vnd.jupyter.widget-view+json": {
       "model_id": "f745dc2776984bf0b4566c431b6f1676",
       "version_major": 2,
       "version_minor": 0
      },
      "text/plain": [
       "HBox(children=(FloatProgress(value=0.0, description='Fitting model', max=50.0, style=ProgressStyle(description…"
      ]
     },
     "metadata": {},
     "output_type": "display_data"
    },
    {
     "name": "stdout",
     "output_type": "stream",
     "text": [
      "\n"
     ]
    },
    {
     "name": "stderr",
     "output_type": "stream",
     "text": [
      "C:\\Users\\Brus\\Documents\\repos\\TemporalEdgeProp\\edge_prop\\models\\dense_edge_propagation.py:80: ConvergenceWarning: max_iter was reached without convergence\n",
      "  warnings.warn(\"max_iter was reached without convergence\", category=ConvergenceWarning)\n",
      "C:\\Users\\Brus\\Documents\\repos\\TemporalEdgeProp\\edge_prop\\models\\base_model.py:55: RuntimeWarning: edge ('2911', '2912') doesn't have a definitive max: [0. 0.]\n",
      "  warnings.warn(f\"edge {(u,v)} doesn't have a definitive max: {dist}\", category=RuntimeWarning)\n",
      "C:\\Users\\Brus\\Documents\\repos\\TemporalEdgeProp\\edge_prop\\models\\base_model.py:55: RuntimeWarning: edge ('4072', '4073') doesn't have a definitive max: [0. 0.]\n",
      "  warnings.warn(f\"edge {(u,v)} doesn't have a definitive max: {dist}\", category=RuntimeWarning)\n",
      "C:\\Users\\Brus\\Documents\\repos\\TemporalEdgeProp\\edge_prop\\models\\base_model.py:55: RuntimeWarning: edge ('4797', '4798') doesn't have a definitive max: [0. 0.]\n",
      "  warnings.warn(f\"edge {(u,v)} doesn't have a definitive max: {dist}\", category=RuntimeWarning)\n",
      "C:\\Users\\Brus\\Documents\\repos\\TemporalEdgeProp\\edge_prop\\models\\base_model.py:55: RuntimeWarning: edge ('5025', '5026') doesn't have a definitive max: [0. 0.]\n",
      "  warnings.warn(f\"edge {(u,v)} doesn't have a definitive max: {dist}\", category=RuntimeWarning)\n",
      "C:\\Users\\Brus\\Documents\\repos\\TemporalEdgeProp\\edge_prop\\models\\base_model.py:55: RuntimeWarning: edge ('5098', '5099') doesn't have a definitive max: [0. 0.]\n",
      "  warnings.warn(f\"edge {(u,v)} doesn't have a definitive max: {dist}\", category=RuntimeWarning)\n",
      "C:\\Users\\Brus\\Documents\\repos\\TemporalEdgeProp\\edge_prop\\models\\base_model.py:55: RuntimeWarning: edge ('5266', '5267') doesn't have a definitive max: [0. 0.]\n",
      "  warnings.warn(f\"edge {(u,v)} doesn't have a definitive max: {dist}\", category=RuntimeWarning)\n",
      "C:\\Users\\Brus\\Documents\\repos\\TemporalEdgeProp\\edge_prop\\models\\base_model.py:55: RuntimeWarning: edge ('5311', '5312') doesn't have a definitive max: [0. 0.]\n",
      "  warnings.warn(f\"edge {(u,v)} doesn't have a definitive max: {dist}\", category=RuntimeWarning)\n",
      "C:\\Users\\Brus\\Documents\\repos\\TemporalEdgeProp\\edge_prop\\models\\base_model.py:55: RuntimeWarning: edge ('5370', '5371') doesn't have a definitive max: [0. 0.]\n",
      "  warnings.warn(f\"edge {(u,v)} doesn't have a definitive max: {dist}\", category=RuntimeWarning)\n",
      "C:\\Users\\Brus\\Documents\\repos\\TemporalEdgeProp\\edge_prop\\models\\base_model.py:55: RuntimeWarning: edge ('5379', '5380') doesn't have a definitive max: [0. 0.]\n",
      "  warnings.warn(f\"edge {(u,v)} doesn't have a definitive max: {dist}\", category=RuntimeWarning)\n",
      "C:\\Users\\Brus\\Documents\\repos\\TemporalEdgeProp\\edge_prop\\models\\base_model.py:55: RuntimeWarning: edge ('5604', '5604') doesn't have a definitive max: [0. 0.]\n",
      "  warnings.warn(f\"edge {(u,v)} doesn't have a definitive max: {dist}\", category=RuntimeWarning)\n",
      "C:\\Users\\Brus\\Documents\\repos\\TemporalEdgeProp\\edge_prop\\models\\base_model.py:55: RuntimeWarning: edge ('6268', '6269') doesn't have a definitive max: [0. 0.]\n",
      "  warnings.warn(f\"edge {(u,v)} doesn't have a definitive max: {dist}\", category=RuntimeWarning)\n",
      "C:\\Users\\Brus\\Documents\\repos\\TemporalEdgeProp\\edge_prop\\models\\base_model.py:55: RuntimeWarning: edge ('6273', '6274') doesn't have a definitive max: [0. 0.]\n",
      "  warnings.warn(f\"edge {(u,v)} doesn't have a definitive max: {dist}\", category=RuntimeWarning)\n",
      "C:\\Users\\Brus\\Documents\\repos\\TemporalEdgeProp\\edge_prop\\models\\base_model.py:55: RuntimeWarning: edge ('6501', '6502') doesn't have a definitive max: [0. 0.]\n",
      "  warnings.warn(f\"edge {(u,v)} doesn't have a definitive max: {dist}\", category=RuntimeWarning)\n",
      "C:\\Users\\Brus\\Documents\\repos\\TemporalEdgeProp\\edge_prop\\models\\base_model.py:55: RuntimeWarning: edge ('6594', '6594') doesn't have a definitive max: [0. 0.]\n",
      "  warnings.warn(f\"edge {(u,v)} doesn't have a definitive max: {dist}\", category=RuntimeWarning)\n",
      "C:\\Users\\Brus\\Documents\\repos\\TemporalEdgeProp\\edge_prop\\models\\base_model.py:55: RuntimeWarning: edge ('6872', '6873') doesn't have a definitive max: [0. 0.]\n",
      "  warnings.warn(f\"edge {(u,v)} doesn't have a definitive max: {dist}\", category=RuntimeWarning)\n",
      "C:\\Users\\Brus\\Documents\\repos\\TemporalEdgeProp\\edge_prop\\models\\base_model.py:55: RuntimeWarning: edge ('6880', '6881') doesn't have a definitive max: [0. 0.]\n",
      "  warnings.warn(f\"edge {(u,v)} doesn't have a definitive max: {dist}\", category=RuntimeWarning)\n",
      "C:\\Users\\Brus\\Documents\\repos\\TemporalEdgeProp\\edge_prop\\models\\base_model.py:55: RuntimeWarning: edge ('6903', '6904') doesn't have a definitive max: [0. 0.]\n",
      "  warnings.warn(f\"edge {(u,v)} doesn't have a definitive max: {dist}\", category=RuntimeWarning)\n",
      "C:\\Users\\Brus\\Documents\\repos\\TemporalEdgeProp\\edge_prop\\models\\base_model.py:55: RuntimeWarning: edge ('6948', '6949') doesn't have a definitive max: [0. 0.]\n",
      "  warnings.warn(f\"edge {(u,v)} doesn't have a definitive max: {dist}\", category=RuntimeWarning)\n",
      "C:\\Users\\Brus\\Documents\\repos\\TemporalEdgeProp\\edge_prop\\models\\base_model.py:55: RuntimeWarning: edge ('6949', '6950') doesn't have a definitive max: [0. 0.]\n",
      "  warnings.warn(f\"edge {(u,v)} doesn't have a definitive max: {dist}\", category=RuntimeWarning)\n",
      "Fitting model: 100%|████████████████████████████████████████████████████████████████████████████████████████████████████████████████████| 50/50 [00:00<00:00, 490.86iter/s, dif=0.00185]\n",
      "C:\\Users\\Brus\\Documents\\repos\\TemporalEdgeProp\\edge_prop\\models\\base_model.py:55: RuntimeWarning: edge ('2911', '2912') doesn't have a definitive max: [0. 0.]\n",
      "  warnings.warn(f\"edge {(u,v)} doesn't have a definitive max: {dist}\", category=RuntimeWarning)\n",
      "C:\\Users\\Brus\\Documents\\repos\\TemporalEdgeProp\\edge_prop\\models\\base_model.py:55: RuntimeWarning: edge ('4072', '4073') doesn't have a definitive max: [0. 0.]\n",
      "  warnings.warn(f\"edge {(u,v)} doesn't have a definitive max: {dist}\", category=RuntimeWarning)\n",
      "C:\\Users\\Brus\\Documents\\repos\\TemporalEdgeProp\\edge_prop\\models\\base_model.py:55: RuntimeWarning: edge ('4797', '4798') doesn't have a definitive max: [0. 0.]\n",
      "  warnings.warn(f\"edge {(u,v)} doesn't have a definitive max: {dist}\", category=RuntimeWarning)\n",
      "C:\\Users\\Brus\\Documents\\repos\\TemporalEdgeProp\\edge_prop\\models\\base_model.py:55: RuntimeWarning: edge ('5025', '5026') doesn't have a definitive max: [0. 0.]\n",
      "  warnings.warn(f\"edge {(u,v)} doesn't have a definitive max: {dist}\", category=RuntimeWarning)\n",
      "C:\\Users\\Brus\\Documents\\repos\\TemporalEdgeProp\\edge_prop\\models\\base_model.py:55: RuntimeWarning: edge ('5098', '5099') doesn't have a definitive max: [0. 0.]\n",
      "  warnings.warn(f\"edge {(u,v)} doesn't have a definitive max: {dist}\", category=RuntimeWarning)\n",
      "C:\\Users\\Brus\\Documents\\repos\\TemporalEdgeProp\\edge_prop\\models\\base_model.py:55: RuntimeWarning: edge ('5266', '5267') doesn't have a definitive max: [0. 0.]\n",
      "  warnings.warn(f\"edge {(u,v)} doesn't have a definitive max: {dist}\", category=RuntimeWarning)\n",
      "C:\\Users\\Brus\\Documents\\repos\\TemporalEdgeProp\\edge_prop\\models\\base_model.py:55: RuntimeWarning: edge ('5311', '5312') doesn't have a definitive max: [0. 0.]\n",
      "  warnings.warn(f\"edge {(u,v)} doesn't have a definitive max: {dist}\", category=RuntimeWarning)\n",
      "C:\\Users\\Brus\\Documents\\repos\\TemporalEdgeProp\\edge_prop\\models\\base_model.py:55: RuntimeWarning: edge ('5370', '5371') doesn't have a definitive max: [0. 0.]\n",
      "  warnings.warn(f\"edge {(u,v)} doesn't have a definitive max: {dist}\", category=RuntimeWarning)\n",
      "C:\\Users\\Brus\\Documents\\repos\\TemporalEdgeProp\\edge_prop\\models\\base_model.py:55: RuntimeWarning: edge ('5379', '5380') doesn't have a definitive max: [0. 0.]\n",
      "  warnings.warn(f\"edge {(u,v)} doesn't have a definitive max: {dist}\", category=RuntimeWarning)\n",
      "C:\\Users\\Brus\\Documents\\repos\\TemporalEdgeProp\\edge_prop\\models\\base_model.py:55: RuntimeWarning: edge ('5604', '5604') doesn't have a definitive max: [0. 0.]\n",
      "  warnings.warn(f\"edge {(u,v)} doesn't have a definitive max: {dist}\", category=RuntimeWarning)\n",
      "C:\\Users\\Brus\\Documents\\repos\\TemporalEdgeProp\\edge_prop\\models\\base_model.py:55: RuntimeWarning: edge ('6268', '6269') doesn't have a definitive max: [0. 0.]\n",
      "  warnings.warn(f\"edge {(u,v)} doesn't have a definitive max: {dist}\", category=RuntimeWarning)\n",
      "C:\\Users\\Brus\\Documents\\repos\\TemporalEdgeProp\\edge_prop\\models\\base_model.py:55: RuntimeWarning: edge ('6273', '6274') doesn't have a definitive max: [0. 0.]\n",
      "  warnings.warn(f\"edge {(u,v)} doesn't have a definitive max: {dist}\", category=RuntimeWarning)\n",
      "C:\\Users\\Brus\\Documents\\repos\\TemporalEdgeProp\\edge_prop\\models\\base_model.py:55: RuntimeWarning: edge ('6501', '6502') doesn't have a definitive max: [0. 0.]\n",
      "  warnings.warn(f\"edge {(u,v)} doesn't have a definitive max: {dist}\", category=RuntimeWarning)\n",
      "C:\\Users\\Brus\\Documents\\repos\\TemporalEdgeProp\\edge_prop\\models\\base_model.py:55: RuntimeWarning: edge ('6594', '6594') doesn't have a definitive max: [0. 0.]\n",
      "  warnings.warn(f\"edge {(u,v)} doesn't have a definitive max: {dist}\", category=RuntimeWarning)\n",
      "C:\\Users\\Brus\\Documents\\repos\\TemporalEdgeProp\\edge_prop\\models\\base_model.py:55: RuntimeWarning: edge ('6872', '6873') doesn't have a definitive max: [0. 0.]\n",
      "  warnings.warn(f\"edge {(u,v)} doesn't have a definitive max: {dist}\", category=RuntimeWarning)\n",
      "C:\\Users\\Brus\\Documents\\repos\\TemporalEdgeProp\\edge_prop\\models\\base_model.py:55: RuntimeWarning: edge ('6880', '6881') doesn't have a definitive max: [0. 0.]\n",
      "  warnings.warn(f\"edge {(u,v)} doesn't have a definitive max: {dist}\", category=RuntimeWarning)\n",
      "C:\\Users\\Brus\\Documents\\repos\\TemporalEdgeProp\\edge_prop\\models\\base_model.py:55: RuntimeWarning: edge ('6903', '6904') doesn't have a definitive max: [0. 0.]\n",
      "  warnings.warn(f\"edge {(u,v)} doesn't have a definitive max: {dist}\", category=RuntimeWarning)\n",
      "C:\\Users\\Brus\\Documents\\repos\\TemporalEdgeProp\\edge_prop\\models\\base_model.py:55: RuntimeWarning: edge ('6948', '6949') doesn't have a definitive max: [0. 0.]\n",
      "  warnings.warn(f\"edge {(u,v)} doesn't have a definitive max: {dist}\", category=RuntimeWarning)\n",
      "C:\\Users\\Brus\\Documents\\repos\\TemporalEdgeProp\\edge_prop\\models\\base_model.py:55: RuntimeWarning: edge ('6949', '6950') doesn't have a definitive max: [0. 0.]\n",
      "  warnings.warn(f\"edge {(u,v)} doesn't have a definitive max: {dist}\", category=RuntimeWarning)\n"
     ]
    },
    {
     "data": {
      "application/vnd.jupyter.widget-view+json": {
       "model_id": "a449d73f5772448fba22170e3977f667",
       "version_major": 2,
       "version_minor": 0
      },
      "text/plain": [
       "HBox(children=(FloatProgress(value=0.0, description='Fitting model', max=50.0, style=ProgressStyle(description…"
      ]
     },
     "metadata": {},
     "output_type": "display_data"
    },
    {
     "name": "stdout",
     "output_type": "stream",
     "text": [
      "\n"
     ]
    },
    {
     "name": "stderr",
     "output_type": "stream",
     "text": [
      "C:\\Users\\Brus\\Documents\\repos\\TemporalEdgeProp\\edge_prop\\models\\base_model.py:55: RuntimeWarning: edge ('5604', '5604') doesn't have a definitive max: [0. 0.]\n",
      "  warnings.warn(f\"edge {(u,v)} doesn't have a definitive max: {dist}\", category=RuntimeWarning)\n",
      "C:\\Users\\Brus\\Documents\\repos\\TemporalEdgeProp\\edge_prop\\models\\base_model.py:55: RuntimeWarning: edge ('6268', '6269') doesn't have a definitive max: [0. 0.]\n",
      "  warnings.warn(f\"edge {(u,v)} doesn't have a definitive max: {dist}\", category=RuntimeWarning)\n",
      "C:\\Users\\Brus\\Documents\\repos\\TemporalEdgeProp\\edge_prop\\models\\base_model.py:55: RuntimeWarning: edge ('6273', '6274') doesn't have a definitive max: [0. 0.]\n",
      "  warnings.warn(f\"edge {(u,v)} doesn't have a definitive max: {dist}\", category=RuntimeWarning)\n",
      "Fitting model:   0%|                                                                                                                             | 0/50 [00:00<?, ?iter/s, dif=0.000534]\n",
      "C:\\Users\\Brus\\Documents\\repos\\TemporalEdgeProp\\edge_prop\\models\\base_model.py:55: RuntimeWarning: edge ('5604', '5604') doesn't have a definitive max: [0. 0.]\n",
      "  warnings.warn(f\"edge {(u,v)} doesn't have a definitive max: {dist}\", category=RuntimeWarning)\n",
      "C:\\Users\\Brus\\Documents\\repos\\TemporalEdgeProp\\edge_prop\\models\\base_model.py:55: RuntimeWarning: edge ('6268', '6269') doesn't have a definitive max: [0. 0.]\n",
      "  warnings.warn(f\"edge {(u,v)} doesn't have a definitive max: {dist}\", category=RuntimeWarning)\n",
      "C:\\Users\\Brus\\Documents\\repos\\TemporalEdgeProp\\edge_prop\\models\\base_model.py:55: RuntimeWarning: edge ('6273', '6274') doesn't have a definitive max: [0. 0.]\n",
      "  warnings.warn(f\"edge {(u,v)} doesn't have a definitive max: {dist}\", category=RuntimeWarning)\n"
     ]
    },
    {
     "data": {
      "application/vnd.jupyter.widget-view+json": {
       "model_id": "fb8bde509bd94dd593000b158767bc20",
       "version_major": 2,
       "version_minor": 0
      },
      "text/plain": [
       "HBox(children=(FloatProgress(value=0.0, description='Fitting model', max=50.0, style=ProgressStyle(description…"
      ]
     },
     "metadata": {},
     "output_type": "display_data"
    },
    {
     "name": "stdout",
     "output_type": "stream",
     "text": [
      "\n"
     ]
    },
    {
     "name": "stderr",
     "output_type": "stream",
     "text": [
      "C:\\Users\\Brus\\Documents\\repos\\TemporalEdgeProp\\edge_prop\\models\\base_model.py:55: RuntimeWarning: edge ('2106', '2107') doesn't have a definitive max: [0. 0.]\n",
      "  warnings.warn(f\"edge {(u,v)} doesn't have a definitive max: {dist}\", category=RuntimeWarning)\n",
      "C:\\Users\\Brus\\Documents\\repos\\TemporalEdgeProp\\edge_prop\\models\\base_model.py:55: RuntimeWarning: edge ('2911', '2912') doesn't have a definitive max: [0. 0.]\n",
      "  warnings.warn(f\"edge {(u,v)} doesn't have a definitive max: {dist}\", category=RuntimeWarning)\n",
      "C:\\Users\\Brus\\Documents\\repos\\TemporalEdgeProp\\edge_prop\\models\\base_model.py:55: RuntimeWarning: edge ('2963', '2964') doesn't have a definitive max: [0. 0.]\n",
      "  warnings.warn(f\"edge {(u,v)} doesn't have a definitive max: {dist}\", category=RuntimeWarning)\n",
      "C:\\Users\\Brus\\Documents\\repos\\TemporalEdgeProp\\edge_prop\\models\\base_model.py:55: RuntimeWarning: edge ('4797', '4798') doesn't have a definitive max: [0. 0.]\n",
      "  warnings.warn(f\"edge {(u,v)} doesn't have a definitive max: {dist}\", category=RuntimeWarning)\n",
      "C:\\Users\\Brus\\Documents\\repos\\TemporalEdgeProp\\edge_prop\\models\\base_model.py:55: RuntimeWarning: edge ('5045', '5045') doesn't have a definitive max: [0. 0.]\n",
      "  warnings.warn(f\"edge {(u,v)} doesn't have a definitive max: {dist}\", category=RuntimeWarning)\n",
      "C:\\Users\\Brus\\Documents\\repos\\TemporalEdgeProp\\edge_prop\\models\\base_model.py:55: RuntimeWarning: edge ('5098', '5099') doesn't have a definitive max: [0. 0.]\n",
      "  warnings.warn(f\"edge {(u,v)} doesn't have a definitive max: {dist}\", category=RuntimeWarning)\n",
      "C:\\Users\\Brus\\Documents\\repos\\TemporalEdgeProp\\edge_prop\\models\\base_model.py:55: RuntimeWarning: edge ('5266', '5267') doesn't have a definitive max: [0. 0.]\n",
      "  warnings.warn(f\"edge {(u,v)} doesn't have a definitive max: {dist}\", category=RuntimeWarning)\n",
      "C:\\Users\\Brus\\Documents\\repos\\TemporalEdgeProp\\edge_prop\\models\\base_model.py:55: RuntimeWarning: edge ('5311', '5312') doesn't have a definitive max: [0. 0.]\n",
      "  warnings.warn(f\"edge {(u,v)} doesn't have a definitive max: {dist}\", category=RuntimeWarning)\n",
      "C:\\Users\\Brus\\Documents\\repos\\TemporalEdgeProp\\edge_prop\\models\\base_model.py:55: RuntimeWarning: edge ('5503', '5504') doesn't have a definitive max: [0. 0.]\n",
      "  warnings.warn(f\"edge {(u,v)} doesn't have a definitive max: {dist}\", category=RuntimeWarning)\n",
      "C:\\Users\\Brus\\Documents\\repos\\TemporalEdgeProp\\edge_prop\\models\\base_model.py:55: RuntimeWarning: edge ('5510', '5511') doesn't have a definitive max: [0. 0.]\n",
      "  warnings.warn(f\"edge {(u,v)} doesn't have a definitive max: {dist}\", category=RuntimeWarning)\n",
      "C:\\Users\\Brus\\Documents\\repos\\TemporalEdgeProp\\edge_prop\\models\\base_model.py:55: RuntimeWarning: edge ('5604', '5604') doesn't have a definitive max: [0. 0.]\n",
      "  warnings.warn(f\"edge {(u,v)} doesn't have a definitive max: {dist}\", category=RuntimeWarning)\n",
      "C:\\Users\\Brus\\Documents\\repos\\TemporalEdgeProp\\edge_prop\\models\\base_model.py:55: RuntimeWarning: edge ('6594', '6594') doesn't have a definitive max: [0. 0.]\n",
      "  warnings.warn(f\"edge {(u,v)} doesn't have a definitive max: {dist}\", category=RuntimeWarning)\n",
      "C:\\Users\\Brus\\Documents\\repos\\TemporalEdgeProp\\edge_prop\\models\\base_model.py:55: RuntimeWarning: edge ('6903', '6904') doesn't have a definitive max: [0. 0.]\n",
      "  warnings.warn(f\"edge {(u,v)} doesn't have a definitive max: {dist}\", category=RuntimeWarning)\n",
      "C:\\Users\\Brus\\Documents\\repos\\TemporalEdgeProp\\edge_prop\\models\\base_model.py:55: RuntimeWarning: edge ('6948', '6949') doesn't have a definitive max: [0. 0.]\n",
      "  warnings.warn(f\"edge {(u,v)} doesn't have a definitive max: {dist}\", category=RuntimeWarning)\n",
      "C:\\Users\\Brus\\Documents\\repos\\TemporalEdgeProp\\edge_prop\\models\\base_model.py:55: RuntimeWarning: edge ('6949', '6950') doesn't have a definitive max: [0. 0.]\n",
      "  warnings.warn(f\"edge {(u,v)} doesn't have a definitive max: {dist}\", category=RuntimeWarning)\n",
      "Fitting model:   0%|                                                                                                                             | 0/50 [00:00<?, ?iter/s, dif=0.000745]\n",
      "C:\\Users\\Brus\\Documents\\repos\\TemporalEdgeProp\\edge_prop\\models\\base_model.py:55: RuntimeWarning: edge ('2106', '2107') doesn't have a definitive max: [0. 0.]\n",
      "  warnings.warn(f\"edge {(u,v)} doesn't have a definitive max: {dist}\", category=RuntimeWarning)\n",
      "C:\\Users\\Brus\\Documents\\repos\\TemporalEdgeProp\\edge_prop\\models\\base_model.py:55: RuntimeWarning: edge ('2911', '2912') doesn't have a definitive max: [0. 0.]\n",
      "  warnings.warn(f\"edge {(u,v)} doesn't have a definitive max: {dist}\", category=RuntimeWarning)\n",
      "C:\\Users\\Brus\\Documents\\repos\\TemporalEdgeProp\\edge_prop\\models\\base_model.py:55: RuntimeWarning: edge ('2963', '2964') doesn't have a definitive max: [0. 0.]\n",
      "  warnings.warn(f\"edge {(u,v)} doesn't have a definitive max: {dist}\", category=RuntimeWarning)\n",
      "C:\\Users\\Brus\\Documents\\repos\\TemporalEdgeProp\\edge_prop\\models\\base_model.py:55: RuntimeWarning: edge ('4797', '4798') doesn't have a definitive max: [0. 0.]\n",
      "  warnings.warn(f\"edge {(u,v)} doesn't have a definitive max: {dist}\", category=RuntimeWarning)\n",
      "C:\\Users\\Brus\\Documents\\repos\\TemporalEdgeProp\\edge_prop\\models\\base_model.py:55: RuntimeWarning: edge ('5045', '5045') doesn't have a definitive max: [0. 0.]\n",
      "  warnings.warn(f\"edge {(u,v)} doesn't have a definitive max: {dist}\", category=RuntimeWarning)\n",
      "C:\\Users\\Brus\\Documents\\repos\\TemporalEdgeProp\\edge_prop\\models\\base_model.py:55: RuntimeWarning: edge ('5098', '5099') doesn't have a definitive max: [0. 0.]\n",
      "  warnings.warn(f\"edge {(u,v)} doesn't have a definitive max: {dist}\", category=RuntimeWarning)\n",
      "C:\\Users\\Brus\\Documents\\repos\\TemporalEdgeProp\\edge_prop\\models\\base_model.py:55: RuntimeWarning: edge ('5266', '5267') doesn't have a definitive max: [0. 0.]\n",
      "  warnings.warn(f\"edge {(u,v)} doesn't have a definitive max: {dist}\", category=RuntimeWarning)\n",
      "C:\\Users\\Brus\\Documents\\repos\\TemporalEdgeProp\\edge_prop\\models\\base_model.py:55: RuntimeWarning: edge ('5311', '5312') doesn't have a definitive max: [0. 0.]\n",
      "  warnings.warn(f\"edge {(u,v)} doesn't have a definitive max: {dist}\", category=RuntimeWarning)\n",
      "C:\\Users\\Brus\\Documents\\repos\\TemporalEdgeProp\\edge_prop\\models\\base_model.py:55: RuntimeWarning: edge ('5503', '5504') doesn't have a definitive max: [0. 0.]\n",
      "  warnings.warn(f\"edge {(u,v)} doesn't have a definitive max: {dist}\", category=RuntimeWarning)\n",
      "C:\\Users\\Brus\\Documents\\repos\\TemporalEdgeProp\\edge_prop\\models\\base_model.py:55: RuntimeWarning: edge ('5510', '5511') doesn't have a definitive max: [0. 0.]\n",
      "  warnings.warn(f\"edge {(u,v)} doesn't have a definitive max: {dist}\", category=RuntimeWarning)\n",
      "C:\\Users\\Brus\\Documents\\repos\\TemporalEdgeProp\\edge_prop\\models\\base_model.py:55: RuntimeWarning: edge ('5604', '5604') doesn't have a definitive max: [0. 0.]\n",
      "  warnings.warn(f\"edge {(u,v)} doesn't have a definitive max: {dist}\", category=RuntimeWarning)\n",
      "C:\\Users\\Brus\\Documents\\repos\\TemporalEdgeProp\\edge_prop\\models\\base_model.py:55: RuntimeWarning: edge ('6594', '6594') doesn't have a definitive max: [0. 0.]\n",
      "  warnings.warn(f\"edge {(u,v)} doesn't have a definitive max: {dist}\", category=RuntimeWarning)\n",
      "C:\\Users\\Brus\\Documents\\repos\\TemporalEdgeProp\\edge_prop\\models\\base_model.py:55: RuntimeWarning: edge ('6903', '6904') doesn't have a definitive max: [0. 0.]\n",
      "  warnings.warn(f\"edge {(u,v)} doesn't have a definitive max: {dist}\", category=RuntimeWarning)\n",
      "C:\\Users\\Brus\\Documents\\repos\\TemporalEdgeProp\\edge_prop\\models\\base_model.py:55: RuntimeWarning: edge ('6948', '6949') doesn't have a definitive max: [0. 0.]\n",
      "  warnings.warn(f\"edge {(u,v)} doesn't have a definitive max: {dist}\", category=RuntimeWarning)\n",
      "C:\\Users\\Brus\\Documents\\repos\\TemporalEdgeProp\\edge_prop\\models\\base_model.py:55: RuntimeWarning: edge ('6949', '6950') doesn't have a definitive max: [0. 0.]\n",
      "  warnings.warn(f\"edge {(u,v)} doesn't have a definitive max: {dist}\", category=RuntimeWarning)\n"
     ]
    },
    {
     "data": {
      "application/vnd.jupyter.widget-view+json": {
       "model_id": "2e438092d55446578cf7f25b74221d0a",
       "version_major": 2,
       "version_minor": 0
      },
      "text/plain": [
       "HBox(children=(FloatProgress(value=0.0, description='Fitting model', max=50.0, style=ProgressStyle(description…"
      ]
     },
     "metadata": {},
     "output_type": "display_data"
    },
    {
     "name": "stdout",
     "output_type": "stream",
     "text": [
      "\n"
     ]
    },
    {
     "name": "stderr",
     "output_type": "stream",
     "text": [
      "C:\\Users\\Brus\\Documents\\repos\\TemporalEdgeProp\\edge_prop\\models\\base_model.py:55: RuntimeWarning: edge ('2106', '2107') doesn't have a definitive max: [0. 0.]\n",
      "  warnings.warn(f\"edge {(u,v)} doesn't have a definitive max: {dist}\", category=RuntimeWarning)\n",
      "C:\\Users\\Brus\\Documents\\repos\\TemporalEdgeProp\\edge_prop\\models\\base_model.py:55: RuntimeWarning: edge ('2963', '2964') doesn't have a definitive max: [0. 0.]\n",
      "  warnings.warn(f\"edge {(u,v)} doesn't have a definitive max: {dist}\", category=RuntimeWarning)\n",
      "C:\\Users\\Brus\\Documents\\repos\\TemporalEdgeProp\\edge_prop\\models\\base_model.py:55: RuntimeWarning: edge ('3758', '3759') doesn't have a definitive max: [0. 0.]\n",
      "  warnings.warn(f\"edge {(u,v)} doesn't have a definitive max: {dist}\", category=RuntimeWarning)\n",
      "C:\\Users\\Brus\\Documents\\repos\\TemporalEdgeProp\\edge_prop\\models\\base_model.py:55: RuntimeWarning: edge ('3759', '3759') doesn't have a definitive max: [0. 0.]\n",
      "  warnings.warn(f\"edge {(u,v)} doesn't have a definitive max: {dist}\", category=RuntimeWarning)\n",
      "C:\\Users\\Brus\\Documents\\repos\\TemporalEdgeProp\\edge_prop\\models\\base_model.py:55: RuntimeWarning: edge ('4797', '4798') doesn't have a definitive max: [0. 0.]\n",
      "  warnings.warn(f\"edge {(u,v)} doesn't have a definitive max: {dist}\", category=RuntimeWarning)\n",
      "C:\\Users\\Brus\\Documents\\repos\\TemporalEdgeProp\\edge_prop\\models\\base_model.py:55: RuntimeWarning: edge ('5025', '5026') doesn't have a definitive max: [0. 0.]\n",
      "  warnings.warn(f\"edge {(u,v)} doesn't have a definitive max: {dist}\", category=RuntimeWarning)\n",
      "C:\\Users\\Brus\\Documents\\repos\\TemporalEdgeProp\\edge_prop\\models\\base_model.py:55: RuntimeWarning: edge ('5045', '5045') doesn't have a definitive max: [0. 0.]\n",
      "  warnings.warn(f\"edge {(u,v)} doesn't have a definitive max: {dist}\", category=RuntimeWarning)\n",
      "C:\\Users\\Brus\\Documents\\repos\\TemporalEdgeProp\\edge_prop\\models\\base_model.py:55: RuntimeWarning: edge ('5098', '5099') doesn't have a definitive max: [0. 0.]\n",
      "  warnings.warn(f\"edge {(u,v)} doesn't have a definitive max: {dist}\", category=RuntimeWarning)\n",
      "C:\\Users\\Brus\\Documents\\repos\\TemporalEdgeProp\\edge_prop\\models\\base_model.py:55: RuntimeWarning: edge ('5370', '5371') doesn't have a definitive max: [0. 0.]\n",
      "  warnings.warn(f\"edge {(u,v)} doesn't have a definitive max: {dist}\", category=RuntimeWarning)\n",
      "C:\\Users\\Brus\\Documents\\repos\\TemporalEdgeProp\\edge_prop\\models\\base_model.py:55: RuntimeWarning: edge ('5379', '5380') doesn't have a definitive max: [0. 0.]\n",
      "  warnings.warn(f\"edge {(u,v)} doesn't have a definitive max: {dist}\", category=RuntimeWarning)\n",
      "C:\\Users\\Brus\\Documents\\repos\\TemporalEdgeProp\\edge_prop\\models\\base_model.py:55: RuntimeWarning: edge ('5510', '5511') doesn't have a definitive max: [0. 0.]\n",
      "  warnings.warn(f\"edge {(u,v)} doesn't have a definitive max: {dist}\", category=RuntimeWarning)\n",
      "C:\\Users\\Brus\\Documents\\repos\\TemporalEdgeProp\\edge_prop\\models\\base_model.py:55: RuntimeWarning: edge ('5604', '5604') doesn't have a definitive max: [0. 0.]\n",
      "  warnings.warn(f\"edge {(u,v)} doesn't have a definitive max: {dist}\", category=RuntimeWarning)\n",
      "C:\\Users\\Brus\\Documents\\repos\\TemporalEdgeProp\\edge_prop\\models\\base_model.py:55: RuntimeWarning: edge ('6268', '6269') doesn't have a definitive max: [0. 0.]\n",
      "  warnings.warn(f\"edge {(u,v)} doesn't have a definitive max: {dist}\", category=RuntimeWarning)\n",
      "C:\\Users\\Brus\\Documents\\repos\\TemporalEdgeProp\\edge_prop\\models\\base_model.py:55: RuntimeWarning: edge ('6501', '6502') doesn't have a definitive max: [0. 0.]\n",
      "  warnings.warn(f\"edge {(u,v)} doesn't have a definitive max: {dist}\", category=RuntimeWarning)\n",
      "C:\\Users\\Brus\\Documents\\repos\\TemporalEdgeProp\\edge_prop\\models\\base_model.py:55: RuntimeWarning: edge ('6594', '6594') doesn't have a definitive max: [0. 0.]\n",
      "  warnings.warn(f\"edge {(u,v)} doesn't have a definitive max: {dist}\", category=RuntimeWarning)\n",
      "C:\\Users\\Brus\\Documents\\repos\\TemporalEdgeProp\\edge_prop\\models\\base_model.py:55: RuntimeWarning: edge ('6872', '6873') doesn't have a definitive max: [0. 0.]\n",
      "  warnings.warn(f\"edge {(u,v)} doesn't have a definitive max: {dist}\", category=RuntimeWarning)\n",
      "C:\\Users\\Brus\\Documents\\repos\\TemporalEdgeProp\\edge_prop\\models\\base_model.py:55: RuntimeWarning: edge ('6880', '6881') doesn't have a definitive max: [0. 0.]\n",
      "  warnings.warn(f\"edge {(u,v)} doesn't have a definitive max: {dist}\", category=RuntimeWarning)\n",
      "C:\\Users\\Brus\\Documents\\repos\\TemporalEdgeProp\\edge_prop\\models\\base_model.py:55: RuntimeWarning: edge ('6903', '6904') doesn't have a definitive max: [0. 0.]\n",
      "  warnings.warn(f\"edge {(u,v)} doesn't have a definitive max: {dist}\", category=RuntimeWarning)\n",
      "Fitting model:   0%|                                                                                                                             | 0/50 [00:00<?, ?iter/s, dif=0.000541]\n",
      "C:\\Users\\Brus\\Documents\\repos\\TemporalEdgeProp\\edge_prop\\models\\base_model.py:55: RuntimeWarning: edge ('2106', '2107') doesn't have a definitive max: [0. 0.]\n",
      "  warnings.warn(f\"edge {(u,v)} doesn't have a definitive max: {dist}\", category=RuntimeWarning)\n",
      "C:\\Users\\Brus\\Documents\\repos\\TemporalEdgeProp\\edge_prop\\models\\base_model.py:55: RuntimeWarning: edge ('2963', '2964') doesn't have a definitive max: [0. 0.]\n",
      "  warnings.warn(f\"edge {(u,v)} doesn't have a definitive max: {dist}\", category=RuntimeWarning)\n",
      "C:\\Users\\Brus\\Documents\\repos\\TemporalEdgeProp\\edge_prop\\models\\base_model.py:55: RuntimeWarning: edge ('3758', '3759') doesn't have a definitive max: [0. 0.]\n",
      "  warnings.warn(f\"edge {(u,v)} doesn't have a definitive max: {dist}\", category=RuntimeWarning)\n",
      "C:\\Users\\Brus\\Documents\\repos\\TemporalEdgeProp\\edge_prop\\models\\base_model.py:55: RuntimeWarning: edge ('3759', '3759') doesn't have a definitive max: [0. 0.]\n",
      "  warnings.warn(f\"edge {(u,v)} doesn't have a definitive max: {dist}\", category=RuntimeWarning)\n",
      "C:\\Users\\Brus\\Documents\\repos\\TemporalEdgeProp\\edge_prop\\models\\base_model.py:55: RuntimeWarning: edge ('4797', '4798') doesn't have a definitive max: [0. 0.]\n",
      "  warnings.warn(f\"edge {(u,v)} doesn't have a definitive max: {dist}\", category=RuntimeWarning)\n",
      "C:\\Users\\Brus\\Documents\\repos\\TemporalEdgeProp\\edge_prop\\models\\base_model.py:55: RuntimeWarning: edge ('5025', '5026') doesn't have a definitive max: [0. 0.]\n",
      "  warnings.warn(f\"edge {(u,v)} doesn't have a definitive max: {dist}\", category=RuntimeWarning)\n",
      "C:\\Users\\Brus\\Documents\\repos\\TemporalEdgeProp\\edge_prop\\models\\base_model.py:55: RuntimeWarning: edge ('5045', '5045') doesn't have a definitive max: [0. 0.]\n",
      "  warnings.warn(f\"edge {(u,v)} doesn't have a definitive max: {dist}\", category=RuntimeWarning)\n",
      "C:\\Users\\Brus\\Documents\\repos\\TemporalEdgeProp\\edge_prop\\models\\base_model.py:55: RuntimeWarning: edge ('5098', '5099') doesn't have a definitive max: [0. 0.]\n",
      "  warnings.warn(f\"edge {(u,v)} doesn't have a definitive max: {dist}\", category=RuntimeWarning)\n",
      "C:\\Users\\Brus\\Documents\\repos\\TemporalEdgeProp\\edge_prop\\models\\base_model.py:55: RuntimeWarning: edge ('5370', '5371') doesn't have a definitive max: [0. 0.]\n",
      "  warnings.warn(f\"edge {(u,v)} doesn't have a definitive max: {dist}\", category=RuntimeWarning)\n",
      "C:\\Users\\Brus\\Documents\\repos\\TemporalEdgeProp\\edge_prop\\models\\base_model.py:55: RuntimeWarning: edge ('5379', '5380') doesn't have a definitive max: [0. 0.]\n",
      "  warnings.warn(f\"edge {(u,v)} doesn't have a definitive max: {dist}\", category=RuntimeWarning)\n",
      "C:\\Users\\Brus\\Documents\\repos\\TemporalEdgeProp\\edge_prop\\models\\base_model.py:55: RuntimeWarning: edge ('5510', '5511') doesn't have a definitive max: [0. 0.]\n",
      "  warnings.warn(f\"edge {(u,v)} doesn't have a definitive max: {dist}\", category=RuntimeWarning)\n",
      "C:\\Users\\Brus\\Documents\\repos\\TemporalEdgeProp\\edge_prop\\models\\base_model.py:55: RuntimeWarning: edge ('5604', '5604') doesn't have a definitive max: [0. 0.]\n",
      "  warnings.warn(f\"edge {(u,v)} doesn't have a definitive max: {dist}\", category=RuntimeWarning)\n",
      "C:\\Users\\Brus\\Documents\\repos\\TemporalEdgeProp\\edge_prop\\models\\base_model.py:55: RuntimeWarning: edge ('6268', '6269') doesn't have a definitive max: [0. 0.]\n",
      "  warnings.warn(f\"edge {(u,v)} doesn't have a definitive max: {dist}\", category=RuntimeWarning)\n",
      "C:\\Users\\Brus\\Documents\\repos\\TemporalEdgeProp\\edge_prop\\models\\base_model.py:55: RuntimeWarning: edge ('6501', '6502') doesn't have a definitive max: [0. 0.]\n",
      "  warnings.warn(f\"edge {(u,v)} doesn't have a definitive max: {dist}\", category=RuntimeWarning)\n",
      "C:\\Users\\Brus\\Documents\\repos\\TemporalEdgeProp\\edge_prop\\models\\base_model.py:55: RuntimeWarning: edge ('6594', '6594') doesn't have a definitive max: [0. 0.]\n",
      "  warnings.warn(f\"edge {(u,v)} doesn't have a definitive max: {dist}\", category=RuntimeWarning)\n",
      "C:\\Users\\Brus\\Documents\\repos\\TemporalEdgeProp\\edge_prop\\models\\base_model.py:55: RuntimeWarning: edge ('6872', '6873') doesn't have a definitive max: [0. 0.]\n",
      "  warnings.warn(f\"edge {(u,v)} doesn't have a definitive max: {dist}\", category=RuntimeWarning)\n",
      "C:\\Users\\Brus\\Documents\\repos\\TemporalEdgeProp\\edge_prop\\models\\base_model.py:55: RuntimeWarning: edge ('6880', '6881') doesn't have a definitive max: [0. 0.]\n",
      "  warnings.warn(f\"edge {(u,v)} doesn't have a definitive max: {dist}\", category=RuntimeWarning)\n",
      "C:\\Users\\Brus\\Documents\\repos\\TemporalEdgeProp\\edge_prop\\models\\base_model.py:55: RuntimeWarning: edge ('6903', '6904') doesn't have a definitive max: [0. 0.]\n",
      "  warnings.warn(f\"edge {(u,v)} doesn't have a definitive max: {dist}\", category=RuntimeWarning)\n"
     ]
    },
    {
     "data": {
      "application/vnd.jupyter.widget-view+json": {
       "model_id": "65facf9d104b49b5b895ba6eb80907b7",
       "version_major": 2,
       "version_minor": 0
      },
      "text/plain": [
       "HBox(children=(FloatProgress(value=0.0, description='Fitting model', max=50.0, style=ProgressStyle(description…"
      ]
     },
     "metadata": {},
     "output_type": "display_data"
    },
    {
     "name": "stdout",
     "output_type": "stream",
     "text": [
      "\n"
     ]
    },
    {
     "name": "stderr",
     "output_type": "stream",
     "text": [
      "C:\\Users\\Brus\\Documents\\repos\\TemporalEdgeProp\\edge_prop\\models\\base_model.py:55: RuntimeWarning: edge ('4797', '4798') doesn't have a definitive max: [0. 0.]\n",
      "  warnings.warn(f\"edge {(u,v)} doesn't have a definitive max: {dist}\", category=RuntimeWarning)\n",
      "C:\\Users\\Brus\\Documents\\repos\\TemporalEdgeProp\\edge_prop\\models\\base_model.py:55: RuntimeWarning: edge ('5510', '5511') doesn't have a definitive max: [0. 0.]\n",
      "  warnings.warn(f\"edge {(u,v)} doesn't have a definitive max: {dist}\", category=RuntimeWarning)\n",
      "C:\\Users\\Brus\\Documents\\repos\\TemporalEdgeProp\\edge_prop\\models\\base_model.py:55: RuntimeWarning: edge ('5604', '5604') doesn't have a definitive max: [0. 0.]\n",
      "  warnings.warn(f\"edge {(u,v)} doesn't have a definitive max: {dist}\", category=RuntimeWarning)\n",
      "C:\\Users\\Brus\\Documents\\repos\\TemporalEdgeProp\\edge_prop\\models\\base_model.py:55: RuntimeWarning: edge ('6477', '6478') doesn't have a definitive max: [0. 0.]\n",
      "  warnings.warn(f\"edge {(u,v)} doesn't have a definitive max: {dist}\", category=RuntimeWarning)\n",
      "C:\\Users\\Brus\\Documents\\repos\\TemporalEdgeProp\\edge_prop\\models\\base_model.py:55: RuntimeWarning: edge ('6478', '6479') doesn't have a definitive max: [0. 0.]\n",
      "  warnings.warn(f\"edge {(u,v)} doesn't have a definitive max: {dist}\", category=RuntimeWarning)\n",
      "C:\\Users\\Brus\\Documents\\repos\\TemporalEdgeProp\\edge_prop\\models\\base_model.py:55: RuntimeWarning: edge ('6880', '6881') doesn't have a definitive max: [0. 0.]\n",
      "  warnings.warn(f\"edge {(u,v)} doesn't have a definitive max: {dist}\", category=RuntimeWarning)\n",
      "C:\\Users\\Brus\\Documents\\repos\\TemporalEdgeProp\\edge_prop\\models\\base_model.py:55: RuntimeWarning: edge ('6903', '6904') doesn't have a definitive max: [0. 0.]\n",
      "  warnings.warn(f\"edge {(u,v)} doesn't have a definitive max: {dist}\", category=RuntimeWarning)\n",
      "Fitting model:   0%|                                                                                                                             | 0/50 [00:00<?, ?iter/s, dif=0.000977]\n",
      "C:\\Users\\Brus\\Documents\\repos\\TemporalEdgeProp\\edge_prop\\models\\base_model.py:55: RuntimeWarning: edge ('1083', '1084') doesn't have a definitive max: [0.5 0.5]\n",
      "  warnings.warn(f\"edge {(u,v)} doesn't have a definitive max: {dist}\", category=RuntimeWarning)\n",
      "C:\\Users\\Brus\\Documents\\repos\\TemporalEdgeProp\\edge_prop\\models\\base_model.py:55: RuntimeWarning: edge ('1170', '3913') doesn't have a definitive max: [0.5 0.5]\n",
      "  warnings.warn(f\"edge {(u,v)} doesn't have a definitive max: {dist}\", category=RuntimeWarning)\n",
      "C:\\Users\\Brus\\Documents\\repos\\TemporalEdgeProp\\edge_prop\\models\\base_model.py:55: RuntimeWarning: edge ('1184', '2003') doesn't have a definitive max: [0.5 0.5]\n",
      "  warnings.warn(f\"edge {(u,v)} doesn't have a definitive max: {dist}\", category=RuntimeWarning)\n",
      "C:\\Users\\Brus\\Documents\\repos\\TemporalEdgeProp\\edge_prop\\models\\base_model.py:55: RuntimeWarning: edge ('1660', '5479') doesn't have a definitive max: [0.5 0.5]\n",
      "  warnings.warn(f\"edge {(u,v)} doesn't have a definitive max: {dist}\", category=RuntimeWarning)\n",
      "C:\\Users\\Brus\\Documents\\repos\\TemporalEdgeProp\\edge_prop\\models\\base_model.py:55: RuntimeWarning: edge ('1671', '4581') doesn't have a definitive max: [0.5 0.5]\n",
      "  warnings.warn(f\"edge {(u,v)} doesn't have a definitive max: {dist}\", category=RuntimeWarning)\n",
      "C:\\Users\\Brus\\Documents\\repos\\TemporalEdgeProp\\edge_prop\\models\\base_model.py:55: RuntimeWarning: edge ('209', '296') doesn't have a definitive max: [0.5 0.5]\n",
      "  warnings.warn(f\"edge {(u,v)} doesn't have a definitive max: {dist}\", category=RuntimeWarning)\n",
      "C:\\Users\\Brus\\Documents\\repos\\TemporalEdgeProp\\edge_prop\\models\\base_model.py:55: RuntimeWarning: edge ('2354', '2402') doesn't have a definitive max: [0.5 0.5]\n",
      "  warnings.warn(f\"edge {(u,v)} doesn't have a definitive max: {dist}\", category=RuntimeWarning)\n",
      "C:\\Users\\Brus\\Documents\\repos\\TemporalEdgeProp\\edge_prop\\models\\base_model.py:55: RuntimeWarning: edge ('2862', '2863') doesn't have a definitive max: [0.5 0.5]\n",
      "  warnings.warn(f\"edge {(u,v)} doesn't have a definitive max: {dist}\", category=RuntimeWarning)\n",
      "C:\\Users\\Brus\\Documents\\repos\\TemporalEdgeProp\\edge_prop\\models\\base_model.py:55: RuntimeWarning: edge ('3368', '3369') doesn't have a definitive max: [0.5 0.5]\n",
      "  warnings.warn(f\"edge {(u,v)} doesn't have a definitive max: {dist}\", category=RuntimeWarning)\n",
      "C:\\Users\\Brus\\Documents\\repos\\TemporalEdgeProp\\edge_prop\\models\\base_model.py:55: RuntimeWarning: edge ('3522', '3524') doesn't have a definitive max: [0.5 0.5]\n",
      "  warnings.warn(f\"edge {(u,v)} doesn't have a definitive max: {dist}\", category=RuntimeWarning)\n",
      "C:\\Users\\Brus\\Documents\\repos\\TemporalEdgeProp\\edge_prop\\models\\base_model.py:55: RuntimeWarning: edge ('3818', '4088') doesn't have a definitive max: [0.5 0.5]\n",
      "  warnings.warn(f\"edge {(u,v)} doesn't have a definitive max: {dist}\", category=RuntimeWarning)\n",
      "C:\\Users\\Brus\\Documents\\repos\\TemporalEdgeProp\\edge_prop\\models\\base_model.py:55: RuntimeWarning: edge ('4229', '4520') doesn't have a definitive max: [0.5 0.5]\n",
      "  warnings.warn(f\"edge {(u,v)} doesn't have a definitive max: {dist}\", category=RuntimeWarning)\n",
      "C:\\Users\\Brus\\Documents\\repos\\TemporalEdgeProp\\edge_prop\\models\\base_model.py:55: RuntimeWarning: edge ('4797', '4798') doesn't have a definitive max: [0. 0.]\n",
      "  warnings.warn(f\"edge {(u,v)} doesn't have a definitive max: {dist}\", category=RuntimeWarning)\n",
      "C:\\Users\\Brus\\Documents\\repos\\TemporalEdgeProp\\edge_prop\\models\\base_model.py:55: RuntimeWarning: edge ('4814', '5843') doesn't have a definitive max: [0.5 0.5]\n",
      "  warnings.warn(f\"edge {(u,v)} doesn't have a definitive max: {dist}\", category=RuntimeWarning)\n",
      "C:\\Users\\Brus\\Documents\\repos\\TemporalEdgeProp\\edge_prop\\models\\base_model.py:55: RuntimeWarning: edge ('5038', '5155') doesn't have a definitive max: [0.5 0.5]\n",
      "  warnings.warn(f\"edge {(u,v)} doesn't have a definitive max: {dist}\", category=RuntimeWarning)\n",
      "C:\\Users\\Brus\\Documents\\repos\\TemporalEdgeProp\\edge_prop\\models\\base_model.py:55: RuntimeWarning: edge ('5225', '5226') doesn't have a definitive max: [0.5 0.5]\n",
      "  warnings.warn(f\"edge {(u,v)} doesn't have a definitive max: {dist}\", category=RuntimeWarning)\n",
      "C:\\Users\\Brus\\Documents\\repos\\TemporalEdgeProp\\edge_prop\\models\\base_model.py:55: RuntimeWarning: edge ('5235', '5236') doesn't have a definitive max: [0.5 0.5]\n",
      "  warnings.warn(f\"edge {(u,v)} doesn't have a definitive max: {dist}\", category=RuntimeWarning)\n",
      "C:\\Users\\Brus\\Documents\\repos\\TemporalEdgeProp\\edge_prop\\models\\base_model.py:55: RuntimeWarning: edge ('5353', '5376') doesn't have a definitive max: [0.5 0.5]\n",
      "  warnings.warn(f\"edge {(u,v)} doesn't have a definitive max: {dist}\", category=RuntimeWarning)\n",
      "C:\\Users\\Brus\\Documents\\repos\\TemporalEdgeProp\\edge_prop\\models\\base_model.py:55: RuntimeWarning: edge ('5510', '5511') doesn't have a definitive max: [0. 0.]\n",
      "  warnings.warn(f\"edge {(u,v)} doesn't have a definitive max: {dist}\", category=RuntimeWarning)\n",
      "C:\\Users\\Brus\\Documents\\repos\\TemporalEdgeProp\\edge_prop\\models\\base_model.py:55: RuntimeWarning: edge ('5560', '5561') doesn't have a definitive max: [0.5 0.5]\n",
      "  warnings.warn(f\"edge {(u,v)} doesn't have a definitive max: {dist}\", category=RuntimeWarning)\n",
      "C:\\Users\\Brus\\Documents\\repos\\TemporalEdgeProp\\edge_prop\\models\\base_model.py:55: RuntimeWarning: edge ('5604', '5604') doesn't have a definitive max: [0. 0.]\n",
      "  warnings.warn(f\"edge {(u,v)} doesn't have a definitive max: {dist}\", category=RuntimeWarning)\n",
      "C:\\Users\\Brus\\Documents\\repos\\TemporalEdgeProp\\edge_prop\\models\\base_model.py:55: RuntimeWarning: edge ('5669', '5682') doesn't have a definitive max: [0.5 0.5]\n",
      "  warnings.warn(f\"edge {(u,v)} doesn't have a definitive max: {dist}\", category=RuntimeWarning)\n",
      "C:\\Users\\Brus\\Documents\\repos\\TemporalEdgeProp\\edge_prop\\models\\base_model.py:55: RuntimeWarning: edge ('5714', '6504') doesn't have a definitive max: [0.5 0.5]\n",
      "  warnings.warn(f\"edge {(u,v)} doesn't have a definitive max: {dist}\", category=RuntimeWarning)\n",
      "C:\\Users\\Brus\\Documents\\repos\\TemporalEdgeProp\\edge_prop\\models\\base_model.py:55: RuntimeWarning: edge ('5874', '5924') doesn't have a definitive max: [0.5 0.5]\n",
      "  warnings.warn(f\"edge {(u,v)} doesn't have a definitive max: {dist}\", category=RuntimeWarning)\n",
      "C:\\Users\\Brus\\Documents\\repos\\TemporalEdgeProp\\edge_prop\\models\\base_model.py:55: RuntimeWarning: edge ('6477', '6478') doesn't have a definitive max: [0. 0.]\n",
      "  warnings.warn(f\"edge {(u,v)} doesn't have a definitive max: {dist}\", category=RuntimeWarning)\n",
      "C:\\Users\\Brus\\Documents\\repos\\TemporalEdgeProp\\edge_prop\\models\\base_model.py:55: RuntimeWarning: edge ('6478', '6479') doesn't have a definitive max: [0. 0.]\n",
      "  warnings.warn(f\"edge {(u,v)} doesn't have a definitive max: {dist}\", category=RuntimeWarning)\n",
      "C:\\Users\\Brus\\Documents\\repos\\TemporalEdgeProp\\edge_prop\\models\\base_model.py:55: RuntimeWarning: edge ('6607', '6617') doesn't have a definitive max: [0.5 0.5]\n",
      "  warnings.warn(f\"edge {(u,v)} doesn't have a definitive max: {dist}\", category=RuntimeWarning)\n",
      "C:\\Users\\Brus\\Documents\\repos\\TemporalEdgeProp\\edge_prop\\models\\base_model.py:55: RuntimeWarning: edge ('6880', '6881') doesn't have a definitive max: [0. 0.]\n",
      "  warnings.warn(f\"edge {(u,v)} doesn't have a definitive max: {dist}\", category=RuntimeWarning)\n",
      "C:\\Users\\Brus\\Documents\\repos\\TemporalEdgeProp\\edge_prop\\models\\base_model.py:55: RuntimeWarning: edge ('6903', '6904') doesn't have a definitive max: [0. 0.]\n",
      "  warnings.warn(f\"edge {(u,v)} doesn't have a definitive max: {dist}\", category=RuntimeWarning)\n",
      "C:\\Users\\Brus\\Documents\\repos\\TemporalEdgeProp\\edge_prop\\models\\base_model.py:55: RuntimeWarning: edge ('740', '745') doesn't have a definitive max: [0.5 0.5]\n",
      "  warnings.warn(f\"edge {(u,v)} doesn't have a definitive max: {dist}\", category=RuntimeWarning)\n",
      "C:\\Users\\Brus\\Documents\\repos\\TemporalEdgeProp\\edge_prop\\models\\base_model.py:55: RuntimeWarning: edge ('760', '798') doesn't have a definitive max: [0.5 0.5]\n",
      "  warnings.warn(f\"edge {(u,v)} doesn't have a definitive max: {dist}\", category=RuntimeWarning)\n"
     ]
    },
    {
     "data": {
      "application/vnd.jupyter.widget-view+json": {
       "model_id": "1c0b9894d57c4e7198abdf1a0b884d0e",
       "version_major": 2,
       "version_minor": 0
      },
      "text/plain": [
       "HBox(children=(FloatProgress(value=0.0, description='Fitting model', max=50.0, style=ProgressStyle(description…"
      ]
     },
     "metadata": {},
     "output_type": "display_data"
    },
    {
     "name": "stdout",
     "output_type": "stream",
     "text": [
      "\n"
     ]
    },
    {
     "name": "stderr",
     "output_type": "stream",
     "text": [
      "C:\\Users\\Brus\\Documents\\repos\\TemporalEdgeProp\\edge_prop\\models\\base_model.py:55: RuntimeWarning: edge ('2106', '2107') doesn't have a definitive max: [0. 0.]\n",
      "  warnings.warn(f\"edge {(u,v)} doesn't have a definitive max: {dist}\", category=RuntimeWarning)\n",
      "C:\\Users\\Brus\\Documents\\repos\\TemporalEdgeProp\\edge_prop\\models\\base_model.py:55: RuntimeWarning: edge ('2911', '2912') doesn't have a definitive max: [0. 0.]\n",
      "  warnings.warn(f\"edge {(u,v)} doesn't have a definitive max: {dist}\", category=RuntimeWarning)\n",
      "C:\\Users\\Brus\\Documents\\repos\\TemporalEdgeProp\\edge_prop\\models\\base_model.py:55: RuntimeWarning: edge ('2963', '2964') doesn't have a definitive max: [0. 0.]\n",
      "  warnings.warn(f\"edge {(u,v)} doesn't have a definitive max: {dist}\", category=RuntimeWarning)\n",
      "C:\\Users\\Brus\\Documents\\repos\\TemporalEdgeProp\\edge_prop\\models\\base_model.py:55: RuntimeWarning: edge ('3758', '3759') doesn't have a definitive max: [0. 0.]\n",
      "  warnings.warn(f\"edge {(u,v)} doesn't have a definitive max: {dist}\", category=RuntimeWarning)\n",
      "C:\\Users\\Brus\\Documents\\repos\\TemporalEdgeProp\\edge_prop\\models\\base_model.py:55: RuntimeWarning: edge ('3759', '3759') doesn't have a definitive max: [0. 0.]\n",
      "  warnings.warn(f\"edge {(u,v)} doesn't have a definitive max: {dist}\", category=RuntimeWarning)\n",
      "C:\\Users\\Brus\\Documents\\repos\\TemporalEdgeProp\\edge_prop\\models\\base_model.py:55: RuntimeWarning: edge ('5045', '5045') doesn't have a definitive max: [0. 0.]\n",
      "  warnings.warn(f\"edge {(u,v)} doesn't have a definitive max: {dist}\", category=RuntimeWarning)\n",
      "C:\\Users\\Brus\\Documents\\repos\\TemporalEdgeProp\\edge_prop\\models\\base_model.py:55: RuntimeWarning: edge ('5266', '5267') doesn't have a definitive max: [0. 0.]\n",
      "  warnings.warn(f\"edge {(u,v)} doesn't have a definitive max: {dist}\", category=RuntimeWarning)\n",
      "C:\\Users\\Brus\\Documents\\repos\\TemporalEdgeProp\\edge_prop\\models\\base_model.py:55: RuntimeWarning: edge ('5311', '5312') doesn't have a definitive max: [0. 0.]\n",
      "  warnings.warn(f\"edge {(u,v)} doesn't have a definitive max: {dist}\", category=RuntimeWarning)\n",
      "C:\\Users\\Brus\\Documents\\repos\\TemporalEdgeProp\\edge_prop\\models\\base_model.py:55: RuntimeWarning: edge ('5370', '5371') doesn't have a definitive max: [0. 0.]\n",
      "  warnings.warn(f\"edge {(u,v)} doesn't have a definitive max: {dist}\", category=RuntimeWarning)\n",
      "C:\\Users\\Brus\\Documents\\repos\\TemporalEdgeProp\\edge_prop\\models\\base_model.py:55: RuntimeWarning: edge ('5604', '5604') doesn't have a definitive max: [0. 0.]\n",
      "  warnings.warn(f\"edge {(u,v)} doesn't have a definitive max: {dist}\", category=RuntimeWarning)\n",
      "C:\\Users\\Brus\\Documents\\repos\\TemporalEdgeProp\\edge_prop\\models\\base_model.py:55: RuntimeWarning: edge ('6273', '6274') doesn't have a definitive max: [0. 0.]\n",
      "  warnings.warn(f\"edge {(u,v)} doesn't have a definitive max: {dist}\", category=RuntimeWarning)\n",
      "C:\\Users\\Brus\\Documents\\repos\\TemporalEdgeProp\\edge_prop\\models\\base_model.py:55: RuntimeWarning: edge ('6594', '6594') doesn't have a definitive max: [0. 0.]\n",
      "  warnings.warn(f\"edge {(u,v)} doesn't have a definitive max: {dist}\", category=RuntimeWarning)\n",
      "Fitting model:   0%|                                                                                                                               | 0/50 [00:00<?, ?iter/s, dif=0.0005]\n",
      "C:\\Users\\Brus\\Documents\\repos\\TemporalEdgeProp\\edge_prop\\models\\base_model.py:55: RuntimeWarning: edge ('1083', '1084') doesn't have a definitive max: [0.5 0.5]\n",
      "  warnings.warn(f\"edge {(u,v)} doesn't have a definitive max: {dist}\", category=RuntimeWarning)\n",
      "C:\\Users\\Brus\\Documents\\repos\\TemporalEdgeProp\\edge_prop\\models\\base_model.py:55: RuntimeWarning: edge ('1141', '1156') doesn't have a definitive max: [0.5 0.5]\n",
      "  warnings.warn(f\"edge {(u,v)} doesn't have a definitive max: {dist}\", category=RuntimeWarning)\n",
      "C:\\Users\\Brus\\Documents\\repos\\TemporalEdgeProp\\edge_prop\\models\\base_model.py:55: RuntimeWarning: edge ('1194', '3504') doesn't have a definitive max: [0.5 0.5]\n",
      "  warnings.warn(f\"edge {(u,v)} doesn't have a definitive max: {dist}\", category=RuntimeWarning)\n",
      "C:\\Users\\Brus\\Documents\\repos\\TemporalEdgeProp\\edge_prop\\models\\base_model.py:55: RuntimeWarning: edge ('122', '126') doesn't have a definitive max: [0.5 0.5]\n",
      "  warnings.warn(f\"edge {(u,v)} doesn't have a definitive max: {dist}\", category=RuntimeWarning)\n",
      "C:\\Users\\Brus\\Documents\\repos\\TemporalEdgeProp\\edge_prop\\models\\base_model.py:55: RuntimeWarning: edge ('1256', '1312') doesn't have a definitive max: [0.5 0.5]\n",
      "  warnings.warn(f\"edge {(u,v)} doesn't have a definitive max: {dist}\", category=RuntimeWarning)\n",
      "C:\\Users\\Brus\\Documents\\repos\\TemporalEdgeProp\\edge_prop\\models\\base_model.py:55: RuntimeWarning: edge ('1313', '1319') doesn't have a definitive max: [0.5 0.5]\n",
      "  warnings.warn(f\"edge {(u,v)} doesn't have a definitive max: {dist}\", category=RuntimeWarning)\n",
      "C:\\Users\\Brus\\Documents\\repos\\TemporalEdgeProp\\edge_prop\\models\\base_model.py:55: RuntimeWarning: edge ('1380', '1404') doesn't have a definitive max: [0.5 0.5]\n",
      "  warnings.warn(f\"edge {(u,v)} doesn't have a definitive max: {dist}\", category=RuntimeWarning)\n",
      "C:\\Users\\Brus\\Documents\\repos\\TemporalEdgeProp\\edge_prop\\models\\base_model.py:55: RuntimeWarning: edge ('1381', '1731') doesn't have a definitive max: [0.5 0.5]\n",
      "  warnings.warn(f\"edge {(u,v)} doesn't have a definitive max: {dist}\", category=RuntimeWarning)\n",
      "C:\\Users\\Brus\\Documents\\repos\\TemporalEdgeProp\\edge_prop\\models\\base_model.py:55: RuntimeWarning: edge ('1585', '1602') doesn't have a definitive max: [0.5 0.5]\n",
      "  warnings.warn(f\"edge {(u,v)} doesn't have a definitive max: {dist}\", category=RuntimeWarning)\n",
      "C:\\Users\\Brus\\Documents\\repos\\TemporalEdgeProp\\edge_prop\\models\\base_model.py:55: RuntimeWarning: edge ('1660', '5479') doesn't have a definitive max: [0.5 0.5]\n",
      "  warnings.warn(f\"edge {(u,v)} doesn't have a definitive max: {dist}\", category=RuntimeWarning)\n",
      "C:\\Users\\Brus\\Documents\\repos\\TemporalEdgeProp\\edge_prop\\models\\base_model.py:55: RuntimeWarning: edge ('1671', '4581') doesn't have a definitive max: [0.5 0.5]\n",
      "  warnings.warn(f\"edge {(u,v)} doesn't have a definitive max: {dist}\", category=RuntimeWarning)\n",
      "C:\\Users\\Brus\\Documents\\repos\\TemporalEdgeProp\\edge_prop\\models\\base_model.py:55: RuntimeWarning: edge ('1803', '7014') doesn't have a definitive max: [0.5 0.5]\n",
      "  warnings.warn(f\"edge {(u,v)} doesn't have a definitive max: {dist}\", category=RuntimeWarning)\n",
      "C:\\Users\\Brus\\Documents\\repos\\TemporalEdgeProp\\edge_prop\\models\\base_model.py:55: RuntimeWarning: edge ('1831', '2447') doesn't have a definitive max: [0.5 0.5]\n",
      "  warnings.warn(f\"edge {(u,v)} doesn't have a definitive max: {dist}\", category=RuntimeWarning)\n",
      "C:\\Users\\Brus\\Documents\\repos\\TemporalEdgeProp\\edge_prop\\models\\base_model.py:55: RuntimeWarning: edge ('1910', '1968') doesn't have a definitive max: [0.5 0.5]\n",
      "  warnings.warn(f\"edge {(u,v)} doesn't have a definitive max: {dist}\", category=RuntimeWarning)\n",
      "C:\\Users\\Brus\\Documents\\repos\\TemporalEdgeProp\\edge_prop\\models\\base_model.py:55: RuntimeWarning: edge ('1921', '1923') doesn't have a definitive max: [0.5 0.5]\n",
      "  warnings.warn(f\"edge {(u,v)} doesn't have a definitive max: {dist}\", category=RuntimeWarning)\n",
      "C:\\Users\\Brus\\Documents\\repos\\TemporalEdgeProp\\edge_prop\\models\\base_model.py:55: RuntimeWarning: edge ('2106', '2107') doesn't have a definitive max: [0. 0.]\n",
      "  warnings.warn(f\"edge {(u,v)} doesn't have a definitive max: {dist}\", category=RuntimeWarning)\n",
      "C:\\Users\\Brus\\Documents\\repos\\TemporalEdgeProp\\edge_prop\\models\\base_model.py:55: RuntimeWarning: edge ('2174', '3429') doesn't have a definitive max: [0.5 0.5]\n",
      "  warnings.warn(f\"edge {(u,v)} doesn't have a definitive max: {dist}\", category=RuntimeWarning)\n",
      "C:\\Users\\Brus\\Documents\\repos\\TemporalEdgeProp\\edge_prop\\models\\base_model.py:55: RuntimeWarning: edge ('2283', '2284') doesn't have a definitive max: [0.5 0.5]\n",
      "  warnings.warn(f\"edge {(u,v)} doesn't have a definitive max: {dist}\", category=RuntimeWarning)\n",
      "C:\\Users\\Brus\\Documents\\repos\\TemporalEdgeProp\\edge_prop\\models\\base_model.py:55: RuntimeWarning: edge ('2283', '2828') doesn't have a definitive max: [0.5 0.5]\n",
      "  warnings.warn(f\"edge {(u,v)} doesn't have a definitive max: {dist}\", category=RuntimeWarning)\n",
      "C:\\Users\\Brus\\Documents\\repos\\TemporalEdgeProp\\edge_prop\\models\\base_model.py:55: RuntimeWarning: edge ('2283', '2910') doesn't have a definitive max: [0.5 0.5]\n",
      "  warnings.warn(f\"edge {(u,v)} doesn't have a definitive max: {dist}\", category=RuntimeWarning)\n",
      "C:\\Users\\Brus\\Documents\\repos\\TemporalEdgeProp\\edge_prop\\models\\base_model.py:55: RuntimeWarning: edge ('2283', '3429') doesn't have a definitive max: [0.5 0.5]\n",
      "  warnings.warn(f\"edge {(u,v)} doesn't have a definitive max: {dist}\", category=RuntimeWarning)\n",
      "C:\\Users\\Brus\\Documents\\repos\\TemporalEdgeProp\\edge_prop\\models\\base_model.py:55: RuntimeWarning: edge ('2339', '2730') doesn't have a definitive max: [0.5 0.5]\n",
      "  warnings.warn(f\"edge {(u,v)} doesn't have a definitive max: {dist}\", category=RuntimeWarning)\n",
      "C:\\Users\\Brus\\Documents\\repos\\TemporalEdgeProp\\edge_prop\\models\\base_model.py:55: RuntimeWarning: edge ('2354', '2402') doesn't have a definitive max: [0.5 0.5]\n",
      "  warnings.warn(f\"edge {(u,v)} doesn't have a definitive max: {dist}\", category=RuntimeWarning)\n",
      "C:\\Users\\Brus\\Documents\\repos\\TemporalEdgeProp\\edge_prop\\models\\base_model.py:55: RuntimeWarning: edge ('2523', '5250') doesn't have a definitive max: [0.5 0.5]\n",
      "  warnings.warn(f\"edge {(u,v)} doesn't have a definitive max: {dist}\", category=RuntimeWarning)\n"
     ]
    },
    {
     "name": "stderr",
     "output_type": "stream",
     "text": [
      "C:\\Users\\Brus\\Documents\\repos\\TemporalEdgeProp\\edge_prop\\models\\base_model.py:55: RuntimeWarning: edge ('2560', '3662') doesn't have a definitive max: [0.5 0.5]\n",
      "  warnings.warn(f\"edge {(u,v)} doesn't have a definitive max: {dist}\", category=RuntimeWarning)\n",
      "C:\\Users\\Brus\\Documents\\repos\\TemporalEdgeProp\\edge_prop\\models\\base_model.py:55: RuntimeWarning: edge ('2615', '2669') doesn't have a definitive max: [0.5 0.5]\n",
      "  warnings.warn(f\"edge {(u,v)} doesn't have a definitive max: {dist}\", category=RuntimeWarning)\n",
      "C:\\Users\\Brus\\Documents\\repos\\TemporalEdgeProp\\edge_prop\\models\\base_model.py:55: RuntimeWarning: edge ('2653', '2828') doesn't have a definitive max: [0.5 0.5]\n",
      "  warnings.warn(f\"edge {(u,v)} doesn't have a definitive max: {dist}\", category=RuntimeWarning)\n",
      "C:\\Users\\Brus\\Documents\\repos\\TemporalEdgeProp\\edge_prop\\models\\base_model.py:55: RuntimeWarning: edge ('2654', '2657') doesn't have a definitive max: [0.5 0.5]\n",
      "  warnings.warn(f\"edge {(u,v)} doesn't have a definitive max: {dist}\", category=RuntimeWarning)\n",
      "C:\\Users\\Brus\\Documents\\repos\\TemporalEdgeProp\\edge_prop\\models\\base_model.py:55: RuntimeWarning: edge ('2679', '3339') doesn't have a definitive max: [0.5 0.5]\n",
      "  warnings.warn(f\"edge {(u,v)} doesn't have a definitive max: {dist}\", category=RuntimeWarning)\n",
      "C:\\Users\\Brus\\Documents\\repos\\TemporalEdgeProp\\edge_prop\\models\\base_model.py:55: RuntimeWarning: edge ('2688', '2910') doesn't have a definitive max: [0.5 0.5]\n",
      "  warnings.warn(f\"edge {(u,v)} doesn't have a definitive max: {dist}\", category=RuntimeWarning)\n",
      "C:\\Users\\Brus\\Documents\\repos\\TemporalEdgeProp\\edge_prop\\models\\base_model.py:55: RuntimeWarning: edge ('2800', '4350') doesn't have a definitive max: [0.5 0.5]\n",
      "  warnings.warn(f\"edge {(u,v)} doesn't have a definitive max: {dist}\", category=RuntimeWarning)\n",
      "C:\\Users\\Brus\\Documents\\repos\\TemporalEdgeProp\\edge_prop\\models\\base_model.py:55: RuntimeWarning: edge ('2800', '6344') doesn't have a definitive max: [0.5 0.5]\n",
      "  warnings.warn(f\"edge {(u,v)} doesn't have a definitive max: {dist}\", category=RuntimeWarning)\n",
      "C:\\Users\\Brus\\Documents\\repos\\TemporalEdgeProp\\edge_prop\\models\\base_model.py:55: RuntimeWarning: edge ('2807', '2809') doesn't have a definitive max: [0.5 0.5]\n",
      "  warnings.warn(f\"edge {(u,v)} doesn't have a definitive max: {dist}\", category=RuntimeWarning)\n",
      "C:\\Users\\Brus\\Documents\\repos\\TemporalEdgeProp\\edge_prop\\models\\base_model.py:55: RuntimeWarning: edge ('2828', '2830') doesn't have a definitive max: [0.5 0.5]\n",
      "  warnings.warn(f\"edge {(u,v)} doesn't have a definitive max: {dist}\", category=RuntimeWarning)\n",
      "C:\\Users\\Brus\\Documents\\repos\\TemporalEdgeProp\\edge_prop\\models\\base_model.py:55: RuntimeWarning: edge ('2862', '2863') doesn't have a definitive max: [0.5 0.5]\n",
      "  warnings.warn(f\"edge {(u,v)} doesn't have a definitive max: {dist}\", category=RuntimeWarning)\n",
      "C:\\Users\\Brus\\Documents\\repos\\TemporalEdgeProp\\edge_prop\\models\\base_model.py:55: RuntimeWarning: edge ('2911', '2912') doesn't have a definitive max: [0. 0.]\n",
      "  warnings.warn(f\"edge {(u,v)} doesn't have a definitive max: {dist}\", category=RuntimeWarning)\n",
      "C:\\Users\\Brus\\Documents\\repos\\TemporalEdgeProp\\edge_prop\\models\\base_model.py:55: RuntimeWarning: edge ('2963', '2964') doesn't have a definitive max: [0. 0.]\n",
      "  warnings.warn(f\"edge {(u,v)} doesn't have a definitive max: {dist}\", category=RuntimeWarning)\n",
      "C:\\Users\\Brus\\Documents\\repos\\TemporalEdgeProp\\edge_prop\\models\\base_model.py:55: RuntimeWarning: edge ('2969', '2970') doesn't have a definitive max: [0.5 0.5]\n",
      "  warnings.warn(f\"edge {(u,v)} doesn't have a definitive max: {dist}\", category=RuntimeWarning)\n",
      "C:\\Users\\Brus\\Documents\\repos\\TemporalEdgeProp\\edge_prop\\models\\base_model.py:55: RuntimeWarning: edge ('30', '141') doesn't have a definitive max: [0.5 0.5]\n",
      "  warnings.warn(f\"edge {(u,v)} doesn't have a definitive max: {dist}\", category=RuntimeWarning)\n",
      "C:\\Users\\Brus\\Documents\\repos\\TemporalEdgeProp\\edge_prop\\models\\base_model.py:55: RuntimeWarning: edge ('306', '6644') doesn't have a definitive max: [0.5 0.5]\n",
      "  warnings.warn(f\"edge {(u,v)} doesn't have a definitive max: {dist}\", category=RuntimeWarning)\n",
      "C:\\Users\\Brus\\Documents\\repos\\TemporalEdgeProp\\edge_prop\\models\\base_model.py:55: RuntimeWarning: edge ('3129', '4350') doesn't have a definitive max: [0.5 0.5]\n",
      "  warnings.warn(f\"edge {(u,v)} doesn't have a definitive max: {dist}\", category=RuntimeWarning)\n",
      "C:\\Users\\Brus\\Documents\\repos\\TemporalEdgeProp\\edge_prop\\models\\base_model.py:55: RuntimeWarning: edge ('322', '2447') doesn't have a definitive max: [0.5 0.5]\n",
      "  warnings.warn(f\"edge {(u,v)} doesn't have a definitive max: {dist}\", category=RuntimeWarning)\n",
      "C:\\Users\\Brus\\Documents\\repos\\TemporalEdgeProp\\edge_prop\\models\\base_model.py:55: RuntimeWarning: edge ('3242', '3498') doesn't have a definitive max: [0.5 0.5]\n",
      "  warnings.warn(f\"edge {(u,v)} doesn't have a definitive max: {dist}\", category=RuntimeWarning)\n",
      "C:\\Users\\Brus\\Documents\\repos\\TemporalEdgeProp\\edge_prop\\models\\base_model.py:55: RuntimeWarning: edge ('3429', '6048') doesn't have a definitive max: [0.5 0.5]\n",
      "  warnings.warn(f\"edge {(u,v)} doesn't have a definitive max: {dist}\", category=RuntimeWarning)\n",
      "C:\\Users\\Brus\\Documents\\repos\\TemporalEdgeProp\\edge_prop\\models\\base_model.py:55: RuntimeWarning: edge ('3479', '3522') doesn't have a definitive max: [0.5 0.5]\n",
      "  warnings.warn(f\"edge {(u,v)} doesn't have a definitive max: {dist}\", category=RuntimeWarning)\n",
      "C:\\Users\\Brus\\Documents\\repos\\TemporalEdgeProp\\edge_prop\\models\\base_model.py:55: RuntimeWarning: edge ('3522', '3524') doesn't have a definitive max: [0.5 0.5]\n",
      "  warnings.warn(f\"edge {(u,v)} doesn't have a definitive max: {dist}\", category=RuntimeWarning)\n",
      "C:\\Users\\Brus\\Documents\\repos\\TemporalEdgeProp\\edge_prop\\models\\base_model.py:55: RuntimeWarning: edge ('3619', '4188') doesn't have a definitive max: [0.5 0.5]\n",
      "  warnings.warn(f\"edge {(u,v)} doesn't have a definitive max: {dist}\", category=RuntimeWarning)\n",
      "C:\\Users\\Brus\\Documents\\repos\\TemporalEdgeProp\\edge_prop\\models\\base_model.py:55: RuntimeWarning: edge ('3662', '3757') doesn't have a definitive max: [0.5 0.5]\n",
      "  warnings.warn(f\"edge {(u,v)} doesn't have a definitive max: {dist}\", category=RuntimeWarning)\n",
      "C:\\Users\\Brus\\Documents\\repos\\TemporalEdgeProp\\edge_prop\\models\\base_model.py:55: RuntimeWarning: edge ('3725', '6644') doesn't have a definitive max: [0.5 0.5]\n",
      "  warnings.warn(f\"edge {(u,v)} doesn't have a definitive max: {dist}\", category=RuntimeWarning)\n",
      "C:\\Users\\Brus\\Documents\\repos\\TemporalEdgeProp\\edge_prop\\models\\base_model.py:55: RuntimeWarning: edge ('3732', '3805') doesn't have a definitive max: [0.5 0.5]\n",
      "  warnings.warn(f\"edge {(u,v)} doesn't have a definitive max: {dist}\", category=RuntimeWarning)\n",
      "C:\\Users\\Brus\\Documents\\repos\\TemporalEdgeProp\\edge_prop\\models\\base_model.py:55: RuntimeWarning: edge ('3758', '3759') doesn't have a definitive max: [0. 0.]\n",
      "  warnings.warn(f\"edge {(u,v)} doesn't have a definitive max: {dist}\", category=RuntimeWarning)\n",
      "C:\\Users\\Brus\\Documents\\repos\\TemporalEdgeProp\\edge_prop\\models\\base_model.py:55: RuntimeWarning: edge ('3759', '3759') doesn't have a definitive max: [0. 0.]\n",
      "  warnings.warn(f\"edge {(u,v)} doesn't have a definitive max: {dist}\", category=RuntimeWarning)\n",
      "C:\\Users\\Brus\\Documents\\repos\\TemporalEdgeProp\\edge_prop\\models\\base_model.py:55: RuntimeWarning: edge ('3879', '4577') doesn't have a definitive max: [0.5 0.5]\n",
      "  warnings.warn(f\"edge {(u,v)} doesn't have a definitive max: {dist}\", category=RuntimeWarning)\n",
      "C:\\Users\\Brus\\Documents\\repos\\TemporalEdgeProp\\edge_prop\\models\\base_model.py:55: RuntimeWarning: edge ('4033', '4703') doesn't have a definitive max: [0.5 0.5]\n",
      "  warnings.warn(f\"edge {(u,v)} doesn't have a definitive max: {dist}\", category=RuntimeWarning)\n",
      "C:\\Users\\Brus\\Documents\\repos\\TemporalEdgeProp\\edge_prop\\models\\base_model.py:55: RuntimeWarning: edge ('4088', '4089') doesn't have a definitive max: [0.5 0.5]\n",
      "  warnings.warn(f\"edge {(u,v)} doesn't have a definitive max: {dist}\", category=RuntimeWarning)\n",
      "C:\\Users\\Brus\\Documents\\repos\\TemporalEdgeProp\\edge_prop\\models\\base_model.py:55: RuntimeWarning: edge ('4186', '7064') doesn't have a definitive max: [0.5 0.5]\n",
      "  warnings.warn(f\"edge {(u,v)} doesn't have a definitive max: {dist}\", category=RuntimeWarning)\n",
      "C:\\Users\\Brus\\Documents\\repos\\TemporalEdgeProp\\edge_prop\\models\\base_model.py:55: RuntimeWarning: edge ('4268', '4315') doesn't have a definitive max: [0.5 0.5]\n",
      "  warnings.warn(f\"edge {(u,v)} doesn't have a definitive max: {dist}\", category=RuntimeWarning)\n",
      "C:\\Users\\Brus\\Documents\\repos\\TemporalEdgeProp\\edge_prop\\models\\base_model.py:55: RuntimeWarning: edge ('4441', '6865') doesn't have a definitive max: [0.5 0.5]\n",
      "  warnings.warn(f\"edge {(u,v)} doesn't have a definitive max: {dist}\", category=RuntimeWarning)\n",
      "C:\\Users\\Brus\\Documents\\repos\\TemporalEdgeProp\\edge_prop\\models\\base_model.py:55: RuntimeWarning: edge ('455', '808') doesn't have a definitive max: [0.5 0.5]\n",
      "  warnings.warn(f\"edge {(u,v)} doesn't have a definitive max: {dist}\", category=RuntimeWarning)\n",
      "C:\\Users\\Brus\\Documents\\repos\\TemporalEdgeProp\\edge_prop\\models\\base_model.py:55: RuntimeWarning: edge ('4560', '5405') doesn't have a definitive max: [0.5 0.5]\n",
      "  warnings.warn(f\"edge {(u,v)} doesn't have a definitive max: {dist}\", category=RuntimeWarning)\n",
      "C:\\Users\\Brus\\Documents\\repos\\TemporalEdgeProp\\edge_prop\\models\\base_model.py:55: RuntimeWarning: edge ('4907', '5947') doesn't have a definitive max: [0.5 0.5]\n",
      "  warnings.warn(f\"edge {(u,v)} doesn't have a definitive max: {dist}\", category=RuntimeWarning)\n"
     ]
    },
    {
     "name": "stderr",
     "output_type": "stream",
     "text": [
      "C:\\Users\\Brus\\Documents\\repos\\TemporalEdgeProp\\edge_prop\\models\\base_model.py:55: RuntimeWarning: edge ('5045', '5045') doesn't have a definitive max: [0. 0.]\n",
      "  warnings.warn(f\"edge {(u,v)} doesn't have a definitive max: {dist}\", category=RuntimeWarning)\n",
      "C:\\Users\\Brus\\Documents\\repos\\TemporalEdgeProp\\edge_prop\\models\\base_model.py:55: RuntimeWarning: edge ('506', '1619') doesn't have a definitive max: [0.5 0.5]\n",
      "  warnings.warn(f\"edge {(u,v)} doesn't have a definitive max: {dist}\", category=RuntimeWarning)\n",
      "C:\\Users\\Brus\\Documents\\repos\\TemporalEdgeProp\\edge_prop\\models\\base_model.py:55: RuntimeWarning: edge ('5248', '5250') doesn't have a definitive max: [0.5 0.5]\n",
      "  warnings.warn(f\"edge {(u,v)} doesn't have a definitive max: {dist}\", category=RuntimeWarning)\n",
      "C:\\Users\\Brus\\Documents\\repos\\TemporalEdgeProp\\edge_prop\\models\\base_model.py:55: RuntimeWarning: edge ('5250', '5376') doesn't have a definitive max: [0.5 0.5]\n",
      "  warnings.warn(f\"edge {(u,v)} doesn't have a definitive max: {dist}\", category=RuntimeWarning)\n",
      "C:\\Users\\Brus\\Documents\\repos\\TemporalEdgeProp\\edge_prop\\models\\base_model.py:55: RuntimeWarning: edge ('5262', '5396') doesn't have a definitive max: [0.5 0.5]\n",
      "  warnings.warn(f\"edge {(u,v)} doesn't have a definitive max: {dist}\", category=RuntimeWarning)\n",
      "C:\\Users\\Brus\\Documents\\repos\\TemporalEdgeProp\\edge_prop\\models\\base_model.py:55: RuntimeWarning: edge ('5264', '5282') doesn't have a definitive max: [0.5 0.5]\n",
      "  warnings.warn(f\"edge {(u,v)} doesn't have a definitive max: {dist}\", category=RuntimeWarning)\n",
      "C:\\Users\\Brus\\Documents\\repos\\TemporalEdgeProp\\edge_prop\\models\\base_model.py:55: RuntimeWarning: edge ('5266', '5267') doesn't have a definitive max: [0. 0.]\n",
      "  warnings.warn(f\"edge {(u,v)} doesn't have a definitive max: {dist}\", category=RuntimeWarning)\n",
      "C:\\Users\\Brus\\Documents\\repos\\TemporalEdgeProp\\edge_prop\\models\\base_model.py:55: RuntimeWarning: edge ('5299', '7113') doesn't have a definitive max: [0.5 0.5]\n",
      "  warnings.warn(f\"edge {(u,v)} doesn't have a definitive max: {dist}\", category=RuntimeWarning)\n",
      "C:\\Users\\Brus\\Documents\\repos\\TemporalEdgeProp\\edge_prop\\models\\base_model.py:55: RuntimeWarning: edge ('5307', '5479') doesn't have a definitive max: [0.5 0.5]\n",
      "  warnings.warn(f\"edge {(u,v)} doesn't have a definitive max: {dist}\", category=RuntimeWarning)\n",
      "C:\\Users\\Brus\\Documents\\repos\\TemporalEdgeProp\\edge_prop\\models\\base_model.py:55: RuntimeWarning: edge ('5311', '5312') doesn't have a definitive max: [0. 0.]\n",
      "  warnings.warn(f\"edge {(u,v)} doesn't have a definitive max: {dist}\", category=RuntimeWarning)\n",
      "C:\\Users\\Brus\\Documents\\repos\\TemporalEdgeProp\\edge_prop\\models\\base_model.py:55: RuntimeWarning: edge ('5366', '5367') doesn't have a definitive max: [0.5 0.5]\n",
      "  warnings.warn(f\"edge {(u,v)} doesn't have a definitive max: {dist}\", category=RuntimeWarning)\n",
      "C:\\Users\\Brus\\Documents\\repos\\TemporalEdgeProp\\edge_prop\\models\\base_model.py:55: RuntimeWarning: edge ('5368', '5669') doesn't have a definitive max: [0.5 0.5]\n",
      "  warnings.warn(f\"edge {(u,v)} doesn't have a definitive max: {dist}\", category=RuntimeWarning)\n",
      "C:\\Users\\Brus\\Documents\\repos\\TemporalEdgeProp\\edge_prop\\models\\base_model.py:55: RuntimeWarning: edge ('5370', '5371') doesn't have a definitive max: [0. 0.]\n",
      "  warnings.warn(f\"edge {(u,v)} doesn't have a definitive max: {dist}\", category=RuntimeWarning)\n",
      "C:\\Users\\Brus\\Documents\\repos\\TemporalEdgeProp\\edge_prop\\models\\base_model.py:55: RuntimeWarning: edge ('5472', '5877') doesn't have a definitive max: [0.5 0.5]\n",
      "  warnings.warn(f\"edge {(u,v)} doesn't have a definitive max: {dist}\", category=RuntimeWarning)\n",
      "C:\\Users\\Brus\\Documents\\repos\\TemporalEdgeProp\\edge_prop\\models\\base_model.py:55: RuntimeWarning: edge ('55', '152') doesn't have a definitive max: [0.5 0.5]\n",
      "  warnings.warn(f\"edge {(u,v)} doesn't have a definitive max: {dist}\", category=RuntimeWarning)\n",
      "C:\\Users\\Brus\\Documents\\repos\\TemporalEdgeProp\\edge_prop\\models\\base_model.py:55: RuntimeWarning: edge ('5604', '5604') doesn't have a definitive max: [0. 0.]\n",
      "  warnings.warn(f\"edge {(u,v)} doesn't have a definitive max: {dist}\", category=RuntimeWarning)\n",
      "C:\\Users\\Brus\\Documents\\repos\\TemporalEdgeProp\\edge_prop\\models\\base_model.py:55: RuntimeWarning: edge ('5675', '6089') doesn't have a definitive max: [0.5 0.5]\n",
      "  warnings.warn(f\"edge {(u,v)} doesn't have a definitive max: {dist}\", category=RuntimeWarning)\n",
      "C:\\Users\\Brus\\Documents\\repos\\TemporalEdgeProp\\edge_prop\\models\\base_model.py:55: RuntimeWarning: edge ('5714', '6775') doesn't have a definitive max: [0.5 0.5]\n",
      "  warnings.warn(f\"edge {(u,v)} doesn't have a definitive max: {dist}\", category=RuntimeWarning)\n",
      "C:\\Users\\Brus\\Documents\\repos\\TemporalEdgeProp\\edge_prop\\models\\base_model.py:55: RuntimeWarning: edge ('5714', '6889') doesn't have a definitive max: [0.5 0.5]\n",
      "  warnings.warn(f\"edge {(u,v)} doesn't have a definitive max: {dist}\", category=RuntimeWarning)\n",
      "C:\\Users\\Brus\\Documents\\repos\\TemporalEdgeProp\\edge_prop\\models\\base_model.py:55: RuntimeWarning: edge ('5796', '5843') doesn't have a definitive max: [0.5 0.5]\n",
      "  warnings.warn(f\"edge {(u,v)} doesn't have a definitive max: {dist}\", category=RuntimeWarning)\n",
      "C:\\Users\\Brus\\Documents\\repos\\TemporalEdgeProp\\edge_prop\\models\\base_model.py:55: RuntimeWarning: edge ('5869', '6936') doesn't have a definitive max: [0.5 0.5]\n",
      "  warnings.warn(f\"edge {(u,v)} doesn't have a definitive max: {dist}\", category=RuntimeWarning)\n",
      "C:\\Users\\Brus\\Documents\\repos\\TemporalEdgeProp\\edge_prop\\models\\base_model.py:55: RuntimeWarning: edge ('5906', '6428') doesn't have a definitive max: [0.5 0.5]\n",
      "  warnings.warn(f\"edge {(u,v)} doesn't have a definitive max: {dist}\", category=RuntimeWarning)\n",
      "C:\\Users\\Brus\\Documents\\repos\\TemporalEdgeProp\\edge_prop\\models\\base_model.py:55: RuntimeWarning: edge ('5952', '6620') doesn't have a definitive max: [0.5 0.5]\n",
      "  warnings.warn(f\"edge {(u,v)} doesn't have a definitive max: {dist}\", category=RuntimeWarning)\n",
      "C:\\Users\\Brus\\Documents\\repos\\TemporalEdgeProp\\edge_prop\\models\\base_model.py:55: RuntimeWarning: edge ('6067', '6089') doesn't have a definitive max: [0.5 0.5]\n",
      "  warnings.warn(f\"edge {(u,v)} doesn't have a definitive max: {dist}\", category=RuntimeWarning)\n",
      "C:\\Users\\Brus\\Documents\\repos\\TemporalEdgeProp\\edge_prop\\models\\base_model.py:55: RuntimeWarning: edge ('6151', '6644') doesn't have a definitive max: [0.5 0.5]\n",
      "  warnings.warn(f\"edge {(u,v)} doesn't have a definitive max: {dist}\", category=RuntimeWarning)\n",
      "C:\\Users\\Brus\\Documents\\repos\\TemporalEdgeProp\\edge_prop\\models\\base_model.py:55: RuntimeWarning: edge ('6206', '6228') doesn't have a definitive max: [0.5 0.5]\n",
      "  warnings.warn(f\"edge {(u,v)} doesn't have a definitive max: {dist}\", category=RuntimeWarning)\n",
      "C:\\Users\\Brus\\Documents\\repos\\TemporalEdgeProp\\edge_prop\\models\\base_model.py:55: RuntimeWarning: edge ('6272', '6836') doesn't have a definitive max: [0.5 0.5]\n",
      "  warnings.warn(f\"edge {(u,v)} doesn't have a definitive max: {dist}\", category=RuntimeWarning)\n",
      "C:\\Users\\Brus\\Documents\\repos\\TemporalEdgeProp\\edge_prop\\models\\base_model.py:55: RuntimeWarning: edge ('6273', '6274') doesn't have a definitive max: [0. 0.]\n",
      "  warnings.warn(f\"edge {(u,v)} doesn't have a definitive max: {dist}\", category=RuntimeWarning)\n",
      "C:\\Users\\Brus\\Documents\\repos\\TemporalEdgeProp\\edge_prop\\models\\base_model.py:55: RuntimeWarning: edge ('6312', '6694') doesn't have a definitive max: [0.5 0.5]\n",
      "  warnings.warn(f\"edge {(u,v)} doesn't have a definitive max: {dist}\", category=RuntimeWarning)\n",
      "C:\\Users\\Brus\\Documents\\repos\\TemporalEdgeProp\\edge_prop\\models\\base_model.py:55: RuntimeWarning: edge ('6470', '6511') doesn't have a definitive max: [0.5 0.5]\n",
      "  warnings.warn(f\"edge {(u,v)} doesn't have a definitive max: {dist}\", category=RuntimeWarning)\n",
      "C:\\Users\\Brus\\Documents\\repos\\TemporalEdgeProp\\edge_prop\\models\\base_model.py:55: RuntimeWarning: edge ('6500', '6609') doesn't have a definitive max: [0.5 0.5]\n",
      "  warnings.warn(f\"edge {(u,v)} doesn't have a definitive max: {dist}\", category=RuntimeWarning)\n",
      "C:\\Users\\Brus\\Documents\\repos\\TemporalEdgeProp\\edge_prop\\models\\base_model.py:55: RuntimeWarning: edge ('654', '4730') doesn't have a definitive max: [0.5 0.5]\n",
      "  warnings.warn(f\"edge {(u,v)} doesn't have a definitive max: {dist}\", category=RuntimeWarning)\n",
      "C:\\Users\\Brus\\Documents\\repos\\TemporalEdgeProp\\edge_prop\\models\\base_model.py:55: RuntimeWarning: edge ('6558', '6811') doesn't have a definitive max: [0.5 0.5]\n",
      "  warnings.warn(f\"edge {(u,v)} doesn't have a definitive max: {dist}\", category=RuntimeWarning)\n",
      "C:\\Users\\Brus\\Documents\\repos\\TemporalEdgeProp\\edge_prop\\models\\base_model.py:55: RuntimeWarning: edge ('6594', '6594') doesn't have a definitive max: [0. 0.]\n",
      "  warnings.warn(f\"edge {(u,v)} doesn't have a definitive max: {dist}\", category=RuntimeWarning)\n",
      "C:\\Users\\Brus\\Documents\\repos\\TemporalEdgeProp\\edge_prop\\models\\base_model.py:55: RuntimeWarning: edge ('6669', '6694') doesn't have a definitive max: [0.5 0.5]\n",
      "  warnings.warn(f\"edge {(u,v)} doesn't have a definitive max: {dist}\", category=RuntimeWarning)\n",
      "C:\\Users\\Brus\\Documents\\repos\\TemporalEdgeProp\\edge_prop\\models\\base_model.py:55: RuntimeWarning: edge ('6811', '7029') doesn't have a definitive max: [0.5 0.5]\n",
      "  warnings.warn(f\"edge {(u,v)} doesn't have a definitive max: {dist}\", category=RuntimeWarning)\n",
      "C:\\Users\\Brus\\Documents\\repos\\TemporalEdgeProp\\edge_prop\\models\\base_model.py:55: RuntimeWarning: edge ('6813', '6997') doesn't have a definitive max: [0.5 0.5]\n",
      "  warnings.warn(f\"edge {(u,v)} doesn't have a definitive max: {dist}\", category=RuntimeWarning)\n",
      "C:\\Users\\Brus\\Documents\\repos\\TemporalEdgeProp\\edge_prop\\models\\base_model.py:55: RuntimeWarning: edge ('6813', '7011') doesn't have a definitive max: [0.5 0.5]\n",
      "  warnings.warn(f\"edge {(u,v)} doesn't have a definitive max: {dist}\", category=RuntimeWarning)\n",
      "C:\\Users\\Brus\\Documents\\repos\\TemporalEdgeProp\\edge_prop\\models\\base_model.py:55: RuntimeWarning: edge ('6925', '7080') doesn't have a definitive max: [0.5 0.5]\n",
      "  warnings.warn(f\"edge {(u,v)} doesn't have a definitive max: {dist}\", category=RuntimeWarning)\n",
      "C:\\Users\\Brus\\Documents\\repos\\TemporalEdgeProp\\edge_prop\\models\\base_model.py:55: RuntimeWarning: edge ('727', '728') doesn't have a definitive max: [0.5 0.5]\n",
      "  warnings.warn(f\"edge {(u,v)} doesn't have a definitive max: {dist}\", category=RuntimeWarning)\n",
      "C:\\Users\\Brus\\Documents\\repos\\TemporalEdgeProp\\edge_prop\\models\\base_model.py:55: RuntimeWarning: edge ('825', '826') doesn't have a definitive max: [0.5 0.5]\n",
      "  warnings.warn(f\"edge {(u,v)} doesn't have a definitive max: {dist}\", category=RuntimeWarning)\n",
      "C:\\Users\\Brus\\Documents\\repos\\TemporalEdgeProp\\edge_prop\\models\\base_model.py:55: RuntimeWarning: edge ('926', '2055') doesn't have a definitive max: [0.5 0.5]\n",
      "  warnings.warn(f\"edge {(u,v)} doesn't have a definitive max: {dist}\", category=RuntimeWarning)\n"
     ]
    },
    {
     "data": {
      "application/vnd.jupyter.widget-view+json": {
       "model_id": "bd2e7f4a1991429f82addd13e3f3176d",
       "version_major": 2,
       "version_minor": 0
      },
      "text/plain": [
       "HBox(children=(FloatProgress(value=0.0, description='Fitting model', max=50.0, style=ProgressStyle(description…"
      ]
     },
     "metadata": {},
     "output_type": "display_data"
    },
    {
     "name": "stdout",
     "output_type": "stream",
     "text": [
      "\n"
     ]
    },
    {
     "name": "stderr",
     "output_type": "stream",
     "text": [
      "C:\\Users\\Brus\\Documents\\repos\\TemporalEdgeProp\\edge_prop\\models\\base_model.py:55: RuntimeWarning: edge ('2106', '2107') doesn't have a definitive max: [0. 0.]\n",
      "  warnings.warn(f\"edge {(u,v)} doesn't have a definitive max: {dist}\", category=RuntimeWarning)\n",
      "C:\\Users\\Brus\\Documents\\repos\\TemporalEdgeProp\\edge_prop\\models\\base_model.py:55: RuntimeWarning: edge ('2963', '2964') doesn't have a definitive max: [0. 0.]\n",
      "  warnings.warn(f\"edge {(u,v)} doesn't have a definitive max: {dist}\", category=RuntimeWarning)\n",
      "C:\\Users\\Brus\\Documents\\repos\\TemporalEdgeProp\\edge_prop\\models\\base_model.py:55: RuntimeWarning: edge ('3758', '3759') doesn't have a definitive max: [0. 0.]\n",
      "  warnings.warn(f\"edge {(u,v)} doesn't have a definitive max: {dist}\", category=RuntimeWarning)\n",
      "C:\\Users\\Brus\\Documents\\repos\\TemporalEdgeProp\\edge_prop\\models\\base_model.py:55: RuntimeWarning: edge ('3759', '3759') doesn't have a definitive max: [0. 0.]\n",
      "  warnings.warn(f\"edge {(u,v)} doesn't have a definitive max: {dist}\", category=RuntimeWarning)\n",
      "C:\\Users\\Brus\\Documents\\repos\\TemporalEdgeProp\\edge_prop\\models\\base_model.py:55: RuntimeWarning: edge ('4072', '4073') doesn't have a definitive max: [0. 0.]\n",
      "  warnings.warn(f\"edge {(u,v)} doesn't have a definitive max: {dist}\", category=RuntimeWarning)\n",
      "C:\\Users\\Brus\\Documents\\repos\\TemporalEdgeProp\\edge_prop\\models\\base_model.py:55: RuntimeWarning: edge ('4797', '4798') doesn't have a definitive max: [0. 0.]\n",
      "  warnings.warn(f\"edge {(u,v)} doesn't have a definitive max: {dist}\", category=RuntimeWarning)\n",
      "C:\\Users\\Brus\\Documents\\repos\\TemporalEdgeProp\\edge_prop\\models\\base_model.py:55: RuntimeWarning: edge ('5025', '5026') doesn't have a definitive max: [0. 0.]\n",
      "  warnings.warn(f\"edge {(u,v)} doesn't have a definitive max: {dist}\", category=RuntimeWarning)\n",
      "C:\\Users\\Brus\\Documents\\repos\\TemporalEdgeProp\\edge_prop\\models\\base_model.py:55: RuntimeWarning: edge ('5045', '5045') doesn't have a definitive max: [0. 0.]\n",
      "  warnings.warn(f\"edge {(u,v)} doesn't have a definitive max: {dist}\", category=RuntimeWarning)\n",
      "C:\\Users\\Brus\\Documents\\repos\\TemporalEdgeProp\\edge_prop\\models\\base_model.py:55: RuntimeWarning: edge ('5098', '5099') doesn't have a definitive max: [0. 0.]\n",
      "  warnings.warn(f\"edge {(u,v)} doesn't have a definitive max: {dist}\", category=RuntimeWarning)\n",
      "C:\\Users\\Brus\\Documents\\repos\\TemporalEdgeProp\\edge_prop\\models\\base_model.py:55: RuntimeWarning: edge ('5266', '5267') doesn't have a definitive max: [0. 0.]\n",
      "  warnings.warn(f\"edge {(u,v)} doesn't have a definitive max: {dist}\", category=RuntimeWarning)\n",
      "C:\\Users\\Brus\\Documents\\repos\\TemporalEdgeProp\\edge_prop\\models\\base_model.py:55: RuntimeWarning: edge ('5311', '5312') doesn't have a definitive max: [0. 0.]\n",
      "  warnings.warn(f\"edge {(u,v)} doesn't have a definitive max: {dist}\", category=RuntimeWarning)\n",
      "C:\\Users\\Brus\\Documents\\repos\\TemporalEdgeProp\\edge_prop\\models\\base_model.py:55: RuntimeWarning: edge ('5370', '5371') doesn't have a definitive max: [0. 0.]\n",
      "  warnings.warn(f\"edge {(u,v)} doesn't have a definitive max: {dist}\", category=RuntimeWarning)\n",
      "C:\\Users\\Brus\\Documents\\repos\\TemporalEdgeProp\\edge_prop\\models\\base_model.py:55: RuntimeWarning: edge ('5379', '5380') doesn't have a definitive max: [0. 0.]\n",
      "  warnings.warn(f\"edge {(u,v)} doesn't have a definitive max: {dist}\", category=RuntimeWarning)\n",
      "C:\\Users\\Brus\\Documents\\repos\\TemporalEdgeProp\\edge_prop\\models\\base_model.py:55: RuntimeWarning: edge ('5503', '5504') doesn't have a definitive max: [0. 0.]\n",
      "  warnings.warn(f\"edge {(u,v)} doesn't have a definitive max: {dist}\", category=RuntimeWarning)\n",
      "C:\\Users\\Brus\\Documents\\repos\\TemporalEdgeProp\\edge_prop\\models\\base_model.py:55: RuntimeWarning: edge ('5510', '5511') doesn't have a definitive max: [0. 0.]\n",
      "  warnings.warn(f\"edge {(u,v)} doesn't have a definitive max: {dist}\", category=RuntimeWarning)\n",
      "C:\\Users\\Brus\\Documents\\repos\\TemporalEdgeProp\\edge_prop\\models\\base_model.py:55: RuntimeWarning: edge ('5604', '5604') doesn't have a definitive max: [0. 0.]\n",
      "  warnings.warn(f\"edge {(u,v)} doesn't have a definitive max: {dist}\", category=RuntimeWarning)\n",
      "C:\\Users\\Brus\\Documents\\repos\\TemporalEdgeProp\\edge_prop\\models\\base_model.py:55: RuntimeWarning: edge ('6133', '6134') doesn't have a definitive max: [0. 0.]\n",
      "  warnings.warn(f\"edge {(u,v)} doesn't have a definitive max: {dist}\", category=RuntimeWarning)\n",
      "C:\\Users\\Brus\\Documents\\repos\\TemporalEdgeProp\\edge_prop\\models\\base_model.py:55: RuntimeWarning: edge ('6134', '6135') doesn't have a definitive max: [0. 0.]\n",
      "  warnings.warn(f\"edge {(u,v)} doesn't have a definitive max: {dist}\", category=RuntimeWarning)\n",
      "C:\\Users\\Brus\\Documents\\repos\\TemporalEdgeProp\\edge_prop\\models\\base_model.py:55: RuntimeWarning: edge ('6273', '6274') doesn't have a definitive max: [0. 0.]\n",
      "  warnings.warn(f\"edge {(u,v)} doesn't have a definitive max: {dist}\", category=RuntimeWarning)\n",
      "C:\\Users\\Brus\\Documents\\repos\\TemporalEdgeProp\\edge_prop\\models\\base_model.py:55: RuntimeWarning: edge ('6477', '6478') doesn't have a definitive max: [0. 0.]\n",
      "  warnings.warn(f\"edge {(u,v)} doesn't have a definitive max: {dist}\", category=RuntimeWarning)\n",
      "C:\\Users\\Brus\\Documents\\repos\\TemporalEdgeProp\\edge_prop\\models\\base_model.py:55: RuntimeWarning: edge ('6478', '6479') doesn't have a definitive max: [0. 0.]\n",
      "  warnings.warn(f\"edge {(u,v)} doesn't have a definitive max: {dist}\", category=RuntimeWarning)\n",
      "C:\\Users\\Brus\\Documents\\repos\\TemporalEdgeProp\\edge_prop\\models\\base_model.py:55: RuntimeWarning: edge ('6872', '6873') doesn't have a definitive max: [0. 0.]\n",
      "  warnings.warn(f\"edge {(u,v)} doesn't have a definitive max: {dist}\", category=RuntimeWarning)\n",
      "C:\\Users\\Brus\\Documents\\repos\\TemporalEdgeProp\\edge_prop\\models\\base_model.py:55: RuntimeWarning: edge ('6880', '6881') doesn't have a definitive max: [0. 0.]\n",
      "  warnings.warn(f\"edge {(u,v)} doesn't have a definitive max: {dist}\", category=RuntimeWarning)\n",
      "C:\\Users\\Brus\\Documents\\repos\\TemporalEdgeProp\\edge_prop\\models\\base_model.py:55: RuntimeWarning: edge ('6903', '6904') doesn't have a definitive max: [0. 0.]\n",
      "  warnings.warn(f\"edge {(u,v)} doesn't have a definitive max: {dist}\", category=RuntimeWarning)\n",
      "C:\\Users\\Brus\\Documents\\repos\\TemporalEdgeProp\\edge_prop\\models\\base_model.py:55: RuntimeWarning: edge ('6948', '6949') doesn't have a definitive max: [0. 0.]\n",
      "  warnings.warn(f\"edge {(u,v)} doesn't have a definitive max: {dist}\", category=RuntimeWarning)\n",
      "C:\\Users\\Brus\\Documents\\repos\\TemporalEdgeProp\\edge_prop\\models\\base_model.py:55: RuntimeWarning: edge ('6949', '6950') doesn't have a definitive max: [0. 0.]\n",
      "  warnings.warn(f\"edge {(u,v)} doesn't have a definitive max: {dist}\", category=RuntimeWarning)\n",
      "Fitting model:   0%|                                                                                                                             | 0/50 [00:00<?, ?iter/s, dif=0.000795]\n",
      "C:\\Users\\Brus\\Documents\\repos\\TemporalEdgeProp\\edge_prop\\models\\base_model.py:55: RuntimeWarning: edge ('1002', '1881') doesn't have a definitive max: [0.5 0.5]\n",
      "  warnings.warn(f\"edge {(u,v)} doesn't have a definitive max: {dist}\", category=RuntimeWarning)\n",
      "C:\\Users\\Brus\\Documents\\repos\\TemporalEdgeProp\\edge_prop\\models\\base_model.py:55: RuntimeWarning: edge ('1083', '1084') doesn't have a definitive max: [0.5 0.5]\n",
      "  warnings.warn(f\"edge {(u,v)} doesn't have a definitive max: {dist}\", category=RuntimeWarning)\n",
      "C:\\Users\\Brus\\Documents\\repos\\TemporalEdgeProp\\edge_prop\\models\\base_model.py:55: RuntimeWarning: edge ('1103', '5157') doesn't have a definitive max: [0.5 0.5]\n",
      "  warnings.warn(f\"edge {(u,v)} doesn't have a definitive max: {dist}\", category=RuntimeWarning)\n",
      "C:\\Users\\Brus\\Documents\\repos\\TemporalEdgeProp\\edge_prop\\models\\base_model.py:55: RuntimeWarning: edge ('1132', '1355') doesn't have a definitive max: [0.5 0.5]\n",
      "  warnings.warn(f\"edge {(u,v)} doesn't have a definitive max: {dist}\", category=RuntimeWarning)\n",
      "C:\\Users\\Brus\\Documents\\repos\\TemporalEdgeProp\\edge_prop\\models\\base_model.py:55: RuntimeWarning: edge ('1143', '1156') doesn't have a definitive max: [0.5 0.5]\n",
      "  warnings.warn(f\"edge {(u,v)} doesn't have a definitive max: {dist}\", category=RuntimeWarning)\n",
      "C:\\Users\\Brus\\Documents\\repos\\TemporalEdgeProp\\edge_prop\\models\\base_model.py:55: RuntimeWarning: edge ('1151', '3116') doesn't have a definitive max: [0.5 0.5]\n",
      "  warnings.warn(f\"edge {(u,v)} doesn't have a definitive max: {dist}\", category=RuntimeWarning)\n",
      "C:\\Users\\Brus\\Documents\\repos\\TemporalEdgeProp\\edge_prop\\models\\base_model.py:55: RuntimeWarning: edge ('1151', '3127') doesn't have a definitive max: [0.5 0.5]\n",
      "  warnings.warn(f\"edge {(u,v)} doesn't have a definitive max: {dist}\", category=RuntimeWarning)\n",
      "C:\\Users\\Brus\\Documents\\repos\\TemporalEdgeProp\\edge_prop\\models\\base_model.py:55: RuntimeWarning: edge ('1151', '3140') doesn't have a definitive max: [0.5 0.5]\n",
      "  warnings.warn(f\"edge {(u,v)} doesn't have a definitive max: {dist}\", category=RuntimeWarning)\n",
      "C:\\Users\\Brus\\Documents\\repos\\TemporalEdgeProp\\edge_prop\\models\\base_model.py:55: RuntimeWarning: edge ('1184', '2003') doesn't have a definitive max: [0.5 0.5]\n",
      "  warnings.warn(f\"edge {(u,v)} doesn't have a definitive max: {dist}\", category=RuntimeWarning)\n",
      "C:\\Users\\Brus\\Documents\\repos\\TemporalEdgeProp\\edge_prop\\models\\base_model.py:55: RuntimeWarning: edge ('1194', '3504') doesn't have a definitive max: [0.5 0.5]\n",
      "  warnings.warn(f\"edge {(u,v)} doesn't have a definitive max: {dist}\", category=RuntimeWarning)\n",
      "C:\\Users\\Brus\\Documents\\repos\\TemporalEdgeProp\\edge_prop\\models\\base_model.py:55: RuntimeWarning: edge ('122', '126') doesn't have a definitive max: [0.5 0.5]\n",
      "  warnings.warn(f\"edge {(u,v)} doesn't have a definitive max: {dist}\", category=RuntimeWarning)\n",
      "C:\\Users\\Brus\\Documents\\repos\\TemporalEdgeProp\\edge_prop\\models\\base_model.py:55: RuntimeWarning: edge ('126', '186') doesn't have a definitive max: [0.5 0.5]\n",
      "  warnings.warn(f\"edge {(u,v)} doesn't have a definitive max: {dist}\", category=RuntimeWarning)\n",
      "C:\\Users\\Brus\\Documents\\repos\\TemporalEdgeProp\\edge_prop\\models\\base_model.py:55: RuntimeWarning: edge ('126', '296') doesn't have a definitive max: [0.5 0.5]\n",
      "  warnings.warn(f\"edge {(u,v)} doesn't have a definitive max: {dist}\", category=RuntimeWarning)\n",
      "C:\\Users\\Brus\\Documents\\repos\\TemporalEdgeProp\\edge_prop\\models\\base_model.py:55: RuntimeWarning: edge ('1273', '2594') doesn't have a definitive max: [0.5 0.5]\n",
      "  warnings.warn(f\"edge {(u,v)} doesn't have a definitive max: {dist}\", category=RuntimeWarning)\n",
      "C:\\Users\\Brus\\Documents\\repos\\TemporalEdgeProp\\edge_prop\\models\\base_model.py:55: RuntimeWarning: edge ('1286', '6292') doesn't have a definitive max: [0.5 0.5]\n",
      "  warnings.warn(f\"edge {(u,v)} doesn't have a definitive max: {dist}\", category=RuntimeWarning)\n",
      "C:\\Users\\Brus\\Documents\\repos\\TemporalEdgeProp\\edge_prop\\models\\base_model.py:55: RuntimeWarning: edge ('1300', '1303') doesn't have a definitive max: [0.5 0.5]\n",
      "  warnings.warn(f\"edge {(u,v)} doesn't have a definitive max: {dist}\", category=RuntimeWarning)\n",
      "C:\\Users\\Brus\\Documents\\repos\\TemporalEdgeProp\\edge_prop\\models\\base_model.py:55: RuntimeWarning: edge ('1303', '1438') doesn't have a definitive max: [0.5 0.5]\n",
      "  warnings.warn(f\"edge {(u,v)} doesn't have a definitive max: {dist}\", category=RuntimeWarning)\n",
      "C:\\Users\\Brus\\Documents\\repos\\TemporalEdgeProp\\edge_prop\\models\\base_model.py:55: RuntimeWarning: edge ('1303', '2593') doesn't have a definitive max: [0.5 0.5]\n",
      "  warnings.warn(f\"edge {(u,v)} doesn't have a definitive max: {dist}\", category=RuntimeWarning)\n",
      "C:\\Users\\Brus\\Documents\\repos\\TemporalEdgeProp\\edge_prop\\models\\base_model.py:55: RuntimeWarning: edge ('1380', '1404') doesn't have a definitive max: [0.5 0.5]\n",
      "  warnings.warn(f\"edge {(u,v)} doesn't have a definitive max: {dist}\", category=RuntimeWarning)\n",
      "C:\\Users\\Brus\\Documents\\repos\\TemporalEdgeProp\\edge_prop\\models\\base_model.py:55: RuntimeWarning: edge ('1431', '3563') doesn't have a definitive max: [0.5 0.5]\n",
      "  warnings.warn(f\"edge {(u,v)} doesn't have a definitive max: {dist}\", category=RuntimeWarning)\n",
      "C:\\Users\\Brus\\Documents\\repos\\TemporalEdgeProp\\edge_prop\\models\\base_model.py:55: RuntimeWarning: edge ('1476', '5237') doesn't have a definitive max: [0.5 0.5]\n",
      "  warnings.warn(f\"edge {(u,v)} doesn't have a definitive max: {dist}\", category=RuntimeWarning)\n",
      "C:\\Users\\Brus\\Documents\\repos\\TemporalEdgeProp\\edge_prop\\models\\base_model.py:55: RuntimeWarning: edge ('1476', '5926') doesn't have a definitive max: [0.5 0.5]\n",
      "  warnings.warn(f\"edge {(u,v)} doesn't have a definitive max: {dist}\", category=RuntimeWarning)\n",
      "C:\\Users\\Brus\\Documents\\repos\\TemporalEdgeProp\\edge_prop\\models\\base_model.py:55: RuntimeWarning: edge ('1476', '6182') doesn't have a definitive max: [0.5 0.5]\n",
      "  warnings.warn(f\"edge {(u,v)} doesn't have a definitive max: {dist}\", category=RuntimeWarning)\n",
      "C:\\Users\\Brus\\Documents\\repos\\TemporalEdgeProp\\edge_prop\\models\\base_model.py:55: RuntimeWarning: edge ('1476', '6668') doesn't have a definitive max: [0.5 0.5]\n",
      "  warnings.warn(f\"edge {(u,v)} doesn't have a definitive max: {dist}\", category=RuntimeWarning)\n",
      "C:\\Users\\Brus\\Documents\\repos\\TemporalEdgeProp\\edge_prop\\models\\base_model.py:55: RuntimeWarning: edge ('1476', '6718') doesn't have a definitive max: [0.5 0.5]\n",
      "  warnings.warn(f\"edge {(u,v)} doesn't have a definitive max: {dist}\", category=RuntimeWarning)\n",
      "C:\\Users\\Brus\\Documents\\repos\\TemporalEdgeProp\\edge_prop\\models\\base_model.py:55: RuntimeWarning: edge ('1476', '6917') doesn't have a definitive max: [0.5 0.5]\n",
      "  warnings.warn(f\"edge {(u,v)} doesn't have a definitive max: {dist}\", category=RuntimeWarning)\n",
      "C:\\Users\\Brus\\Documents\\repos\\TemporalEdgeProp\\edge_prop\\models\\base_model.py:55: RuntimeWarning: edge ('1476', '7064') doesn't have a definitive max: [0.5 0.5]\n",
      "  warnings.warn(f\"edge {(u,v)} doesn't have a definitive max: {dist}\", category=RuntimeWarning)\n",
      "C:\\Users\\Brus\\Documents\\repos\\TemporalEdgeProp\\edge_prop\\models\\base_model.py:55: RuntimeWarning: edge ('151', '5849') doesn't have a definitive max: [0.5 0.5]\n",
      "  warnings.warn(f\"edge {(u,v)} doesn't have a definitive max: {dist}\", category=RuntimeWarning)\n",
      "C:\\Users\\Brus\\Documents\\repos\\TemporalEdgeProp\\edge_prop\\models\\base_model.py:55: RuntimeWarning: edge ('154', '794') doesn't have a definitive max: [0.5 0.5]\n",
      "  warnings.warn(f\"edge {(u,v)} doesn't have a definitive max: {dist}\", category=RuntimeWarning)\n",
      "C:\\Users\\Brus\\Documents\\repos\\TemporalEdgeProp\\edge_prop\\models\\base_model.py:55: RuntimeWarning: edge ('1559', '1731') doesn't have a definitive max: [0.5 0.5]\n",
      "  warnings.warn(f\"edge {(u,v)} doesn't have a definitive max: {dist}\", category=RuntimeWarning)\n",
      "C:\\Users\\Brus\\Documents\\repos\\TemporalEdgeProp\\edge_prop\\models\\base_model.py:55: RuntimeWarning: edge ('1594', '4278') doesn't have a definitive max: [0.5 0.5]\n",
      "  warnings.warn(f\"edge {(u,v)} doesn't have a definitive max: {dist}\", category=RuntimeWarning)\n",
      "C:\\Users\\Brus\\Documents\\repos\\TemporalEdgeProp\\edge_prop\\models\\base_model.py:55: RuntimeWarning: edge ('1598', '3081') doesn't have a definitive max: [0.5 0.5]\n",
      "  warnings.warn(f\"edge {(u,v)} doesn't have a definitive max: {dist}\", category=RuntimeWarning)\n",
      "C:\\Users\\Brus\\Documents\\repos\\TemporalEdgeProp\\edge_prop\\models\\base_model.py:55: RuntimeWarning: edge ('1598', '5560') doesn't have a definitive max: [0.5 0.5]\n",
      "  warnings.warn(f\"edge {(u,v)} doesn't have a definitive max: {dist}\", category=RuntimeWarning)\n",
      "C:\\Users\\Brus\\Documents\\repos\\TemporalEdgeProp\\edge_prop\\models\\base_model.py:55: RuntimeWarning: edge ('1602', '2284') doesn't have a definitive max: [0.5 0.5]\n",
      "  warnings.warn(f\"edge {(u,v)} doesn't have a definitive max: {dist}\", category=RuntimeWarning)\n",
      "C:\\Users\\Brus\\Documents\\repos\\TemporalEdgeProp\\edge_prop\\models\\base_model.py:55: RuntimeWarning: edge ('1637', '1647') doesn't have a definitive max: [0.5 0.5]\n",
      "  warnings.warn(f\"edge {(u,v)} doesn't have a definitive max: {dist}\", category=RuntimeWarning)\n",
      "C:\\Users\\Brus\\Documents\\repos\\TemporalEdgeProp\\edge_prop\\models\\base_model.py:55: RuntimeWarning: edge ('1660', '5479') doesn't have a definitive max: [0.5 0.5]\n",
      "  warnings.warn(f\"edge {(u,v)} doesn't have a definitive max: {dist}\", category=RuntimeWarning)\n",
      "C:\\Users\\Brus\\Documents\\repos\\TemporalEdgeProp\\edge_prop\\models\\base_model.py:55: RuntimeWarning: edge ('1671', '4581') doesn't have a definitive max: [0.5 0.5]\n",
      "  warnings.warn(f\"edge {(u,v)} doesn't have a definitive max: {dist}\", category=RuntimeWarning)\n",
      "C:\\Users\\Brus\\Documents\\repos\\TemporalEdgeProp\\edge_prop\\models\\base_model.py:55: RuntimeWarning: edge ('1674', '3339') doesn't have a definitive max: [0.5 0.5]\n",
      "  warnings.warn(f\"edge {(u,v)} doesn't have a definitive max: {dist}\", category=RuntimeWarning)\n",
      "C:\\Users\\Brus\\Documents\\repos\\TemporalEdgeProp\\edge_prop\\models\\base_model.py:55: RuntimeWarning: edge ('1700', '2377') doesn't have a definitive max: [0.5 0.5]\n",
      "  warnings.warn(f\"edge {(u,v)} doesn't have a definitive max: {dist}\", category=RuntimeWarning)\n",
      "C:\\Users\\Brus\\Documents\\repos\\TemporalEdgeProp\\edge_prop\\models\\base_model.py:55: RuntimeWarning: edge ('172', '339') doesn't have a definitive max: [0.5 0.5]\n",
      "  warnings.warn(f\"edge {(u,v)} doesn't have a definitive max: {dist}\", category=RuntimeWarning)\n",
      "C:\\Users\\Brus\\Documents\\repos\\TemporalEdgeProp\\edge_prop\\models\\base_model.py:55: RuntimeWarning: edge ('1793', '2003') doesn't have a definitive max: [0.5 0.5]\n",
      "  warnings.warn(f\"edge {(u,v)} doesn't have a definitive max: {dist}\", category=RuntimeWarning)\n",
      "C:\\Users\\Brus\\Documents\\repos\\TemporalEdgeProp\\edge_prop\\models\\base_model.py:55: RuntimeWarning: edge ('1793', '3231') doesn't have a definitive max: [0.5 0.5]\n",
      "  warnings.warn(f\"edge {(u,v)} doesn't have a definitive max: {dist}\", category=RuntimeWarning)\n",
      "C:\\Users\\Brus\\Documents\\repos\\TemporalEdgeProp\\edge_prop\\models\\base_model.py:55: RuntimeWarning: edge ('1797', '1801') doesn't have a definitive max: [0.5 0.5]\n",
      "  warnings.warn(f\"edge {(u,v)} doesn't have a definitive max: {dist}\", category=RuntimeWarning)\n",
      "C:\\Users\\Brus\\Documents\\repos\\TemporalEdgeProp\\edge_prop\\models\\base_model.py:55: RuntimeWarning: edge ('1801', '4111') doesn't have a definitive max: [0.5 0.5]\n",
      "  warnings.warn(f\"edge {(u,v)} doesn't have a definitive max: {dist}\", category=RuntimeWarning)\n",
      "C:\\Users\\Brus\\Documents\\repos\\TemporalEdgeProp\\edge_prop\\models\\base_model.py:55: RuntimeWarning: edge ('1812', '5653') doesn't have a definitive max: [0.5 0.5]\n",
      "  warnings.warn(f\"edge {(u,v)} doesn't have a definitive max: {dist}\", category=RuntimeWarning)\n",
      "C:\\Users\\Brus\\Documents\\repos\\TemporalEdgeProp\\edge_prop\\models\\base_model.py:55: RuntimeWarning: edge ('1815', '2156') doesn't have a definitive max: [0.5 0.5]\n",
      "  warnings.warn(f\"edge {(u,v)} doesn't have a definitive max: {dist}\", category=RuntimeWarning)\n",
      "C:\\Users\\Brus\\Documents\\repos\\TemporalEdgeProp\\edge_prop\\models\\base_model.py:55: RuntimeWarning: edge ('186', '274') doesn't have a definitive max: [0.5 0.5]\n",
      "  warnings.warn(f\"edge {(u,v)} doesn't have a definitive max: {dist}\", category=RuntimeWarning)\n",
      "C:\\Users\\Brus\\Documents\\repos\\TemporalEdgeProp\\edge_prop\\models\\base_model.py:55: RuntimeWarning: edge ('186', '389') doesn't have a definitive max: [0.5 0.5]\n",
      "  warnings.warn(f\"edge {(u,v)} doesn't have a definitive max: {dist}\", category=RuntimeWarning)\n",
      "C:\\Users\\Brus\\Documents\\repos\\TemporalEdgeProp\\edge_prop\\models\\base_model.py:55: RuntimeWarning: edge ('1875', '4577') doesn't have a definitive max: [0.5 0.5]\n",
      "  warnings.warn(f\"edge {(u,v)} doesn't have a definitive max: {dist}\", category=RuntimeWarning)\n",
      "C:\\Users\\Brus\\Documents\\repos\\TemporalEdgeProp\\edge_prop\\models\\base_model.py:55: RuntimeWarning: edge ('1875', '5667') doesn't have a definitive max: [0.5 0.5]\n",
      "  warnings.warn(f\"edge {(u,v)} doesn't have a definitive max: {dist}\", category=RuntimeWarning)\n",
      "C:\\Users\\Brus\\Documents\\repos\\TemporalEdgeProp\\edge_prop\\models\\base_model.py:55: RuntimeWarning: edge ('1881', '1938') doesn't have a definitive max: [0.5 0.5]\n",
      "  warnings.warn(f\"edge {(u,v)} doesn't have a definitive max: {dist}\", category=RuntimeWarning)\n",
      "C:\\Users\\Brus\\Documents\\repos\\TemporalEdgeProp\\edge_prop\\models\\base_model.py:55: RuntimeWarning: edge ('1881', '2054') doesn't have a definitive max: [0.5 0.5]\n",
      "  warnings.warn(f\"edge {(u,v)} doesn't have a definitive max: {dist}\", category=RuntimeWarning)\n",
      "C:\\Users\\Brus\\Documents\\repos\\TemporalEdgeProp\\edge_prop\\models\\base_model.py:55: RuntimeWarning: edge ('1881', '2259') doesn't have a definitive max: [0.5 0.5]\n",
      "  warnings.warn(f\"edge {(u,v)} doesn't have a definitive max: {dist}\", category=RuntimeWarning)\n",
      "C:\\Users\\Brus\\Documents\\repos\\TemporalEdgeProp\\edge_prop\\models\\base_model.py:55: RuntimeWarning: edge ('1899', '2057') doesn't have a definitive max: [0.5 0.5]\n",
      "  warnings.warn(f\"edge {(u,v)} doesn't have a definitive max: {dist}\", category=RuntimeWarning)\n",
      "C:\\Users\\Brus\\Documents\\repos\\TemporalEdgeProp\\edge_prop\\models\\base_model.py:55: RuntimeWarning: edge ('1913', '1933') doesn't have a definitive max: [0.5 0.5]\n",
      "  warnings.warn(f\"edge {(u,v)} doesn't have a definitive max: {dist}\", category=RuntimeWarning)\n",
      "C:\\Users\\Brus\\Documents\\repos\\TemporalEdgeProp\\edge_prop\\models\\base_model.py:55: RuntimeWarning: edge ('1918', '2385') doesn't have a definitive max: [0.5 0.5]\n",
      "  warnings.warn(f\"edge {(u,v)} doesn't have a definitive max: {dist}\", category=RuntimeWarning)\n",
      "C:\\Users\\Brus\\Documents\\repos\\TemporalEdgeProp\\edge_prop\\models\\base_model.py:55: RuntimeWarning: edge ('1921', '1923') doesn't have a definitive max: [0.5 0.5]\n",
      "  warnings.warn(f\"edge {(u,v)} doesn't have a definitive max: {dist}\", category=RuntimeWarning)\n",
      "C:\\Users\\Brus\\Documents\\repos\\TemporalEdgeProp\\edge_prop\\models\\base_model.py:55: RuntimeWarning: edge ('1923', '2053') doesn't have a definitive max: [0.5 0.5]\n",
      "  warnings.warn(f\"edge {(u,v)} doesn't have a definitive max: {dist}\", category=RuntimeWarning)\n",
      "C:\\Users\\Brus\\Documents\\repos\\TemporalEdgeProp\\edge_prop\\models\\base_model.py:55: RuntimeWarning: edge ('1928', '2843') doesn't have a definitive max: [0.5 0.5]\n",
      "  warnings.warn(f\"edge {(u,v)} doesn't have a definitive max: {dist}\", category=RuntimeWarning)\n",
      "C:\\Users\\Brus\\Documents\\repos\\TemporalEdgeProp\\edge_prop\\models\\base_model.py:55: RuntimeWarning: edge ('1938', '2377') doesn't have a definitive max: [0.5 0.5]\n",
      "  warnings.warn(f\"edge {(u,v)} doesn't have a definitive max: {dist}\", category=RuntimeWarning)\n",
      "C:\\Users\\Brus\\Documents\\repos\\TemporalEdgeProp\\edge_prop\\models\\base_model.py:55: RuntimeWarning: edge ('1968', '1990') doesn't have a definitive max: [0.5 0.5]\n",
      "  warnings.warn(f\"edge {(u,v)} doesn't have a definitive max: {dist}\", category=RuntimeWarning)\n",
      "C:\\Users\\Brus\\Documents\\repos\\TemporalEdgeProp\\edge_prop\\models\\base_model.py:55: RuntimeWarning: edge ('2003', '2006') doesn't have a definitive max: [0.5 0.5]\n",
      "  warnings.warn(f\"edge {(u,v)} doesn't have a definitive max: {dist}\", category=RuntimeWarning)\n",
      "C:\\Users\\Brus\\Documents\\repos\\TemporalEdgeProp\\edge_prop\\models\\base_model.py:55: RuntimeWarning: edge ('202', '317') doesn't have a definitive max: [0.5 0.5]\n",
      "  warnings.warn(f\"edge {(u,v)} doesn't have a definitive max: {dist}\", category=RuntimeWarning)\n",
      "C:\\Users\\Brus\\Documents\\repos\\TemporalEdgeProp\\edge_prop\\models\\base_model.py:55: RuntimeWarning: edge ('2054', '2057') doesn't have a definitive max: [0.5 0.5]\n",
      "  warnings.warn(f\"edge {(u,v)} doesn't have a definitive max: {dist}\", category=RuntimeWarning)\n"
     ]
    },
    {
     "name": "stderr",
     "output_type": "stream",
     "text": [
      "C:\\Users\\Brus\\Documents\\repos\\TemporalEdgeProp\\edge_prop\\models\\base_model.py:55: RuntimeWarning: edge ('2058', '2377') doesn't have a definitive max: [0.5 0.5]\n",
      "  warnings.warn(f\"edge {(u,v)} doesn't have a definitive max: {dist}\", category=RuntimeWarning)\n",
      "C:\\Users\\Brus\\Documents\\repos\\TemporalEdgeProp\\edge_prop\\models\\base_model.py:55: RuntimeWarning: edge ('209', '296') doesn't have a definitive max: [0.5 0.5]\n",
      "  warnings.warn(f\"edge {(u,v)} doesn't have a definitive max: {dist}\", category=RuntimeWarning)\n",
      "C:\\Users\\Brus\\Documents\\repos\\TemporalEdgeProp\\edge_prop\\models\\base_model.py:55: RuntimeWarning: edge ('209', '783') doesn't have a definitive max: [0.5 0.5]\n",
      "  warnings.warn(f\"edge {(u,v)} doesn't have a definitive max: {dist}\", category=RuntimeWarning)\n",
      "C:\\Users\\Brus\\Documents\\repos\\TemporalEdgeProp\\edge_prop\\models\\base_model.py:55: RuntimeWarning: edge ('21', '122') doesn't have a definitive max: [0.5 0.5]\n",
      "  warnings.warn(f\"edge {(u,v)} doesn't have a definitive max: {dist}\", category=RuntimeWarning)\n",
      "C:\\Users\\Brus\\Documents\\repos\\TemporalEdgeProp\\edge_prop\\models\\base_model.py:55: RuntimeWarning: edge ('2106', '2107') doesn't have a definitive max: [0. 0.]\n",
      "  warnings.warn(f\"edge {(u,v)} doesn't have a definitive max: {dist}\", category=RuntimeWarning)\n",
      "C:\\Users\\Brus\\Documents\\repos\\TemporalEdgeProp\\edge_prop\\models\\base_model.py:55: RuntimeWarning: edge ('2143', '2370') doesn't have a definitive max: [0.5 0.5]\n",
      "  warnings.warn(f\"edge {(u,v)} doesn't have a definitive max: {dist}\", category=RuntimeWarning)\n",
      "C:\\Users\\Brus\\Documents\\repos\\TemporalEdgeProp\\edge_prop\\models\\base_model.py:55: RuntimeWarning: edge ('2143', '2424') doesn't have a definitive max: [0.5 0.5]\n",
      "  warnings.warn(f\"edge {(u,v)} doesn't have a definitive max: {dist}\", category=RuntimeWarning)\n",
      "C:\\Users\\Brus\\Documents\\repos\\TemporalEdgeProp\\edge_prop\\models\\base_model.py:55: RuntimeWarning: edge ('215', '387') doesn't have a definitive max: [0.5 0.5]\n",
      "  warnings.warn(f\"edge {(u,v)} doesn't have a definitive max: {dist}\", category=RuntimeWarning)\n",
      "C:\\Users\\Brus\\Documents\\repos\\TemporalEdgeProp\\edge_prop\\models\\base_model.py:55: RuntimeWarning: edge ('215', '388') doesn't have a definitive max: [0.5 0.5]\n",
      "  warnings.warn(f\"edge {(u,v)} doesn't have a definitive max: {dist}\", category=RuntimeWarning)\n",
      "C:\\Users\\Brus\\Documents\\repos\\TemporalEdgeProp\\edge_prop\\models\\base_model.py:55: RuntimeWarning: edge ('215', '389') doesn't have a definitive max: [0.5 0.5]\n",
      "  warnings.warn(f\"edge {(u,v)} doesn't have a definitive max: {dist}\", category=RuntimeWarning)\n",
      "C:\\Users\\Brus\\Documents\\repos\\TemporalEdgeProp\\edge_prop\\models\\base_model.py:55: RuntimeWarning: edge ('2174', '3429') doesn't have a definitive max: [0.5 0.5]\n",
      "  warnings.warn(f\"edge {(u,v)} doesn't have a definitive max: {dist}\", category=RuntimeWarning)\n",
      "C:\\Users\\Brus\\Documents\\repos\\TemporalEdgeProp\\edge_prop\\models\\base_model.py:55: RuntimeWarning: edge ('2174', '4081') doesn't have a definitive max: [0.5 0.5]\n",
      "  warnings.warn(f\"edge {(u,v)} doesn't have a definitive max: {dist}\", category=RuntimeWarning)\n",
      "C:\\Users\\Brus\\Documents\\repos\\TemporalEdgeProp\\edge_prop\\models\\base_model.py:55: RuntimeWarning: edge ('2174', '4986') doesn't have a definitive max: [0.5 0.5]\n",
      "  warnings.warn(f\"edge {(u,v)} doesn't have a definitive max: {dist}\", category=RuntimeWarning)\n",
      "C:\\Users\\Brus\\Documents\\repos\\TemporalEdgeProp\\edge_prop\\models\\base_model.py:55: RuntimeWarning: edge ('2209', '2211') doesn't have a definitive max: [0.5 0.5]\n",
      "  warnings.warn(f\"edge {(u,v)} doesn't have a definitive max: {dist}\", category=RuntimeWarning)\n",
      "C:\\Users\\Brus\\Documents\\repos\\TemporalEdgeProp\\edge_prop\\models\\base_model.py:55: RuntimeWarning: edge ('2225', '2536') doesn't have a definitive max: [0.5 0.5]\n",
      "  warnings.warn(f\"edge {(u,v)} doesn't have a definitive max: {dist}\", category=RuntimeWarning)\n",
      "C:\\Users\\Brus\\Documents\\repos\\TemporalEdgeProp\\edge_prop\\models\\base_model.py:55: RuntimeWarning: edge ('2251', '4185') doesn't have a definitive max: [0.5 0.5]\n",
      "  warnings.warn(f\"edge {(u,v)} doesn't have a definitive max: {dist}\", category=RuntimeWarning)\n",
      "C:\\Users\\Brus\\Documents\\repos\\TemporalEdgeProp\\edge_prop\\models\\base_model.py:55: RuntimeWarning: edge ('2284', '2592') doesn't have a definitive max: [0.5 0.5]\n",
      "  warnings.warn(f\"edge {(u,v)} doesn't have a definitive max: {dist}\", category=RuntimeWarning)\n",
      "C:\\Users\\Brus\\Documents\\repos\\TemporalEdgeProp\\edge_prop\\models\\base_model.py:55: RuntimeWarning: edge ('2418', '3806') doesn't have a definitive max: [0.5 0.5]\n",
      "  warnings.warn(f\"edge {(u,v)} doesn't have a definitive max: {dist}\", category=RuntimeWarning)\n",
      "C:\\Users\\Brus\\Documents\\repos\\TemporalEdgeProp\\edge_prop\\models\\base_model.py:55: RuntimeWarning: edge ('2418', '3918') doesn't have a definitive max: [0.5 0.5]\n",
      "  warnings.warn(f\"edge {(u,v)} doesn't have a definitive max: {dist}\", category=RuntimeWarning)\n",
      "C:\\Users\\Brus\\Documents\\repos\\TemporalEdgeProp\\edge_prop\\models\\base_model.py:55: RuntimeWarning: edge ('248', '317') doesn't have a definitive max: [0.5 0.5]\n",
      "  warnings.warn(f\"edge {(u,v)} doesn't have a definitive max: {dist}\", category=RuntimeWarning)\n",
      "C:\\Users\\Brus\\Documents\\repos\\TemporalEdgeProp\\edge_prop\\models\\base_model.py:55: RuntimeWarning: edge ('2493', '3299') doesn't have a definitive max: [0.5 0.5]\n",
      "  warnings.warn(f\"edge {(u,v)} doesn't have a definitive max: {dist}\", category=RuntimeWarning)\n",
      "C:\\Users\\Brus\\Documents\\repos\\TemporalEdgeProp\\edge_prop\\models\\base_model.py:55: RuntimeWarning: edge ('2554', '2692') doesn't have a definitive max: [0.5 0.5]\n",
      "  warnings.warn(f\"edge {(u,v)} doesn't have a definitive max: {dist}\", category=RuntimeWarning)\n",
      "C:\\Users\\Brus\\Documents\\repos\\TemporalEdgeProp\\edge_prop\\models\\base_model.py:55: RuntimeWarning: edge ('2569', '2570') doesn't have a definitive max: [0.5 0.5]\n",
      "  warnings.warn(f\"edge {(u,v)} doesn't have a definitive max: {dist}\", category=RuntimeWarning)\n",
      "C:\\Users\\Brus\\Documents\\repos\\TemporalEdgeProp\\edge_prop\\models\\base_model.py:55: RuntimeWarning: edge ('2569', '2571') doesn't have a definitive max: [0.5 0.5]\n",
      "  warnings.warn(f\"edge {(u,v)} doesn't have a definitive max: {dist}\", category=RuntimeWarning)\n",
      "C:\\Users\\Brus\\Documents\\repos\\TemporalEdgeProp\\edge_prop\\models\\base_model.py:55: RuntimeWarning: edge ('2594', '2650') doesn't have a definitive max: [0.5 0.5]\n",
      "  warnings.warn(f\"edge {(u,v)} doesn't have a definitive max: {dist}\", category=RuntimeWarning)\n",
      "C:\\Users\\Brus\\Documents\\repos\\TemporalEdgeProp\\edge_prop\\models\\base_model.py:55: RuntimeWarning: edge ('2601', '5791') doesn't have a definitive max: [0.5 0.5]\n",
      "  warnings.warn(f\"edge {(u,v)} doesn't have a definitive max: {dist}\", category=RuntimeWarning)\n",
      "C:\\Users\\Brus\\Documents\\repos\\TemporalEdgeProp\\edge_prop\\models\\base_model.py:55: RuntimeWarning: edge ('264', '4272') doesn't have a definitive max: [0.5 0.5]\n",
      "  warnings.warn(f\"edge {(u,v)} doesn't have a definitive max: {dist}\", category=RuntimeWarning)\n",
      "C:\\Users\\Brus\\Documents\\repos\\TemporalEdgeProp\\edge_prop\\models\\base_model.py:55: RuntimeWarning: edge ('2654', '2657') doesn't have a definitive max: [0.5 0.5]\n",
      "  warnings.warn(f\"edge {(u,v)} doesn't have a definitive max: {dist}\", category=RuntimeWarning)\n",
      "C:\\Users\\Brus\\Documents\\repos\\TemporalEdgeProp\\edge_prop\\models\\base_model.py:55: RuntimeWarning: edge ('266', '436') doesn't have a definitive max: [0.5 0.5]\n",
      "  warnings.warn(f\"edge {(u,v)} doesn't have a definitive max: {dist}\", category=RuntimeWarning)\n",
      "C:\\Users\\Brus\\Documents\\repos\\TemporalEdgeProp\\edge_prop\\models\\base_model.py:55: RuntimeWarning: edge ('2670', '2696') doesn't have a definitive max: [0.5 0.5]\n",
      "  warnings.warn(f\"edge {(u,v)} doesn't have a definitive max: {dist}\", category=RuntimeWarning)\n",
      "C:\\Users\\Brus\\Documents\\repos\\TemporalEdgeProp\\edge_prop\\models\\base_model.py:55: RuntimeWarning: edge ('2675', '6364') doesn't have a definitive max: [0.5 0.5]\n",
      "  warnings.warn(f\"edge {(u,v)} doesn't have a definitive max: {dist}\", category=RuntimeWarning)\n",
      "C:\\Users\\Brus\\Documents\\repos\\TemporalEdgeProp\\edge_prop\\models\\base_model.py:55: RuntimeWarning: edge ('2676', '2971') doesn't have a definitive max: [0.5 0.5]\n",
      "  warnings.warn(f\"edge {(u,v)} doesn't have a definitive max: {dist}\", category=RuntimeWarning)\n",
      "C:\\Users\\Brus\\Documents\\repos\\TemporalEdgeProp\\edge_prop\\models\\base_model.py:55: RuntimeWarning: edge ('2683', '7045') doesn't have a definitive max: [0.5 0.5]\n",
      "  warnings.warn(f\"edge {(u,v)} doesn't have a definitive max: {dist}\", category=RuntimeWarning)\n",
      "C:\\Users\\Brus\\Documents\\repos\\TemporalEdgeProp\\edge_prop\\models\\base_model.py:55: RuntimeWarning: edge ('2698', '3573') doesn't have a definitive max: [0.5 0.5]\n",
      "  warnings.warn(f\"edge {(u,v)} doesn't have a definitive max: {dist}\", category=RuntimeWarning)\n",
      "C:\\Users\\Brus\\Documents\\repos\\TemporalEdgeProp\\edge_prop\\models\\base_model.py:55: RuntimeWarning: edge ('2722', '3429') doesn't have a definitive max: [0.5 0.5]\n",
      "  warnings.warn(f\"edge {(u,v)} doesn't have a definitive max: {dist}\", category=RuntimeWarning)\n",
      "C:\\Users\\Brus\\Documents\\repos\\TemporalEdgeProp\\edge_prop\\models\\base_model.py:55: RuntimeWarning: edge ('2729', '2760') doesn't have a definitive max: [0.5 0.5]\n",
      "  warnings.warn(f\"edge {(u,v)} doesn't have a definitive max: {dist}\", category=RuntimeWarning)\n",
      "C:\\Users\\Brus\\Documents\\repos\\TemporalEdgeProp\\edge_prop\\models\\base_model.py:55: RuntimeWarning: edge ('28', '248') doesn't have a definitive max: [0.5 0.5]\n",
      "  warnings.warn(f\"edge {(u,v)} doesn't have a definitive max: {dist}\", category=RuntimeWarning)\n",
      "C:\\Users\\Brus\\Documents\\repos\\TemporalEdgeProp\\edge_prop\\models\\base_model.py:55: RuntimeWarning: edge ('2800', '6344') doesn't have a definitive max: [0.5 0.5]\n",
      "  warnings.warn(f\"edge {(u,v)} doesn't have a definitive max: {dist}\", category=RuntimeWarning)\n",
      "C:\\Users\\Brus\\Documents\\repos\\TemporalEdgeProp\\edge_prop\\models\\base_model.py:55: RuntimeWarning: edge ('2807', '2808') doesn't have a definitive max: [0.5 0.5]\n",
      "  warnings.warn(f\"edge {(u,v)} doesn't have a definitive max: {dist}\", category=RuntimeWarning)\n",
      "C:\\Users\\Brus\\Documents\\repos\\TemporalEdgeProp\\edge_prop\\models\\base_model.py:55: RuntimeWarning: edge ('2817', '5715') doesn't have a definitive max: [0.5 0.5]\n",
      "  warnings.warn(f\"edge {(u,v)} doesn't have a definitive max: {dist}\", category=RuntimeWarning)\n",
      "C:\\Users\\Brus\\Documents\\repos\\TemporalEdgeProp\\edge_prop\\models\\base_model.py:55: RuntimeWarning: edge ('282', '2202') doesn't have a definitive max: [0.5 0.5]\n",
      "  warnings.warn(f\"edge {(u,v)} doesn't have a definitive max: {dist}\", category=RuntimeWarning)\n",
      "C:\\Users\\Brus\\Documents\\repos\\TemporalEdgeProp\\edge_prop\\models\\base_model.py:55: RuntimeWarning: edge ('282', '783') doesn't have a definitive max: [0.5 0.5]\n",
      "  warnings.warn(f\"edge {(u,v)} doesn't have a definitive max: {dist}\", category=RuntimeWarning)\n",
      "C:\\Users\\Brus\\Documents\\repos\\TemporalEdgeProp\\edge_prop\\models\\base_model.py:55: RuntimeWarning: edge ('2825', '3081') doesn't have a definitive max: [0.5 0.5]\n",
      "  warnings.warn(f\"edge {(u,v)} doesn't have a definitive max: {dist}\", category=RuntimeWarning)\n",
      "C:\\Users\\Brus\\Documents\\repos\\TemporalEdgeProp\\edge_prop\\models\\base_model.py:55: RuntimeWarning: edge ('2825', '3116') doesn't have a definitive max: [0.5 0.5]\n",
      "  warnings.warn(f\"edge {(u,v)} doesn't have a definitive max: {dist}\", category=RuntimeWarning)\n",
      "C:\\Users\\Brus\\Documents\\repos\\TemporalEdgeProp\\edge_prop\\models\\base_model.py:55: RuntimeWarning: edge ('2843', '3299') doesn't have a definitive max: [0.5 0.5]\n",
      "  warnings.warn(f\"edge {(u,v)} doesn't have a definitive max: {dist}\", category=RuntimeWarning)\n",
      "C:\\Users\\Brus\\Documents\\repos\\TemporalEdgeProp\\edge_prop\\models\\base_model.py:55: RuntimeWarning: edge ('2847', '3458') doesn't have a definitive max: [0.5 0.5]\n",
      "  warnings.warn(f\"edge {(u,v)} doesn't have a definitive max: {dist}\", category=RuntimeWarning)\n",
      "C:\\Users\\Brus\\Documents\\repos\\TemporalEdgeProp\\edge_prop\\models\\base_model.py:55: RuntimeWarning: edge ('285', '1135') doesn't have a definitive max: [0.5 0.5]\n",
      "  warnings.warn(f\"edge {(u,v)} doesn't have a definitive max: {dist}\", category=RuntimeWarning)\n",
      "C:\\Users\\Brus\\Documents\\repos\\TemporalEdgeProp\\edge_prop\\models\\base_model.py:55: RuntimeWarning: edge ('285', '349') doesn't have a definitive max: [0.5 0.5]\n",
      "  warnings.warn(f\"edge {(u,v)} doesn't have a definitive max: {dist}\", category=RuntimeWarning)\n",
      "C:\\Users\\Brus\\Documents\\repos\\TemporalEdgeProp\\edge_prop\\models\\base_model.py:55: RuntimeWarning: edge ('285', '4021') doesn't have a definitive max: [0.5 0.5]\n",
      "  warnings.warn(f\"edge {(u,v)} doesn't have a definitive max: {dist}\", category=RuntimeWarning)\n",
      "C:\\Users\\Brus\\Documents\\repos\\TemporalEdgeProp\\edge_prop\\models\\base_model.py:55: RuntimeWarning: edge ('285', '788') doesn't have a definitive max: [0.5 0.5]\n",
      "  warnings.warn(f\"edge {(u,v)} doesn't have a definitive max: {dist}\", category=RuntimeWarning)\n",
      "C:\\Users\\Brus\\Documents\\repos\\TemporalEdgeProp\\edge_prop\\models\\base_model.py:55: RuntimeWarning: edge ('2851', '3983') doesn't have a definitive max: [0.5 0.5]\n",
      "  warnings.warn(f\"edge {(u,v)} doesn't have a definitive max: {dist}\", category=RuntimeWarning)\n",
      "C:\\Users\\Brus\\Documents\\repos\\TemporalEdgeProp\\edge_prop\\models\\base_model.py:55: RuntimeWarning: edge ('2896', '4315') doesn't have a definitive max: [0.5 0.5]\n",
      "  warnings.warn(f\"edge {(u,v)} doesn't have a definitive max: {dist}\", category=RuntimeWarning)\n",
      "C:\\Users\\Brus\\Documents\\repos\\TemporalEdgeProp\\edge_prop\\models\\base_model.py:55: RuntimeWarning: edge ('2963', '2964') doesn't have a definitive max: [0. 0.]\n",
      "  warnings.warn(f\"edge {(u,v)} doesn't have a definitive max: {dist}\", category=RuntimeWarning)\n",
      "C:\\Users\\Brus\\Documents\\repos\\TemporalEdgeProp\\edge_prop\\models\\base_model.py:55: RuntimeWarning: edge ('3034', '3983') doesn't have a definitive max: [0.5 0.5]\n",
      "  warnings.warn(f\"edge {(u,v)} doesn't have a definitive max: {dist}\", category=RuntimeWarning)\n",
      "C:\\Users\\Brus\\Documents\\repos\\TemporalEdgeProp\\edge_prop\\models\\base_model.py:55: RuntimeWarning: edge ('3034', '4167') doesn't have a definitive max: [0.5 0.5]\n",
      "  warnings.warn(f\"edge {(u,v)} doesn't have a definitive max: {dist}\", category=RuntimeWarning)\n",
      "C:\\Users\\Brus\\Documents\\repos\\TemporalEdgeProp\\edge_prop\\models\\base_model.py:55: RuntimeWarning: edge ('3034', '6500') doesn't have a definitive max: [0.5 0.5]\n",
      "  warnings.warn(f\"edge {(u,v)} doesn't have a definitive max: {dist}\", category=RuntimeWarning)\n",
      "C:\\Users\\Brus\\Documents\\repos\\TemporalEdgeProp\\edge_prop\\models\\base_model.py:55: RuntimeWarning: edge ('3081', '3082') doesn't have a definitive max: [0.5 0.5]\n",
      "  warnings.warn(f\"edge {(u,v)} doesn't have a definitive max: {dist}\", category=RuntimeWarning)\n",
      "C:\\Users\\Brus\\Documents\\repos\\TemporalEdgeProp\\edge_prop\\models\\base_model.py:55: RuntimeWarning: edge ('3088', '6809') doesn't have a definitive max: [0.5 0.5]\n",
      "  warnings.warn(f\"edge {(u,v)} doesn't have a definitive max: {dist}\", category=RuntimeWarning)\n",
      "C:\\Users\\Brus\\Documents\\repos\\TemporalEdgeProp\\edge_prop\\models\\base_model.py:55: RuntimeWarning: edge ('3115', '3411') doesn't have a definitive max: [0.5 0.5]\n",
      "  warnings.warn(f\"edge {(u,v)} doesn't have a definitive max: {dist}\", category=RuntimeWarning)\n",
      "C:\\Users\\Brus\\Documents\\repos\\TemporalEdgeProp\\edge_prop\\models\\base_model.py:55: RuntimeWarning: edge ('312', '933') doesn't have a definitive max: [0.5 0.5]\n",
      "  warnings.warn(f\"edge {(u,v)} doesn't have a definitive max: {dist}\", category=RuntimeWarning)\n",
      "C:\\Users\\Brus\\Documents\\repos\\TemporalEdgeProp\\edge_prop\\models\\base_model.py:55: RuntimeWarning: edge ('317', '2284') doesn't have a definitive max: [0.5 0.5]\n",
      "  warnings.warn(f\"edge {(u,v)} doesn't have a definitive max: {dist}\", category=RuntimeWarning)\n"
     ]
    },
    {
     "name": "stderr",
     "output_type": "stream",
     "text": [
      "C:\\Users\\Brus\\Documents\\repos\\TemporalEdgeProp\\edge_prop\\models\\base_model.py:55: RuntimeWarning: edge ('321', '326') doesn't have a definitive max: [0.5 0.5]\n",
      "  warnings.warn(f\"edge {(u,v)} doesn't have a definitive max: {dist}\", category=RuntimeWarning)\n",
      "C:\\Users\\Brus\\Documents\\repos\\TemporalEdgeProp\\edge_prop\\models\\base_model.py:55: RuntimeWarning: edge ('3213', '3429') doesn't have a definitive max: [0.5 0.5]\n",
      "  warnings.warn(f\"edge {(u,v)} doesn't have a definitive max: {dist}\", category=RuntimeWarning)\n",
      "C:\\Users\\Brus\\Documents\\repos\\TemporalEdgeProp\\edge_prop\\models\\base_model.py:55: RuntimeWarning: edge ('3213', '3470') doesn't have a definitive max: [0.5 0.5]\n",
      "  warnings.warn(f\"edge {(u,v)} doesn't have a definitive max: {dist}\", category=RuntimeWarning)\n",
      "C:\\Users\\Brus\\Documents\\repos\\TemporalEdgeProp\\edge_prop\\models\\base_model.py:55: RuntimeWarning: edge ('3213', '3527') doesn't have a definitive max: [0.5 0.5]\n",
      "  warnings.warn(f\"edge {(u,v)} doesn't have a definitive max: {dist}\", category=RuntimeWarning)\n",
      "C:\\Users\\Brus\\Documents\\repos\\TemporalEdgeProp\\edge_prop\\models\\base_model.py:55: RuntimeWarning: edge ('3213', '3563') doesn't have a definitive max: [0.5 0.5]\n",
      "  warnings.warn(f\"edge {(u,v)} doesn't have a definitive max: {dist}\", category=RuntimeWarning)\n",
      "C:\\Users\\Brus\\Documents\\repos\\TemporalEdgeProp\\edge_prop\\models\\base_model.py:55: RuntimeWarning: edge ('3264', '3296') doesn't have a definitive max: [0.5 0.5]\n",
      "  warnings.warn(f\"edge {(u,v)} doesn't have a definitive max: {dist}\", category=RuntimeWarning)\n",
      "C:\\Users\\Brus\\Documents\\repos\\TemporalEdgeProp\\edge_prop\\models\\base_model.py:55: RuntimeWarning: edge ('3284', '3400') doesn't have a definitive max: [0.5 0.5]\n",
      "  warnings.warn(f\"edge {(u,v)} doesn't have a definitive max: {dist}\", category=RuntimeWarning)\n",
      "C:\\Users\\Brus\\Documents\\repos\\TemporalEdgeProp\\edge_prop\\models\\base_model.py:55: RuntimeWarning: edge ('333', '336') doesn't have a definitive max: [0.5 0.5]\n",
      "  warnings.warn(f\"edge {(u,v)} doesn't have a definitive max: {dist}\", category=RuntimeWarning)\n",
      "C:\\Users\\Brus\\Documents\\repos\\TemporalEdgeProp\\edge_prop\\models\\base_model.py:55: RuntimeWarning: edge ('333', '339') doesn't have a definitive max: [0.5 0.5]\n",
      "  warnings.warn(f\"edge {(u,v)} doesn't have a definitive max: {dist}\", category=RuntimeWarning)\n",
      "C:\\Users\\Brus\\Documents\\repos\\TemporalEdgeProp\\edge_prop\\models\\base_model.py:55: RuntimeWarning: edge ('3335', '4021') doesn't have a definitive max: [0.5 0.5]\n",
      "  warnings.warn(f\"edge {(u,v)} doesn't have a definitive max: {dist}\", category=RuntimeWarning)\n",
      "C:\\Users\\Brus\\Documents\\repos\\TemporalEdgeProp\\edge_prop\\models\\base_model.py:55: RuntimeWarning: edge ('3335', '4587') doesn't have a definitive max: [0.5 0.5]\n",
      "  warnings.warn(f\"edge {(u,v)} doesn't have a definitive max: {dist}\", category=RuntimeWarning)\n",
      "C:\\Users\\Brus\\Documents\\repos\\TemporalEdgeProp\\edge_prop\\models\\base_model.py:55: RuntimeWarning: edge ('336', '343') doesn't have a definitive max: [0.5 0.5]\n",
      "  warnings.warn(f\"edge {(u,v)} doesn't have a definitive max: {dist}\", category=RuntimeWarning)\n",
      "C:\\Users\\Brus\\Documents\\repos\\TemporalEdgeProp\\edge_prop\\models\\base_model.py:55: RuntimeWarning: edge ('336', '348') doesn't have a definitive max: [0.5 0.5]\n",
      "  warnings.warn(f\"edge {(u,v)} doesn't have a definitive max: {dist}\", category=RuntimeWarning)\n",
      "C:\\Users\\Brus\\Documents\\repos\\TemporalEdgeProp\\edge_prop\\models\\base_model.py:55: RuntimeWarning: edge ('336', '5248') doesn't have a definitive max: [0.5 0.5]\n",
      "  warnings.warn(f\"edge {(u,v)} doesn't have a definitive max: {dist}\", category=RuntimeWarning)\n",
      "C:\\Users\\Brus\\Documents\\repos\\TemporalEdgeProp\\edge_prop\\models\\base_model.py:55: RuntimeWarning: edge ('336', '593') doesn't have a definitive max: [0.5 0.5]\n",
      "  warnings.warn(f\"edge {(u,v)} doesn't have a definitive max: {dist}\", category=RuntimeWarning)\n",
      "C:\\Users\\Brus\\Documents\\repos\\TemporalEdgeProp\\edge_prop\\models\\base_model.py:55: RuntimeWarning: edge ('3411', '6580') doesn't have a definitive max: [0.5 0.5]\n",
      "  warnings.warn(f\"edge {(u,v)} doesn't have a definitive max: {dist}\", category=RuntimeWarning)\n",
      "C:\\Users\\Brus\\Documents\\repos\\TemporalEdgeProp\\edge_prop\\models\\base_model.py:55: RuntimeWarning: edge ('3429', '6048') doesn't have a definitive max: [0.5 0.5]\n",
      "  warnings.warn(f\"edge {(u,v)} doesn't have a definitive max: {dist}\", category=RuntimeWarning)\n",
      "C:\\Users\\Brus\\Documents\\repos\\TemporalEdgeProp\\edge_prop\\models\\base_model.py:55: RuntimeWarning: edge ('3433', '3598') doesn't have a definitive max: [0.5 0.5]\n",
      "  warnings.warn(f\"edge {(u,v)} doesn't have a definitive max: {dist}\", category=RuntimeWarning)\n",
      "C:\\Users\\Brus\\Documents\\repos\\TemporalEdgeProp\\edge_prop\\models\\base_model.py:55: RuntimeWarning: edge ('3433', '3806') doesn't have a definitive max: [0.5 0.5]\n",
      "  warnings.warn(f\"edge {(u,v)} doesn't have a definitive max: {dist}\", category=RuntimeWarning)\n",
      "C:\\Users\\Brus\\Documents\\repos\\TemporalEdgeProp\\edge_prop\\models\\base_model.py:55: RuntimeWarning: edge ('3464', '3468') doesn't have a definitive max: [0.5 0.5]\n",
      "  warnings.warn(f\"edge {(u,v)} doesn't have a definitive max: {dist}\", category=RuntimeWarning)\n",
      "C:\\Users\\Brus\\Documents\\repos\\TemporalEdgeProp\\edge_prop\\models\\base_model.py:55: RuntimeWarning: edge ('3479', '3522') doesn't have a definitive max: [0.5 0.5]\n",
      "  warnings.warn(f\"edge {(u,v)} doesn't have a definitive max: {dist}\", category=RuntimeWarning)\n",
      "C:\\Users\\Brus\\Documents\\repos\\TemporalEdgeProp\\edge_prop\\models\\base_model.py:55: RuntimeWarning: edge ('3501', '4710') doesn't have a definitive max: [0.5 0.5]\n",
      "  warnings.warn(f\"edge {(u,v)} doesn't have a definitive max: {dist}\", category=RuntimeWarning)\n",
      "C:\\Users\\Brus\\Documents\\repos\\TemporalEdgeProp\\edge_prop\\models\\base_model.py:55: RuntimeWarning: edge ('3619', '4188') doesn't have a definitive max: [0.5 0.5]\n",
      "  warnings.warn(f\"edge {(u,v)} doesn't have a definitive max: {dist}\", category=RuntimeWarning)\n",
      "C:\\Users\\Brus\\Documents\\repos\\TemporalEdgeProp\\edge_prop\\models\\base_model.py:55: RuntimeWarning: edge ('3624', '4272') doesn't have a definitive max: [0.5 0.5]\n",
      "  warnings.warn(f\"edge {(u,v)} doesn't have a definitive max: {dist}\", category=RuntimeWarning)\n",
      "C:\\Users\\Brus\\Documents\\repos\\TemporalEdgeProp\\edge_prop\\models\\base_model.py:55: RuntimeWarning: edge ('3744', '3961') doesn't have a definitive max: [0.5 0.5]\n",
      "  warnings.warn(f\"edge {(u,v)} doesn't have a definitive max: {dist}\", category=RuntimeWarning)\n",
      "C:\\Users\\Brus\\Documents\\repos\\TemporalEdgeProp\\edge_prop\\models\\base_model.py:55: RuntimeWarning: edge ('3744', '3965') doesn't have a definitive max: [0.5 0.5]\n",
      "  warnings.warn(f\"edge {(u,v)} doesn't have a definitive max: {dist}\", category=RuntimeWarning)\n",
      "C:\\Users\\Brus\\Documents\\repos\\TemporalEdgeProp\\edge_prop\\models\\base_model.py:55: RuntimeWarning: edge ('3758', '3759') doesn't have a definitive max: [0. 0.]\n",
      "  warnings.warn(f\"edge {(u,v)} doesn't have a definitive max: {dist}\", category=RuntimeWarning)\n",
      "C:\\Users\\Brus\\Documents\\repos\\TemporalEdgeProp\\edge_prop\\models\\base_model.py:55: RuntimeWarning: edge ('3759', '3759') doesn't have a definitive max: [0. 0.]\n",
      "  warnings.warn(f\"edge {(u,v)} doesn't have a definitive max: {dist}\", category=RuntimeWarning)\n",
      "C:\\Users\\Brus\\Documents\\repos\\TemporalEdgeProp\\edge_prop\\models\\base_model.py:55: RuntimeWarning: edge ('3760', '3848') doesn't have a definitive max: [0.5 0.5]\n",
      "  warnings.warn(f\"edge {(u,v)} doesn't have a definitive max: {dist}\", category=RuntimeWarning)\n",
      "C:\\Users\\Brus\\Documents\\repos\\TemporalEdgeProp\\edge_prop\\models\\base_model.py:55: RuntimeWarning: edge ('381', '593') doesn't have a definitive max: [0.5 0.5]\n",
      "  warnings.warn(f\"edge {(u,v)} doesn't have a definitive max: {dist}\", category=RuntimeWarning)\n",
      "C:\\Users\\Brus\\Documents\\repos\\TemporalEdgeProp\\edge_prop\\models\\base_model.py:55: RuntimeWarning: edge ('3818', '4088') doesn't have a definitive max: [0.5 0.5]\n",
      "  warnings.warn(f\"edge {(u,v)} doesn't have a definitive max: {dist}\", category=RuntimeWarning)\n",
      "C:\\Users\\Brus\\Documents\\repos\\TemporalEdgeProp\\edge_prop\\models\\base_model.py:55: RuntimeWarning: edge ('3846', '3983') doesn't have a definitive max: [0.5 0.5]\n",
      "  warnings.warn(f\"edge {(u,v)} doesn't have a definitive max: {dist}\", category=RuntimeWarning)\n",
      "C:\\Users\\Brus\\Documents\\repos\\TemporalEdgeProp\\edge_prop\\models\\base_model.py:55: RuntimeWarning: edge ('3846', '4187') doesn't have a definitive max: [0.5 0.5]\n",
      "  warnings.warn(f\"edge {(u,v)} doesn't have a definitive max: {dist}\", category=RuntimeWarning)\n",
      "C:\\Users\\Brus\\Documents\\repos\\TemporalEdgeProp\\edge_prop\\models\\base_model.py:55: RuntimeWarning: edge ('3853', '4481') doesn't have a definitive max: [0.5 0.5]\n",
      "  warnings.warn(f\"edge {(u,v)} doesn't have a definitive max: {dist}\", category=RuntimeWarning)\n",
      "C:\\Users\\Brus\\Documents\\repos\\TemporalEdgeProp\\edge_prop\\models\\base_model.py:55: RuntimeWarning: edge ('3869', '5296') doesn't have a definitive max: [0.5 0.5]\n",
      "  warnings.warn(f\"edge {(u,v)} doesn't have a definitive max: {dist}\", category=RuntimeWarning)\n",
      "C:\\Users\\Brus\\Documents\\repos\\TemporalEdgeProp\\edge_prop\\models\\base_model.py:55: RuntimeWarning: edge ('3887', '4451') doesn't have a definitive max: [0.5 0.5]\n",
      "  warnings.warn(f\"edge {(u,v)} doesn't have a definitive max: {dist}\", category=RuntimeWarning)\n",
      "C:\\Users\\Brus\\Documents\\repos\\TemporalEdgeProp\\edge_prop\\models\\base_model.py:55: RuntimeWarning: edge ('39', '2427') doesn't have a definitive max: [0.5 0.5]\n",
      "  warnings.warn(f\"edge {(u,v)} doesn't have a definitive max: {dist}\", category=RuntimeWarning)\n",
      "C:\\Users\\Brus\\Documents\\repos\\TemporalEdgeProp\\edge_prop\\models\\base_model.py:55: RuntimeWarning: edge ('3900', '5432') doesn't have a definitive max: [0.5 0.5]\n",
      "  warnings.warn(f\"edge {(u,v)} doesn't have a definitive max: {dist}\", category=RuntimeWarning)\n",
      "C:\\Users\\Brus\\Documents\\repos\\TemporalEdgeProp\\edge_prop\\models\\base_model.py:55: RuntimeWarning: edge ('3983', '4173') doesn't have a definitive max: [0.5 0.5]\n",
      "  warnings.warn(f\"edge {(u,v)} doesn't have a definitive max: {dist}\", category=RuntimeWarning)\n",
      "C:\\Users\\Brus\\Documents\\repos\\TemporalEdgeProp\\edge_prop\\models\\base_model.py:55: RuntimeWarning: edge ('3985', '5265') doesn't have a definitive max: [0.5 0.5]\n",
      "  warnings.warn(f\"edge {(u,v)} doesn't have a definitive max: {dist}\", category=RuntimeWarning)\n",
      "C:\\Users\\Brus\\Documents\\repos\\TemporalEdgeProp\\edge_prop\\models\\base_model.py:55: RuntimeWarning: edge ('4001', '6196') doesn't have a definitive max: [0.5 0.5]\n",
      "  warnings.warn(f\"edge {(u,v)} doesn't have a definitive max: {dist}\", category=RuntimeWarning)\n",
      "C:\\Users\\Brus\\Documents\\repos\\TemporalEdgeProp\\edge_prop\\models\\base_model.py:55: RuntimeWarning: edge ('4016', '4081') doesn't have a definitive max: [0.5 0.5]\n",
      "  warnings.warn(f\"edge {(u,v)} doesn't have a definitive max: {dist}\", category=RuntimeWarning)\n",
      "C:\\Users\\Brus\\Documents\\repos\\TemporalEdgeProp\\edge_prop\\models\\base_model.py:55: RuntimeWarning: edge ('4033', '4703') doesn't have a definitive max: [0.5 0.5]\n",
      "  warnings.warn(f\"edge {(u,v)} doesn't have a definitive max: {dist}\", category=RuntimeWarning)\n",
      "C:\\Users\\Brus\\Documents\\repos\\TemporalEdgeProp\\edge_prop\\models\\base_model.py:55: RuntimeWarning: edge ('406', '1088') doesn't have a definitive max: [0.5 0.5]\n",
      "  warnings.warn(f\"edge {(u,v)} doesn't have a definitive max: {dist}\", category=RuntimeWarning)\n",
      "C:\\Users\\Brus\\Documents\\repos\\TemporalEdgeProp\\edge_prop\\models\\base_model.py:55: RuntimeWarning: edge ('406', '708') doesn't have a definitive max: [0.5 0.5]\n",
      "  warnings.warn(f\"edge {(u,v)} doesn't have a definitive max: {dist}\", category=RuntimeWarning)\n",
      "C:\\Users\\Brus\\Documents\\repos\\TemporalEdgeProp\\edge_prop\\models\\base_model.py:55: RuntimeWarning: edge ('4067', '4160') doesn't have a definitive max: [0.5 0.5]\n",
      "  warnings.warn(f\"edge {(u,v)} doesn't have a definitive max: {dist}\", category=RuntimeWarning)\n",
      "C:\\Users\\Brus\\Documents\\repos\\TemporalEdgeProp\\edge_prop\\models\\base_model.py:55: RuntimeWarning: edge ('4067', '4976') doesn't have a definitive max: [0.5 0.5]\n",
      "  warnings.warn(f\"edge {(u,v)} doesn't have a definitive max: {dist}\", category=RuntimeWarning)\n",
      "C:\\Users\\Brus\\Documents\\repos\\TemporalEdgeProp\\edge_prop\\models\\base_model.py:55: RuntimeWarning: edge ('407', '434') doesn't have a definitive max: [0.5 0.5]\n",
      "  warnings.warn(f\"edge {(u,v)} doesn't have a definitive max: {dist}\", category=RuntimeWarning)\n",
      "C:\\Users\\Brus\\Documents\\repos\\TemporalEdgeProp\\edge_prop\\models\\base_model.py:55: RuntimeWarning: edge ('4072', '4073') doesn't have a definitive max: [0. 0.]\n",
      "  warnings.warn(f\"edge {(u,v)} doesn't have a definitive max: {dist}\", category=RuntimeWarning)\n",
      "C:\\Users\\Brus\\Documents\\repos\\TemporalEdgeProp\\edge_prop\\models\\base_model.py:55: RuntimeWarning: edge ('4087', '6687') doesn't have a definitive max: [0.5 0.5]\n",
      "  warnings.warn(f\"edge {(u,v)} doesn't have a definitive max: {dist}\", category=RuntimeWarning)\n",
      "C:\\Users\\Brus\\Documents\\repos\\TemporalEdgeProp\\edge_prop\\models\\base_model.py:55: RuntimeWarning: edge ('4134', '6048') doesn't have a definitive max: [0.5 0.5]\n",
      "  warnings.warn(f\"edge {(u,v)} doesn't have a definitive max: {dist}\", category=RuntimeWarning)\n",
      "C:\\Users\\Brus\\Documents\\repos\\TemporalEdgeProp\\edge_prop\\models\\base_model.py:55: RuntimeWarning: edge ('4143', '4185') doesn't have a definitive max: [0.5 0.5]\n",
      "  warnings.warn(f\"edge {(u,v)} doesn't have a definitive max: {dist}\", category=RuntimeWarning)\n",
      "C:\\Users\\Brus\\Documents\\repos\\TemporalEdgeProp\\edge_prop\\models\\base_model.py:55: RuntimeWarning: edge ('4173', '4272') doesn't have a definitive max: [0.5 0.5]\n",
      "  warnings.warn(f\"edge {(u,v)} doesn't have a definitive max: {dist}\", category=RuntimeWarning)\n",
      "C:\\Users\\Brus\\Documents\\repos\\TemporalEdgeProp\\edge_prop\\models\\base_model.py:55: RuntimeWarning: edge ('4185', '5051') doesn't have a definitive max: [0.5 0.5]\n",
      "  warnings.warn(f\"edge {(u,v)} doesn't have a definitive max: {dist}\", category=RuntimeWarning)\n",
      "C:\\Users\\Brus\\Documents\\repos\\TemporalEdgeProp\\edge_prop\\models\\base_model.py:55: RuntimeWarning: edge ('4186', '7064') doesn't have a definitive max: [0.5 0.5]\n",
      "  warnings.warn(f\"edge {(u,v)} doesn't have a definitive max: {dist}\", category=RuntimeWarning)\n",
      "C:\\Users\\Brus\\Documents\\repos\\TemporalEdgeProp\\edge_prop\\models\\base_model.py:55: RuntimeWarning: edge ('4211', '4247') doesn't have a definitive max: [0.5 0.5]\n",
      "  warnings.warn(f\"edge {(u,v)} doesn't have a definitive max: {dist}\", category=RuntimeWarning)\n",
      "C:\\Users\\Brus\\Documents\\repos\\TemporalEdgeProp\\edge_prop\\models\\base_model.py:55: RuntimeWarning: edge ('4258', '6198') doesn't have a definitive max: [0.5 0.5]\n",
      "  warnings.warn(f\"edge {(u,v)} doesn't have a definitive max: {dist}\", category=RuntimeWarning)\n",
      "C:\\Users\\Brus\\Documents\\repos\\TemporalEdgeProp\\edge_prop\\models\\base_model.py:55: RuntimeWarning: edge ('426', '436') doesn't have a definitive max: [0.5 0.5]\n",
      "  warnings.warn(f\"edge {(u,v)} doesn't have a definitive max: {dist}\", category=RuntimeWarning)\n",
      "C:\\Users\\Brus\\Documents\\repos\\TemporalEdgeProp\\edge_prop\\models\\base_model.py:55: RuntimeWarning: edge ('426', '464') doesn't have a definitive max: [0.5 0.5]\n",
      "  warnings.warn(f\"edge {(u,v)} doesn't have a definitive max: {dist}\", category=RuntimeWarning)\n",
      "C:\\Users\\Brus\\Documents\\repos\\TemporalEdgeProp\\edge_prop\\models\\base_model.py:55: RuntimeWarning: edge ('4268', '4315') doesn't have a definitive max: [0.5 0.5]\n",
      "  warnings.warn(f\"edge {(u,v)} doesn't have a definitive max: {dist}\", category=RuntimeWarning)\n",
      "C:\\Users\\Brus\\Documents\\repos\\TemporalEdgeProp\\edge_prop\\models\\base_model.py:55: RuntimeWarning: edge ('4278', '6790') doesn't have a definitive max: [0.5 0.5]\n",
      "  warnings.warn(f\"edge {(u,v)} doesn't have a definitive max: {dist}\", category=RuntimeWarning)\n",
      "C:\\Users\\Brus\\Documents\\repos\\TemporalEdgeProp\\edge_prop\\models\\base_model.py:55: RuntimeWarning: edge ('436', '438') doesn't have a definitive max: [0.5 0.5]\n",
      "  warnings.warn(f\"edge {(u,v)} doesn't have a definitive max: {dist}\", category=RuntimeWarning)\n",
      "C:\\Users\\Brus\\Documents\\repos\\TemporalEdgeProp\\edge_prop\\models\\base_model.py:55: RuntimeWarning: edge ('4371', '6734') doesn't have a definitive max: [0.5 0.5]\n",
      "  warnings.warn(f\"edge {(u,v)} doesn't have a definitive max: {dist}\", category=RuntimeWarning)\n",
      "C:\\Users\\Brus\\Documents\\repos\\TemporalEdgeProp\\edge_prop\\models\\base_model.py:55: RuntimeWarning: edge ('4377', '4451') doesn't have a definitive max: [0.5 0.5]\n",
      "  warnings.warn(f\"edge {(u,v)} doesn't have a definitive max: {dist}\", category=RuntimeWarning)\n",
      "C:\\Users\\Brus\\Documents\\repos\\TemporalEdgeProp\\edge_prop\\models\\base_model.py:55: RuntimeWarning: edge ('4377', '4455') doesn't have a definitive max: [0.5 0.5]\n",
      "  warnings.warn(f\"edge {(u,v)} doesn't have a definitive max: {dist}\", category=RuntimeWarning)\n",
      "C:\\Users\\Brus\\Documents\\repos\\TemporalEdgeProp\\edge_prop\\models\\base_model.py:55: RuntimeWarning: edge ('4377', '4495') doesn't have a definitive max: [0.5 0.5]\n",
      "  warnings.warn(f\"edge {(u,v)} doesn't have a definitive max: {dist}\", category=RuntimeWarning)\n",
      "C:\\Users\\Brus\\Documents\\repos\\TemporalEdgeProp\\edge_prop\\models\\base_model.py:55: RuntimeWarning: edge ('4377', '4815') doesn't have a definitive max: [0.5 0.5]\n",
      "  warnings.warn(f\"edge {(u,v)} doesn't have a definitive max: {dist}\", category=RuntimeWarning)\n",
      "C:\\Users\\Brus\\Documents\\repos\\TemporalEdgeProp\\edge_prop\\models\\base_model.py:55: RuntimeWarning: edge ('4427', '4455') doesn't have a definitive max: [0.5 0.5]\n",
      "  warnings.warn(f\"edge {(u,v)} doesn't have a definitive max: {dist}\", category=RuntimeWarning)\n",
      "C:\\Users\\Brus\\Documents\\repos\\TemporalEdgeProp\\edge_prop\\models\\base_model.py:55: RuntimeWarning: edge ('4524', '4538') doesn't have a definitive max: [0.5 0.5]\n",
      "  warnings.warn(f\"edge {(u,v)} doesn't have a definitive max: {dist}\", category=RuntimeWarning)\n",
      "C:\\Users\\Brus\\Documents\\repos\\TemporalEdgeProp\\edge_prop\\models\\base_model.py:55: RuntimeWarning: edge ('4538', '5211') doesn't have a definitive max: [0.5 0.5]\n",
      "  warnings.warn(f\"edge {(u,v)} doesn't have a definitive max: {dist}\", category=RuntimeWarning)\n",
      "C:\\Users\\Brus\\Documents\\repos\\TemporalEdgeProp\\edge_prop\\models\\base_model.py:55: RuntimeWarning: edge ('4611', '5207') doesn't have a definitive max: [0.5 0.5]\n",
      "  warnings.warn(f\"edge {(u,v)} doesn't have a definitive max: {dist}\", category=RuntimeWarning)\n",
      "C:\\Users\\Brus\\Documents\\repos\\TemporalEdgeProp\\edge_prop\\models\\base_model.py:55: RuntimeWarning: edge ('4611', '5220') doesn't have a definitive max: [0.5 0.5]\n",
      "  warnings.warn(f\"edge {(u,v)} doesn't have a definitive max: {dist}\", category=RuntimeWarning)\n",
      "C:\\Users\\Brus\\Documents\\repos\\TemporalEdgeProp\\edge_prop\\models\\base_model.py:55: RuntimeWarning: edge ('4611', '5251') doesn't have a definitive max: [0.5 0.5]\n",
      "  warnings.warn(f\"edge {(u,v)} doesn't have a definitive max: {dist}\", category=RuntimeWarning)\n",
      "C:\\Users\\Brus\\Documents\\repos\\TemporalEdgeProp\\edge_prop\\models\\base_model.py:55: RuntimeWarning: edge ('4613', '4928') doesn't have a definitive max: [0.5 0.5]\n",
      "  warnings.warn(f\"edge {(u,v)} doesn't have a definitive max: {dist}\", category=RuntimeWarning)\n",
      "C:\\Users\\Brus\\Documents\\repos\\TemporalEdgeProp\\edge_prop\\models\\base_model.py:55: RuntimeWarning: edge ('4613', '4976') doesn't have a definitive max: [0.5 0.5]\n",
      "  warnings.warn(f\"edge {(u,v)} doesn't have a definitive max: {dist}\", category=RuntimeWarning)\n",
      "C:\\Users\\Brus\\Documents\\repos\\TemporalEdgeProp\\edge_prop\\models\\base_model.py:55: RuntimeWarning: edge ('4630', '6521') doesn't have a definitive max: [0.5 0.5]\n",
      "  warnings.warn(f\"edge {(u,v)} doesn't have a definitive max: {dist}\", category=RuntimeWarning)\n",
      "C:\\Users\\Brus\\Documents\\repos\\TemporalEdgeProp\\edge_prop\\models\\base_model.py:55: RuntimeWarning: edge ('4632', '4815') doesn't have a definitive max: [0.5 0.5]\n",
      "  warnings.warn(f\"edge {(u,v)} doesn't have a definitive max: {dist}\", category=RuntimeWarning)\n",
      "C:\\Users\\Brus\\Documents\\repos\\TemporalEdgeProp\\edge_prop\\models\\base_model.py:55: RuntimeWarning: edge ('4633', '5536') doesn't have a definitive max: [0.5 0.5]\n",
      "  warnings.warn(f\"edge {(u,v)} doesn't have a definitive max: {dist}\", category=RuntimeWarning)\n",
      "C:\\Users\\Brus\\Documents\\repos\\TemporalEdgeProp\\edge_prop\\models\\base_model.py:55: RuntimeWarning: edge ('4718', '4781') doesn't have a definitive max: [0.5 0.5]\n",
      "  warnings.warn(f\"edge {(u,v)} doesn't have a definitive max: {dist}\", category=RuntimeWarning)\n",
      "C:\\Users\\Brus\\Documents\\repos\\TemporalEdgeProp\\edge_prop\\models\\base_model.py:55: RuntimeWarning: edge ('4781', '4837') doesn't have a definitive max: [0.5 0.5]\n",
      "  warnings.warn(f\"edge {(u,v)} doesn't have a definitive max: {dist}\", category=RuntimeWarning)\n",
      "C:\\Users\\Brus\\Documents\\repos\\TemporalEdgeProp\\edge_prop\\models\\base_model.py:55: RuntimeWarning: edge ('4786', '6189') doesn't have a definitive max: [0.5 0.5]\n",
      "  warnings.warn(f\"edge {(u,v)} doesn't have a definitive max: {dist}\", category=RuntimeWarning)\n",
      "C:\\Users\\Brus\\Documents\\repos\\TemporalEdgeProp\\edge_prop\\models\\base_model.py:55: RuntimeWarning: edge ('4797', '4798') doesn't have a definitive max: [0. 0.]\n",
      "  warnings.warn(f\"edge {(u,v)} doesn't have a definitive max: {dist}\", category=RuntimeWarning)\n",
      "C:\\Users\\Brus\\Documents\\repos\\TemporalEdgeProp\\edge_prop\\models\\base_model.py:55: RuntimeWarning: edge ('4810', '5364') doesn't have a definitive max: [0.5 0.5]\n",
      "  warnings.warn(f\"edge {(u,v)} doesn't have a definitive max: {dist}\", category=RuntimeWarning)\n",
      "C:\\Users\\Brus\\Documents\\repos\\TemporalEdgeProp\\edge_prop\\models\\base_model.py:55: RuntimeWarning: edge ('4810', '5375') doesn't have a definitive max: [0.5 0.5]\n",
      "  warnings.warn(f\"edge {(u,v)} doesn't have a definitive max: {dist}\", category=RuntimeWarning)\n",
      "C:\\Users\\Brus\\Documents\\repos\\TemporalEdgeProp\\edge_prop\\models\\base_model.py:55: RuntimeWarning: edge ('4814', '5843') doesn't have a definitive max: [0.5 0.5]\n",
      "  warnings.warn(f\"edge {(u,v)} doesn't have a definitive max: {dist}\", category=RuntimeWarning)\n",
      "C:\\Users\\Brus\\Documents\\repos\\TemporalEdgeProp\\edge_prop\\models\\base_model.py:55: RuntimeWarning: edge ('4818', '5296') doesn't have a definitive max: [0.5 0.5]\n",
      "  warnings.warn(f\"edge {(u,v)} doesn't have a definitive max: {dist}\", category=RuntimeWarning)\n",
      "C:\\Users\\Brus\\Documents\\repos\\TemporalEdgeProp\\edge_prop\\models\\base_model.py:55: RuntimeWarning: edge ('4839', '4876') doesn't have a definitive max: [0.5 0.5]\n",
      "  warnings.warn(f\"edge {(u,v)} doesn't have a definitive max: {dist}\", category=RuntimeWarning)\n",
      "C:\\Users\\Brus\\Documents\\repos\\TemporalEdgeProp\\edge_prop\\models\\base_model.py:55: RuntimeWarning: edge ('4884', '4997') doesn't have a definitive max: [0.5 0.5]\n",
      "  warnings.warn(f\"edge {(u,v)} doesn't have a definitive max: {dist}\", category=RuntimeWarning)\n",
      "C:\\Users\\Brus\\Documents\\repos\\TemporalEdgeProp\\edge_prop\\models\\base_model.py:55: RuntimeWarning: edge ('49', '248') doesn't have a definitive max: [0.5 0.5]\n",
      "  warnings.warn(f\"edge {(u,v)} doesn't have a definitive max: {dist}\", category=RuntimeWarning)\n",
      "C:\\Users\\Brus\\Documents\\repos\\TemporalEdgeProp\\edge_prop\\models\\base_model.py:55: RuntimeWarning: edge ('49', '356') doesn't have a definitive max: [0.5 0.5]\n",
      "  warnings.warn(f\"edge {(u,v)} doesn't have a definitive max: {dist}\", category=RuntimeWarning)\n",
      "C:\\Users\\Brus\\Documents\\repos\\TemporalEdgeProp\\edge_prop\\models\\base_model.py:55: RuntimeWarning: edge ('49', '788') doesn't have a definitive max: [0.5 0.5]\n",
      "  warnings.warn(f\"edge {(u,v)} doesn't have a definitive max: {dist}\", category=RuntimeWarning)\n",
      "C:\\Users\\Brus\\Documents\\repos\\TemporalEdgeProp\\edge_prop\\models\\base_model.py:55: RuntimeWarning: edge ('496', '637') doesn't have a definitive max: [0.5 0.5]\n",
      "  warnings.warn(f\"edge {(u,v)} doesn't have a definitive max: {dist}\", category=RuntimeWarning)\n",
      "C:\\Users\\Brus\\Documents\\repos\\TemporalEdgeProp\\edge_prop\\models\\base_model.py:55: RuntimeWarning: edge ('496', '708') doesn't have a definitive max: [0.5 0.5]\n",
      "  warnings.warn(f\"edge {(u,v)} doesn't have a definitive max: {dist}\", category=RuntimeWarning)\n",
      "C:\\Users\\Brus\\Documents\\repos\\TemporalEdgeProp\\edge_prop\\models\\base_model.py:55: RuntimeWarning: edge ('4961', '5223') doesn't have a definitive max: [0.5 0.5]\n",
      "  warnings.warn(f\"edge {(u,v)} doesn't have a definitive max: {dist}\", category=RuntimeWarning)\n",
      "C:\\Users\\Brus\\Documents\\repos\\TemporalEdgeProp\\edge_prop\\models\\base_model.py:55: RuntimeWarning: edge ('4962', '5973') doesn't have a definitive max: [0.5 0.5]\n",
      "  warnings.warn(f\"edge {(u,v)} doesn't have a definitive max: {dist}\", category=RuntimeWarning)\n",
      "C:\\Users\\Brus\\Documents\\repos\\TemporalEdgeProp\\edge_prop\\models\\base_model.py:55: RuntimeWarning: edge ('4976', '4978') doesn't have a definitive max: [0.5 0.5]\n",
      "  warnings.warn(f\"edge {(u,v)} doesn't have a definitive max: {dist}\", category=RuntimeWarning)\n",
      "C:\\Users\\Brus\\Documents\\repos\\TemporalEdgeProp\\edge_prop\\models\\base_model.py:55: RuntimeWarning: edge ('5010', '5011') doesn't have a definitive max: [0.5 0.5]\n",
      "  warnings.warn(f\"edge {(u,v)} doesn't have a definitive max: {dist}\", category=RuntimeWarning)\n",
      "C:\\Users\\Brus\\Documents\\repos\\TemporalEdgeProp\\edge_prop\\models\\base_model.py:55: RuntimeWarning: edge ('5017', '5265') doesn't have a definitive max: [0.5 0.5]\n",
      "  warnings.warn(f\"edge {(u,v)} doesn't have a definitive max: {dist}\", category=RuntimeWarning)\n",
      "C:\\Users\\Brus\\Documents\\repos\\TemporalEdgeProp\\edge_prop\\models\\base_model.py:55: RuntimeWarning: edge ('5025', '5026') doesn't have a definitive max: [0. 0.]\n",
      "  warnings.warn(f\"edge {(u,v)} doesn't have a definitive max: {dist}\", category=RuntimeWarning)\n",
      "C:\\Users\\Brus\\Documents\\repos\\TemporalEdgeProp\\edge_prop\\models\\base_model.py:55: RuntimeWarning: edge ('5038', '5745') doesn't have a definitive max: [0.5 0.5]\n",
      "  warnings.warn(f\"edge {(u,v)} doesn't have a definitive max: {dist}\", category=RuntimeWarning)\n",
      "C:\\Users\\Brus\\Documents\\repos\\TemporalEdgeProp\\edge_prop\\models\\base_model.py:55: RuntimeWarning: edge ('5045', '5045') doesn't have a definitive max: [0. 0.]\n",
      "  warnings.warn(f\"edge {(u,v)} doesn't have a definitive max: {dist}\", category=RuntimeWarning)\n",
      "C:\\Users\\Brus\\Documents\\repos\\TemporalEdgeProp\\edge_prop\\models\\base_model.py:55: RuntimeWarning: edge ('5048', '5248') doesn't have a definitive max: [0.5 0.5]\n",
      "  warnings.warn(f\"edge {(u,v)} doesn't have a definitive max: {dist}\", category=RuntimeWarning)\n",
      "C:\\Users\\Brus\\Documents\\repos\\TemporalEdgeProp\\edge_prop\\models\\base_model.py:55: RuntimeWarning: edge ('5051', '5058') doesn't have a definitive max: [0.5 0.5]\n",
      "  warnings.warn(f\"edge {(u,v)} doesn't have a definitive max: {dist}\", category=RuntimeWarning)\n",
      "C:\\Users\\Brus\\Documents\\repos\\TemporalEdgeProp\\edge_prop\\models\\base_model.py:55: RuntimeWarning: edge ('5059', '5368') doesn't have a definitive max: [0.5 0.5]\n",
      "  warnings.warn(f\"edge {(u,v)} doesn't have a definitive max: {dist}\", category=RuntimeWarning)\n",
      "C:\\Users\\Brus\\Documents\\repos\\TemporalEdgeProp\\edge_prop\\models\\base_model.py:55: RuntimeWarning: edge ('5098', '5099') doesn't have a definitive max: [0. 0.]\n",
      "  warnings.warn(f\"edge {(u,v)} doesn't have a definitive max: {dist}\", category=RuntimeWarning)\n",
      "C:\\Users\\Brus\\Documents\\repos\\TemporalEdgeProp\\edge_prop\\models\\base_model.py:55: RuntimeWarning: edge ('510', '931') doesn't have a definitive max: [0.5 0.5]\n",
      "  warnings.warn(f\"edge {(u,v)} doesn't have a definitive max: {dist}\", category=RuntimeWarning)\n",
      "C:\\Users\\Brus\\Documents\\repos\\TemporalEdgeProp\\edge_prop\\models\\base_model.py:55: RuntimeWarning: edge ('5108', '6234') doesn't have a definitive max: [0.5 0.5]\n",
      "  warnings.warn(f\"edge {(u,v)} doesn't have a definitive max: {dist}\", category=RuntimeWarning)\n",
      "C:\\Users\\Brus\\Documents\\repos\\TemporalEdgeProp\\edge_prop\\models\\base_model.py:55: RuntimeWarning: edge ('5108', '6653') doesn't have a definitive max: [0.5 0.5]\n",
      "  warnings.warn(f\"edge {(u,v)} doesn't have a definitive max: {dist}\", category=RuntimeWarning)\n",
      "C:\\Users\\Brus\\Documents\\repos\\TemporalEdgeProp\\edge_prop\\models\\base_model.py:55: RuntimeWarning: edge ('511', '825') doesn't have a definitive max: [0.5 0.5]\n",
      "  warnings.warn(f\"edge {(u,v)} doesn't have a definitive max: {dist}\", category=RuntimeWarning)\n",
      "C:\\Users\\Brus\\Documents\\repos\\TemporalEdgeProp\\edge_prop\\models\\base_model.py:55: RuntimeWarning: edge ('5154', '5780') doesn't have a definitive max: [0.5 0.5]\n",
      "  warnings.warn(f\"edge {(u,v)} doesn't have a definitive max: {dist}\", category=RuntimeWarning)\n",
      "C:\\Users\\Brus\\Documents\\repos\\TemporalEdgeProp\\edge_prop\\models\\base_model.py:55: RuntimeWarning: edge ('5208', '6215') doesn't have a definitive max: [0.5 0.5]\n",
      "  warnings.warn(f\"edge {(u,v)} doesn't have a definitive max: {dist}\", category=RuntimeWarning)\n"
     ]
    },
    {
     "name": "stderr",
     "output_type": "stream",
     "text": [
      "C:\\Users\\Brus\\Documents\\repos\\TemporalEdgeProp\\edge_prop\\models\\base_model.py:55: RuntimeWarning: edge ('5208', '6365') doesn't have a definitive max: [0.5 0.5]\n",
      "  warnings.warn(f\"edge {(u,v)} doesn't have a definitive max: {dist}\", category=RuntimeWarning)\n",
      "C:\\Users\\Brus\\Documents\\repos\\TemporalEdgeProp\\edge_prop\\models\\base_model.py:55: RuntimeWarning: edge ('5211', '6706') doesn't have a definitive max: [0.5 0.5]\n",
      "  warnings.warn(f\"edge {(u,v)} doesn't have a definitive max: {dist}\", category=RuntimeWarning)\n",
      "C:\\Users\\Brus\\Documents\\repos\\TemporalEdgeProp\\edge_prop\\models\\base_model.py:55: RuntimeWarning: edge ('5220', '5225') doesn't have a definitive max: [0.5 0.5]\n",
      "  warnings.warn(f\"edge {(u,v)} doesn't have a definitive max: {dist}\", category=RuntimeWarning)\n",
      "C:\\Users\\Brus\\Documents\\repos\\TemporalEdgeProp\\edge_prop\\models\\base_model.py:55: RuntimeWarning: edge ('5220', '5248') doesn't have a definitive max: [0.5 0.5]\n",
      "  warnings.warn(f\"edge {(u,v)} doesn't have a definitive max: {dist}\", category=RuntimeWarning)\n",
      "C:\\Users\\Brus\\Documents\\repos\\TemporalEdgeProp\\edge_prop\\models\\base_model.py:55: RuntimeWarning: edge ('5248', '5251') doesn't have a definitive max: [0.5 0.5]\n",
      "  warnings.warn(f\"edge {(u,v)} doesn't have a definitive max: {dist}\", category=RuntimeWarning)\n",
      "C:\\Users\\Brus\\Documents\\repos\\TemporalEdgeProp\\edge_prop\\models\\base_model.py:55: RuntimeWarning: edge ('5265', '5882') doesn't have a definitive max: [0.5 0.5]\n",
      "  warnings.warn(f\"edge {(u,v)} doesn't have a definitive max: {dist}\", category=RuntimeWarning)\n",
      "C:\\Users\\Brus\\Documents\\repos\\TemporalEdgeProp\\edge_prop\\models\\base_model.py:55: RuntimeWarning: edge ('5265', '6208') doesn't have a definitive max: [0.5 0.5]\n",
      "  warnings.warn(f\"edge {(u,v)} doesn't have a definitive max: {dist}\", category=RuntimeWarning)\n",
      "C:\\Users\\Brus\\Documents\\repos\\TemporalEdgeProp\\edge_prop\\models\\base_model.py:55: RuntimeWarning: edge ('5265', '6756') doesn't have a definitive max: [0.5 0.5]\n",
      "  warnings.warn(f\"edge {(u,v)} doesn't have a definitive max: {dist}\", category=RuntimeWarning)\n",
      "C:\\Users\\Brus\\Documents\\repos\\TemporalEdgeProp\\edge_prop\\models\\base_model.py:55: RuntimeWarning: edge ('5266', '5267') doesn't have a definitive max: [0. 0.]\n",
      "  warnings.warn(f\"edge {(u,v)} doesn't have a definitive max: {dist}\", category=RuntimeWarning)\n",
      "C:\\Users\\Brus\\Documents\\repos\\TemporalEdgeProp\\edge_prop\\models\\base_model.py:55: RuntimeWarning: edge ('5299', '7113') doesn't have a definitive max: [0.5 0.5]\n",
      "  warnings.warn(f\"edge {(u,v)} doesn't have a definitive max: {dist}\", category=RuntimeWarning)\n",
      "C:\\Users\\Brus\\Documents\\repos\\TemporalEdgeProp\\edge_prop\\models\\base_model.py:55: RuntimeWarning: edge ('5311', '5312') doesn't have a definitive max: [0. 0.]\n",
      "  warnings.warn(f\"edge {(u,v)} doesn't have a definitive max: {dist}\", category=RuntimeWarning)\n",
      "C:\\Users\\Brus\\Documents\\repos\\TemporalEdgeProp\\edge_prop\\models\\base_model.py:55: RuntimeWarning: edge ('5313', '5843') doesn't have a definitive max: [0.5 0.5]\n",
      "  warnings.warn(f\"edge {(u,v)} doesn't have a definitive max: {dist}\", category=RuntimeWarning)\n",
      "C:\\Users\\Brus\\Documents\\repos\\TemporalEdgeProp\\edge_prop\\models\\base_model.py:55: RuntimeWarning: edge ('5358', '5423') doesn't have a definitive max: [0.5 0.5]\n",
      "  warnings.warn(f\"edge {(u,v)} doesn't have a definitive max: {dist}\", category=RuntimeWarning)\n",
      "C:\\Users\\Brus\\Documents\\repos\\TemporalEdgeProp\\edge_prop\\models\\base_model.py:55: RuntimeWarning: edge ('5368', '5669') doesn't have a definitive max: [0.5 0.5]\n",
      "  warnings.warn(f\"edge {(u,v)} doesn't have a definitive max: {dist}\", category=RuntimeWarning)\n",
      "C:\\Users\\Brus\\Documents\\repos\\TemporalEdgeProp\\edge_prop\\models\\base_model.py:55: RuntimeWarning: edge ('5368', '5872') doesn't have a definitive max: [0.5 0.5]\n",
      "  warnings.warn(f\"edge {(u,v)} doesn't have a definitive max: {dist}\", category=RuntimeWarning)\n",
      "C:\\Users\\Brus\\Documents\\repos\\TemporalEdgeProp\\edge_prop\\models\\base_model.py:55: RuntimeWarning: edge ('5370', '5371') doesn't have a definitive max: [0. 0.]\n",
      "  warnings.warn(f\"edge {(u,v)} doesn't have a definitive max: {dist}\", category=RuntimeWarning)\n",
      "C:\\Users\\Brus\\Documents\\repos\\TemporalEdgeProp\\edge_prop\\models\\base_model.py:55: RuntimeWarning: edge ('5376', '6360') doesn't have a definitive max: [0.5 0.5]\n",
      "  warnings.warn(f\"edge {(u,v)} doesn't have a definitive max: {dist}\", category=RuntimeWarning)\n",
      "C:\\Users\\Brus\\Documents\\repos\\TemporalEdgeProp\\edge_prop\\models\\base_model.py:55: RuntimeWarning: edge ('5379', '5380') doesn't have a definitive max: [0. 0.]\n",
      "  warnings.warn(f\"edge {(u,v)} doesn't have a definitive max: {dist}\", category=RuntimeWarning)\n",
      "C:\\Users\\Brus\\Documents\\repos\\TemporalEdgeProp\\edge_prop\\models\\base_model.py:55: RuntimeWarning: edge ('5412', '5745') doesn't have a definitive max: [0.5 0.5]\n",
      "  warnings.warn(f\"edge {(u,v)} doesn't have a definitive max: {dist}\", category=RuntimeWarning)\n",
      "C:\\Users\\Brus\\Documents\\repos\\TemporalEdgeProp\\edge_prop\\models\\base_model.py:55: RuntimeWarning: edge ('5432', '6521') doesn't have a definitive max: [0.5 0.5]\n",
      "  warnings.warn(f\"edge {(u,v)} doesn't have a definitive max: {dist}\", category=RuntimeWarning)\n",
      "C:\\Users\\Brus\\Documents\\repos\\TemporalEdgeProp\\edge_prop\\models\\base_model.py:55: RuntimeWarning: edge ('5503', '5504') doesn't have a definitive max: [0. 0.]\n",
      "  warnings.warn(f\"edge {(u,v)} doesn't have a definitive max: {dist}\", category=RuntimeWarning)\n",
      "C:\\Users\\Brus\\Documents\\repos\\TemporalEdgeProp\\edge_prop\\models\\base_model.py:55: RuntimeWarning: edge ('5510', '5511') doesn't have a definitive max: [0. 0.]\n",
      "  warnings.warn(f\"edge {(u,v)} doesn't have a definitive max: {dist}\", category=RuntimeWarning)\n",
      "C:\\Users\\Brus\\Documents\\repos\\TemporalEdgeProp\\edge_prop\\models\\base_model.py:55: RuntimeWarning: edge ('5604', '5604') doesn't have a definitive max: [0. 0.]\n",
      "  warnings.warn(f\"edge {(u,v)} doesn't have a definitive max: {dist}\", category=RuntimeWarning)\n",
      "C:\\Users\\Brus\\Documents\\repos\\TemporalEdgeProp\\edge_prop\\models\\base_model.py:55: RuntimeWarning: edge ('5608', '6234') doesn't have a definitive max: [0.5 0.5]\n",
      "  warnings.warn(f\"edge {(u,v)} doesn't have a definitive max: {dist}\", category=RuntimeWarning)\n",
      "C:\\Users\\Brus\\Documents\\repos\\TemporalEdgeProp\\edge_prop\\models\\base_model.py:55: RuntimeWarning: edge ('561', '624') doesn't have a definitive max: [0.5 0.5]\n",
      "  warnings.warn(f\"edge {(u,v)} doesn't have a definitive max: {dist}\", category=RuntimeWarning)\n",
      "C:\\Users\\Brus\\Documents\\repos\\TemporalEdgeProp\\edge_prop\\models\\base_model.py:55: RuntimeWarning: edge ('5713', '5714') doesn't have a definitive max: [0.5 0.5]\n",
      "  warnings.warn(f\"edge {(u,v)} doesn't have a definitive max: {dist}\", category=RuntimeWarning)\n",
      "C:\\Users\\Brus\\Documents\\repos\\TemporalEdgeProp\\edge_prop\\models\\base_model.py:55: RuntimeWarning: edge ('5714', '6498') doesn't have a definitive max: [0.5 0.5]\n",
      "  warnings.warn(f\"edge {(u,v)} doesn't have a definitive max: {dist}\", category=RuntimeWarning)\n",
      "C:\\Users\\Brus\\Documents\\repos\\TemporalEdgeProp\\edge_prop\\models\\base_model.py:55: RuntimeWarning: edge ('5714', '6653') doesn't have a definitive max: [0.5 0.5]\n",
      "  warnings.warn(f\"edge {(u,v)} doesn't have a definitive max: {dist}\", category=RuntimeWarning)\n",
      "C:\\Users\\Brus\\Documents\\repos\\TemporalEdgeProp\\edge_prop\\models\\base_model.py:55: RuntimeWarning: edge ('5714', '6700') doesn't have a definitive max: [0.5 0.5]\n",
      "  warnings.warn(f\"edge {(u,v)} doesn't have a definitive max: {dist}\", category=RuntimeWarning)\n",
      "C:\\Users\\Brus\\Documents\\repos\\TemporalEdgeProp\\edge_prop\\models\\base_model.py:55: RuntimeWarning: edge ('5714', '6775') doesn't have a definitive max: [0.5 0.5]\n",
      "  warnings.warn(f\"edge {(u,v)} doesn't have a definitive max: {dist}\", category=RuntimeWarning)\n",
      "C:\\Users\\Brus\\Documents\\repos\\TemporalEdgeProp\\edge_prop\\models\\base_model.py:55: RuntimeWarning: edge ('5714', '6856') doesn't have a definitive max: [0.5 0.5]\n",
      "  warnings.warn(f\"edge {(u,v)} doesn't have a definitive max: {dist}\", category=RuntimeWarning)\n",
      "C:\\Users\\Brus\\Documents\\repos\\TemporalEdgeProp\\edge_prop\\models\\base_model.py:55: RuntimeWarning: edge ('5714', '6889') doesn't have a definitive max: [0.5 0.5]\n",
      "  warnings.warn(f\"edge {(u,v)} doesn't have a definitive max: {dist}\", category=RuntimeWarning)\n",
      "C:\\Users\\Brus\\Documents\\repos\\TemporalEdgeProp\\edge_prop\\models\\base_model.py:55: RuntimeWarning: edge ('5733', '6831') doesn't have a definitive max: [0.5 0.5]\n",
      "  warnings.warn(f\"edge {(u,v)} doesn't have a definitive max: {dist}\", category=RuntimeWarning)\n",
      "C:\\Users\\Brus\\Documents\\repos\\TemporalEdgeProp\\edge_prop\\models\\base_model.py:55: RuntimeWarning: edge ('5767', '6369') doesn't have a definitive max: [0.5 0.5]\n",
      "  warnings.warn(f\"edge {(u,v)} doesn't have a definitive max: {dist}\", category=RuntimeWarning)\n",
      "C:\\Users\\Brus\\Documents\\repos\\TemporalEdgeProp\\edge_prop\\models\\base_model.py:55: RuntimeWarning: edge ('5781', '5924') doesn't have a definitive max: [0.5 0.5]\n",
      "  warnings.warn(f\"edge {(u,v)} doesn't have a definitive max: {dist}\", category=RuntimeWarning)\n",
      "C:\\Users\\Brus\\Documents\\repos\\TemporalEdgeProp\\edge_prop\\models\\base_model.py:55: RuntimeWarning: edge ('5782', '6196') doesn't have a definitive max: [0.5 0.5]\n",
      "  warnings.warn(f\"edge {(u,v)} doesn't have a definitive max: {dist}\", category=RuntimeWarning)\n",
      "C:\\Users\\Brus\\Documents\\repos\\TemporalEdgeProp\\edge_prop\\models\\base_model.py:55: RuntimeWarning: edge ('5821', '6997') doesn't have a definitive max: [0.5 0.5]\n",
      "  warnings.warn(f\"edge {(u,v)} doesn't have a definitive max: {dist}\", category=RuntimeWarning)\n",
      "C:\\Users\\Brus\\Documents\\repos\\TemporalEdgeProp\\edge_prop\\models\\base_model.py:55: RuntimeWarning: edge ('5868', '6050') doesn't have a definitive max: [0.5 0.5]\n",
      "  warnings.warn(f\"edge {(u,v)} doesn't have a definitive max: {dist}\", category=RuntimeWarning)\n",
      "C:\\Users\\Brus\\Documents\\repos\\TemporalEdgeProp\\edge_prop\\models\\base_model.py:55: RuntimeWarning: edge ('5872', '5874') doesn't have a definitive max: [0.5 0.5]\n",
      "  warnings.warn(f\"edge {(u,v)} doesn't have a definitive max: {dist}\", category=RuntimeWarning)\n",
      "C:\\Users\\Brus\\Documents\\repos\\TemporalEdgeProp\\edge_prop\\models\\base_model.py:55: RuntimeWarning: edge ('5874', '5997') doesn't have a definitive max: [0.5 0.5]\n",
      "  warnings.warn(f\"edge {(u,v)} doesn't have a definitive max: {dist}\", category=RuntimeWarning)\n",
      "C:\\Users\\Brus\\Documents\\repos\\TemporalEdgeProp\\edge_prop\\models\\base_model.py:55: RuntimeWarning: edge ('5906', '6428') doesn't have a definitive max: [0.5 0.5]\n",
      "  warnings.warn(f\"edge {(u,v)} doesn't have a definitive max: {dist}\", category=RuntimeWarning)\n",
      "C:\\Users\\Brus\\Documents\\repos\\TemporalEdgeProp\\edge_prop\\models\\base_model.py:55: RuntimeWarning: edge ('593', '594') doesn't have a definitive max: [0.5 0.5]\n",
      "  warnings.warn(f\"edge {(u,v)} doesn't have a definitive max: {dist}\", category=RuntimeWarning)\n",
      "C:\\Users\\Brus\\Documents\\repos\\TemporalEdgeProp\\edge_prop\\models\\base_model.py:55: RuntimeWarning: edge ('5930', '6040') doesn't have a definitive max: [0.5 0.5]\n",
      "  warnings.warn(f\"edge {(u,v)} doesn't have a definitive max: {dist}\", category=RuntimeWarning)\n",
      "C:\\Users\\Brus\\Documents\\repos\\TemporalEdgeProp\\edge_prop\\models\\base_model.py:55: RuntimeWarning: edge ('5930', '6058') doesn't have a definitive max: [0.5 0.5]\n",
      "  warnings.warn(f\"edge {(u,v)} doesn't have a definitive max: {dist}\", category=RuntimeWarning)\n",
      "C:\\Users\\Brus\\Documents\\repos\\TemporalEdgeProp\\edge_prop\\models\\base_model.py:55: RuntimeWarning: edge ('5930', '6215') doesn't have a definitive max: [0.5 0.5]\n",
      "  warnings.warn(f\"edge {(u,v)} doesn't have a definitive max: {dist}\", category=RuntimeWarning)\n",
      "C:\\Users\\Brus\\Documents\\repos\\TemporalEdgeProp\\edge_prop\\models\\base_model.py:55: RuntimeWarning: edge ('5930', '6330') doesn't have a definitive max: [0.5 0.5]\n",
      "  warnings.warn(f\"edge {(u,v)} doesn't have a definitive max: {dist}\", category=RuntimeWarning)\n",
      "C:\\Users\\Brus\\Documents\\repos\\TemporalEdgeProp\\edge_prop\\models\\base_model.py:55: RuntimeWarning: edge ('5945', '5946') doesn't have a definitive max: [0.5 0.5]\n",
      "  warnings.warn(f\"edge {(u,v)} doesn't have a definitive max: {dist}\", category=RuntimeWarning)\n",
      "C:\\Users\\Brus\\Documents\\repos\\TemporalEdgeProp\\edge_prop\\models\\base_model.py:55: RuntimeWarning: edge ('5989', '7075') doesn't have a definitive max: [0.5 0.5]\n",
      "  warnings.warn(f\"edge {(u,v)} doesn't have a definitive max: {dist}\", category=RuntimeWarning)\n",
      "C:\\Users\\Brus\\Documents\\repos\\TemporalEdgeProp\\edge_prop\\models\\base_model.py:55: RuntimeWarning: edge ('6029', '6360') doesn't have a definitive max: [0.5 0.5]\n",
      "  warnings.warn(f\"edge {(u,v)} doesn't have a definitive max: {dist}\", category=RuntimeWarning)\n",
      "C:\\Users\\Brus\\Documents\\repos\\TemporalEdgeProp\\edge_prop\\models\\base_model.py:55: RuntimeWarning: edge ('6084', '6198') doesn't have a definitive max: [0.5 0.5]\n",
      "  warnings.warn(f\"edge {(u,v)} doesn't have a definitive max: {dist}\", category=RuntimeWarning)\n",
      "C:\\Users\\Brus\\Documents\\repos\\TemporalEdgeProp\\edge_prop\\models\\base_model.py:55: RuntimeWarning: edge ('6096', '6369') doesn't have a definitive max: [0.5 0.5]\n",
      "  warnings.warn(f\"edge {(u,v)} doesn't have a definitive max: {dist}\", category=RuntimeWarning)\n",
      "C:\\Users\\Brus\\Documents\\repos\\TemporalEdgeProp\\edge_prop\\models\\base_model.py:55: RuntimeWarning: edge ('6108', '6721') doesn't have a definitive max: [0.5 0.5]\n",
      "  warnings.warn(f\"edge {(u,v)} doesn't have a definitive max: {dist}\", category=RuntimeWarning)\n",
      "C:\\Users\\Brus\\Documents\\repos\\TemporalEdgeProp\\edge_prop\\models\\base_model.py:55: RuntimeWarning: edge ('6133', '6134') doesn't have a definitive max: [0. 0.]\n",
      "  warnings.warn(f\"edge {(u,v)} doesn't have a definitive max: {dist}\", category=RuntimeWarning)\n",
      "C:\\Users\\Brus\\Documents\\repos\\TemporalEdgeProp\\edge_prop\\models\\base_model.py:55: RuntimeWarning: edge ('6134', '6135') doesn't have a definitive max: [0. 0.]\n",
      "  warnings.warn(f\"edge {(u,v)} doesn't have a definitive max: {dist}\", category=RuntimeWarning)\n",
      "C:\\Users\\Brus\\Documents\\repos\\TemporalEdgeProp\\edge_prop\\models\\base_model.py:55: RuntimeWarning: edge ('6162', '6419') doesn't have a definitive max: [0.5 0.5]\n",
      "  warnings.warn(f\"edge {(u,v)} doesn't have a definitive max: {dist}\", category=RuntimeWarning)\n",
      "C:\\Users\\Brus\\Documents\\repos\\TemporalEdgeProp\\edge_prop\\models\\base_model.py:55: RuntimeWarning: edge ('6179', '6531') doesn't have a definitive max: [0.5 0.5]\n",
      "  warnings.warn(f\"edge {(u,v)} doesn't have a definitive max: {dist}\", category=RuntimeWarning)\n",
      "C:\\Users\\Brus\\Documents\\repos\\TemporalEdgeProp\\edge_prop\\models\\base_model.py:55: RuntimeWarning: edge ('6196', '6198') doesn't have a definitive max: [0.5 0.5]\n",
      "  warnings.warn(f\"edge {(u,v)} doesn't have a definitive max: {dist}\", category=RuntimeWarning)\n",
      "C:\\Users\\Brus\\Documents\\repos\\TemporalEdgeProp\\edge_prop\\models\\base_model.py:55: RuntimeWarning: edge ('6206', '6228') doesn't have a definitive max: [0.5 0.5]\n",
      "  warnings.warn(f\"edge {(u,v)} doesn't have a definitive max: {dist}\", category=RuntimeWarning)\n",
      "C:\\Users\\Brus\\Documents\\repos\\TemporalEdgeProp\\edge_prop\\models\\base_model.py:55: RuntimeWarning: edge ('6206', '6231') doesn't have a definitive max: [0.5 0.5]\n",
      "  warnings.warn(f\"edge {(u,v)} doesn't have a definitive max: {dist}\", category=RuntimeWarning)\n",
      "C:\\Users\\Brus\\Documents\\repos\\TemporalEdgeProp\\edge_prop\\models\\base_model.py:55: RuntimeWarning: edge ('6266', '6363') doesn't have a definitive max: [0.5 0.5]\n",
      "  warnings.warn(f\"edge {(u,v)} doesn't have a definitive max: {dist}\", category=RuntimeWarning)\n",
      "C:\\Users\\Brus\\Documents\\repos\\TemporalEdgeProp\\edge_prop\\models\\base_model.py:55: RuntimeWarning: edge ('6266', '6420') doesn't have a definitive max: [0.5 0.5]\n",
      "  warnings.warn(f\"edge {(u,v)} doesn't have a definitive max: {dist}\", category=RuntimeWarning)\n",
      "C:\\Users\\Brus\\Documents\\repos\\TemporalEdgeProp\\edge_prop\\models\\base_model.py:55: RuntimeWarning: edge ('6273', '6274') doesn't have a definitive max: [0. 0.]\n",
      "  warnings.warn(f\"edge {(u,v)} doesn't have a definitive max: {dist}\", category=RuntimeWarning)\n",
      "C:\\Users\\Brus\\Documents\\repos\\TemporalEdgeProp\\edge_prop\\models\\base_model.py:55: RuntimeWarning: edge ('6297', '6547') doesn't have a definitive max: [0.5 0.5]\n",
      "  warnings.warn(f\"edge {(u,v)} doesn't have a definitive max: {dist}\", category=RuntimeWarning)\n",
      "C:\\Users\\Brus\\Documents\\repos\\TemporalEdgeProp\\edge_prop\\models\\base_model.py:55: RuntimeWarning: edge ('6297', '6620') doesn't have a definitive max: [0.5 0.5]\n",
      "  warnings.warn(f\"edge {(u,v)} doesn't have a definitive max: {dist}\", category=RuntimeWarning)\n",
      "C:\\Users\\Brus\\Documents\\repos\\TemporalEdgeProp\\edge_prop\\models\\base_model.py:55: RuntimeWarning: edge ('634', '1116') doesn't have a definitive max: [0.5 0.5]\n",
      "  warnings.warn(f\"edge {(u,v)} doesn't have a definitive max: {dist}\", category=RuntimeWarning)\n",
      "C:\\Users\\Brus\\Documents\\repos\\TemporalEdgeProp\\edge_prop\\models\\base_model.py:55: RuntimeWarning: edge ('634', '1438') doesn't have a definitive max: [0.5 0.5]\n",
      "  warnings.warn(f\"edge {(u,v)} doesn't have a definitive max: {dist}\", category=RuntimeWarning)\n",
      "C:\\Users\\Brus\\Documents\\repos\\TemporalEdgeProp\\edge_prop\\models\\base_model.py:55: RuntimeWarning: edge ('637', '648') doesn't have a definitive max: [0.5 0.5]\n",
      "  warnings.warn(f\"edge {(u,v)} doesn't have a definitive max: {dist}\", category=RuntimeWarning)\n",
      "C:\\Users\\Brus\\Documents\\repos\\TemporalEdgeProp\\edge_prop\\models\\base_model.py:55: RuntimeWarning: edge ('6477', '6478') doesn't have a definitive max: [0. 0.]\n",
      "  warnings.warn(f\"edge {(u,v)} doesn't have a definitive max: {dist}\", category=RuntimeWarning)\n",
      "C:\\Users\\Brus\\Documents\\repos\\TemporalEdgeProp\\edge_prop\\models\\base_model.py:55: RuntimeWarning: edge ('6478', '6479') doesn't have a definitive max: [0. 0.]\n",
      "  warnings.warn(f\"edge {(u,v)} doesn't have a definitive max: {dist}\", category=RuntimeWarning)\n",
      "C:\\Users\\Brus\\Documents\\repos\\TemporalEdgeProp\\edge_prop\\models\\base_model.py:55: RuntimeWarning: edge ('6500', '6609') doesn't have a definitive max: [0.5 0.5]\n",
      "  warnings.warn(f\"edge {(u,v)} doesn't have a definitive max: {dist}\", category=RuntimeWarning)\n",
      "C:\\Users\\Brus\\Documents\\repos\\TemporalEdgeProp\\edge_prop\\models\\base_model.py:55: RuntimeWarning: edge ('6521', '6596') doesn't have a definitive max: [0.5 0.5]\n",
      "  warnings.warn(f\"edge {(u,v)} doesn't have a definitive max: {dist}\", category=RuntimeWarning)\n",
      "C:\\Users\\Brus\\Documents\\repos\\TemporalEdgeProp\\edge_prop\\models\\base_model.py:55: RuntimeWarning: edge ('654', '4730') doesn't have a definitive max: [0.5 0.5]\n",
      "  warnings.warn(f\"edge {(u,v)} doesn't have a definitive max: {dist}\", category=RuntimeWarning)\n",
      "C:\\Users\\Brus\\Documents\\repos\\TemporalEdgeProp\\edge_prop\\models\\base_model.py:55: RuntimeWarning: edge ('6558', '6710') doesn't have a definitive max: [0.5 0.5]\n",
      "  warnings.warn(f\"edge {(u,v)} doesn't have a definitive max: {dist}\", category=RuntimeWarning)\n",
      "C:\\Users\\Brus\\Documents\\repos\\TemporalEdgeProp\\edge_prop\\models\\base_model.py:55: RuntimeWarning: edge ('6558', '6811') doesn't have a definitive max: [0.5 0.5]\n",
      "  warnings.warn(f\"edge {(u,v)} doesn't have a definitive max: {dist}\", category=RuntimeWarning)\n",
      "C:\\Users\\Brus\\Documents\\repos\\TemporalEdgeProp\\edge_prop\\models\\base_model.py:55: RuntimeWarning: edge ('6588', '6618') doesn't have a definitive max: [0.5 0.5]\n",
      "  warnings.warn(f\"edge {(u,v)} doesn't have a definitive max: {dist}\", category=RuntimeWarning)\n",
      "C:\\Users\\Brus\\Documents\\repos\\TemporalEdgeProp\\edge_prop\\models\\base_model.py:55: RuntimeWarning: edge ('6588', '6741') doesn't have a definitive max: [0.5 0.5]\n",
      "  warnings.warn(f\"edge {(u,v)} doesn't have a definitive max: {dist}\", category=RuntimeWarning)\n",
      "C:\\Users\\Brus\\Documents\\repos\\TemporalEdgeProp\\edge_prop\\models\\base_model.py:55: RuntimeWarning: edge ('6588', '6856') doesn't have a definitive max: [0.5 0.5]\n",
      "  warnings.warn(f\"edge {(u,v)} doesn't have a definitive max: {dist}\", category=RuntimeWarning)\n",
      "C:\\Users\\Brus\\Documents\\repos\\TemporalEdgeProp\\edge_prop\\models\\base_model.py:55: RuntimeWarning: edge ('6637', '7080') doesn't have a definitive max: [0.5 0.5]\n",
      "  warnings.warn(f\"edge {(u,v)} doesn't have a definitive max: {dist}\", category=RuntimeWarning)\n",
      "C:\\Users\\Brus\\Documents\\repos\\TemporalEdgeProp\\edge_prop\\models\\base_model.py:55: RuntimeWarning: edge ('6673', '6675') doesn't have a definitive max: [0.5 0.5]\n",
      "  warnings.warn(f\"edge {(u,v)} doesn't have a definitive max: {dist}\", category=RuntimeWarning)\n",
      "C:\\Users\\Brus\\Documents\\repos\\TemporalEdgeProp\\edge_prop\\models\\base_model.py:55: RuntimeWarning: edge ('6675', '6721') doesn't have a definitive max: [0.5 0.5]\n",
      "  warnings.warn(f\"edge {(u,v)} doesn't have a definitive max: {dist}\", category=RuntimeWarning)\n",
      "C:\\Users\\Brus\\Documents\\repos\\TemporalEdgeProp\\edge_prop\\models\\base_model.py:55: RuntimeWarning: edge ('6721', '6923') doesn't have a definitive max: [0.5 0.5]\n",
      "  warnings.warn(f\"edge {(u,v)} doesn't have a definitive max: {dist}\", category=RuntimeWarning)\n",
      "C:\\Users\\Brus\\Documents\\repos\\TemporalEdgeProp\\edge_prop\\models\\base_model.py:55: RuntimeWarning: edge ('6721', '6982') doesn't have a definitive max: [0.5 0.5]\n",
      "  warnings.warn(f\"edge {(u,v)} doesn't have a definitive max: {dist}\", category=RuntimeWarning)\n",
      "C:\\Users\\Brus\\Documents\\repos\\TemporalEdgeProp\\edge_prop\\models\\base_model.py:55: RuntimeWarning: edge ('6741', '6742') doesn't have a definitive max: [0.5 0.5]\n",
      "  warnings.warn(f\"edge {(u,v)} doesn't have a definitive max: {dist}\", category=RuntimeWarning)\n",
      "C:\\Users\\Brus\\Documents\\repos\\TemporalEdgeProp\\edge_prop\\models\\base_model.py:55: RuntimeWarning: edge ('6742', '6856') doesn't have a definitive max: [0.5 0.5]\n",
      "  warnings.warn(f\"edge {(u,v)} doesn't have a definitive max: {dist}\", category=RuntimeWarning)\n",
      "C:\\Users\\Brus\\Documents\\repos\\TemporalEdgeProp\\edge_prop\\models\\base_model.py:55: RuntimeWarning: edge ('6742', '6896') doesn't have a definitive max: [0.5 0.5]\n",
      "  warnings.warn(f\"edge {(u,v)} doesn't have a definitive max: {dist}\", category=RuntimeWarning)\n",
      "C:\\Users\\Brus\\Documents\\repos\\TemporalEdgeProp\\edge_prop\\models\\base_model.py:55: RuntimeWarning: edge ('6742', '6908') doesn't have a definitive max: [0.5 0.5]\n",
      "  warnings.warn(f\"edge {(u,v)} doesn't have a definitive max: {dist}\", category=RuntimeWarning)\n",
      "C:\\Users\\Brus\\Documents\\repos\\TemporalEdgeProp\\edge_prop\\models\\base_model.py:55: RuntimeWarning: edge ('6742', '6909') doesn't have a definitive max: [0.5 0.5]\n",
      "  warnings.warn(f\"edge {(u,v)} doesn't have a definitive max: {dist}\", category=RuntimeWarning)\n",
      "C:\\Users\\Brus\\Documents\\repos\\TemporalEdgeProp\\edge_prop\\models\\base_model.py:55: RuntimeWarning: edge ('6753', '7109') doesn't have a definitive max: [0.5 0.5]\n",
      "  warnings.warn(f\"edge {(u,v)} doesn't have a definitive max: {dist}\", category=RuntimeWarning)\n",
      "C:\\Users\\Brus\\Documents\\repos\\TemporalEdgeProp\\edge_prop\\models\\base_model.py:55: RuntimeWarning: edge ('6778', '6879') doesn't have a definitive max: [0.5 0.5]\n",
      "  warnings.warn(f\"edge {(u,v)} doesn't have a definitive max: {dist}\", category=RuntimeWarning)\n",
      "C:\\Users\\Brus\\Documents\\repos\\TemporalEdgeProp\\edge_prop\\models\\base_model.py:55: RuntimeWarning: edge ('6781', '7113') doesn't have a definitive max: [0.5 0.5]\n",
      "  warnings.warn(f\"edge {(u,v)} doesn't have a definitive max: {dist}\", category=RuntimeWarning)\n",
      "C:\\Users\\Brus\\Documents\\repos\\TemporalEdgeProp\\edge_prop\\models\\base_model.py:55: RuntimeWarning: edge ('6810', '6817') doesn't have a definitive max: [0.5 0.5]\n",
      "  warnings.warn(f\"edge {(u,v)} doesn't have a definitive max: {dist}\", category=RuntimeWarning)\n",
      "C:\\Users\\Brus\\Documents\\repos\\TemporalEdgeProp\\edge_prop\\models\\base_model.py:55: RuntimeWarning: edge ('6813', '6997') doesn't have a definitive max: [0.5 0.5]\n",
      "  warnings.warn(f\"edge {(u,v)} doesn't have a definitive max: {dist}\", category=RuntimeWarning)\n",
      "C:\\Users\\Brus\\Documents\\repos\\TemporalEdgeProp\\edge_prop\\models\\base_model.py:55: RuntimeWarning: edge ('6813', '7011') doesn't have a definitive max: [0.5 0.5]\n",
      "  warnings.warn(f\"edge {(u,v)} doesn't have a definitive max: {dist}\", category=RuntimeWarning)\n",
      "C:\\Users\\Brus\\Documents\\repos\\TemporalEdgeProp\\edge_prop\\models\\base_model.py:55: RuntimeWarning: edge ('6817', '7064') doesn't have a definitive max: [0.5 0.5]\n",
      "  warnings.warn(f\"edge {(u,v)} doesn't have a definitive max: {dist}\", category=RuntimeWarning)\n",
      "C:\\Users\\Brus\\Documents\\repos\\TemporalEdgeProp\\edge_prop\\models\\base_model.py:55: RuntimeWarning: edge ('6866', '6908') doesn't have a definitive max: [0.5 0.5]\n",
      "  warnings.warn(f\"edge {(u,v)} doesn't have a definitive max: {dist}\", category=RuntimeWarning)\n",
      "C:\\Users\\Brus\\Documents\\repos\\TemporalEdgeProp\\edge_prop\\models\\base_model.py:55: RuntimeWarning: edge ('6872', '6873') doesn't have a definitive max: [0. 0.]\n",
      "  warnings.warn(f\"edge {(u,v)} doesn't have a definitive max: {dist}\", category=RuntimeWarning)\n",
      "C:\\Users\\Brus\\Documents\\repos\\TemporalEdgeProp\\edge_prop\\models\\base_model.py:55: RuntimeWarning: edge ('6880', '6881') doesn't have a definitive max: [0. 0.]\n",
      "  warnings.warn(f\"edge {(u,v)} doesn't have a definitive max: {dist}\", category=RuntimeWarning)\n",
      "C:\\Users\\Brus\\Documents\\repos\\TemporalEdgeProp\\edge_prop\\models\\base_model.py:55: RuntimeWarning: edge ('6903', '6904') doesn't have a definitive max: [0. 0.]\n",
      "  warnings.warn(f\"edge {(u,v)} doesn't have a definitive max: {dist}\", category=RuntimeWarning)\n",
      "C:\\Users\\Brus\\Documents\\repos\\TemporalEdgeProp\\edge_prop\\models\\base_model.py:55: RuntimeWarning: edge ('6923', '7090') doesn't have a definitive max: [0.5 0.5]\n",
      "  warnings.warn(f\"edge {(u,v)} doesn't have a definitive max: {dist}\", category=RuntimeWarning)\n",
      "C:\\Users\\Brus\\Documents\\repos\\TemporalEdgeProp\\edge_prop\\models\\base_model.py:55: RuntimeWarning: edge ('6925', '7080') doesn't have a definitive max: [0.5 0.5]\n",
      "  warnings.warn(f\"edge {(u,v)} doesn't have a definitive max: {dist}\", category=RuntimeWarning)\n",
      "C:\\Users\\Brus\\Documents\\repos\\TemporalEdgeProp\\edge_prop\\models\\base_model.py:55: RuntimeWarning: edge ('6948', '6949') doesn't have a definitive max: [0. 0.]\n",
      "  warnings.warn(f\"edge {(u,v)} doesn't have a definitive max: {dist}\", category=RuntimeWarning)\n",
      "C:\\Users\\Brus\\Documents\\repos\\TemporalEdgeProp\\edge_prop\\models\\base_model.py:55: RuntimeWarning: edge ('6949', '6950') doesn't have a definitive max: [0. 0.]\n",
      "  warnings.warn(f\"edge {(u,v)} doesn't have a definitive max: {dist}\", category=RuntimeWarning)\n",
      "C:\\Users\\Brus\\Documents\\repos\\TemporalEdgeProp\\edge_prop\\models\\base_model.py:55: RuntimeWarning: edge ('6967', '7116') doesn't have a definitive max: [0.5 0.5]\n",
      "  warnings.warn(f\"edge {(u,v)} doesn't have a definitive max: {dist}\", category=RuntimeWarning)\n",
      "C:\\Users\\Brus\\Documents\\repos\\TemporalEdgeProp\\edge_prop\\models\\base_model.py:55: RuntimeWarning: edge ('7011', '7012') doesn't have a definitive max: [0.5 0.5]\n",
      "  warnings.warn(f\"edge {(u,v)} doesn't have a definitive max: {dist}\", category=RuntimeWarning)\n",
      "C:\\Users\\Brus\\Documents\\repos\\TemporalEdgeProp\\edge_prop\\models\\base_model.py:55: RuntimeWarning: edge ('7047', '7116') doesn't have a definitive max: [0.5 0.5]\n",
      "  warnings.warn(f\"edge {(u,v)} doesn't have a definitive max: {dist}\", category=RuntimeWarning)\n",
      "C:\\Users\\Brus\\Documents\\repos\\TemporalEdgeProp\\edge_prop\\models\\base_model.py:55: RuntimeWarning: edge ('7087', '7118') doesn't have a definitive max: [0.5 0.5]\n",
      "  warnings.warn(f\"edge {(u,v)} doesn't have a definitive max: {dist}\", category=RuntimeWarning)\n",
      "C:\\Users\\Brus\\Documents\\repos\\TemporalEdgeProp\\edge_prop\\models\\base_model.py:55: RuntimeWarning: edge ('7114', '7116') doesn't have a definitive max: [0.5 0.5]\n",
      "  warnings.warn(f\"edge {(u,v)} doesn't have a definitive max: {dist}\", category=RuntimeWarning)\n",
      "C:\\Users\\Brus\\Documents\\repos\\TemporalEdgeProp\\edge_prop\\models\\base_model.py:55: RuntimeWarning: edge ('74', '464') doesn't have a definitive max: [0.5 0.5]\n",
      "  warnings.warn(f\"edge {(u,v)} doesn't have a definitive max: {dist}\", category=RuntimeWarning)\n",
      "C:\\Users\\Brus\\Documents\\repos\\TemporalEdgeProp\\edge_prop\\models\\base_model.py:55: RuntimeWarning: edge ('781', '2654') doesn't have a definitive max: [0.5 0.5]\n",
      "  warnings.warn(f\"edge {(u,v)} doesn't have a definitive max: {dist}\", category=RuntimeWarning)\n",
      "C:\\Users\\Brus\\Documents\\repos\\TemporalEdgeProp\\edge_prop\\models\\base_model.py:55: RuntimeWarning: edge ('792', '1088') doesn't have a definitive max: [0.5 0.5]\n",
      "  warnings.warn(f\"edge {(u,v)} doesn't have a definitive max: {dist}\", category=RuntimeWarning)\n",
      "C:\\Users\\Brus\\Documents\\repos\\TemporalEdgeProp\\edge_prop\\models\\base_model.py:55: RuntimeWarning: edge ('82', '436') doesn't have a definitive max: [0.5 0.5]\n",
      "  warnings.warn(f\"edge {(u,v)} doesn't have a definitive max: {dist}\", category=RuntimeWarning)\n",
      "C:\\Users\\Brus\\Documents\\repos\\TemporalEdgeProp\\edge_prop\\models\\base_model.py:55: RuntimeWarning: edge ('844', '931') doesn't have a definitive max: [0.5 0.5]\n",
      "  warnings.warn(f\"edge {(u,v)} doesn't have a definitive max: {dist}\", category=RuntimeWarning)\n",
      "C:\\Users\\Brus\\Documents\\repos\\TemporalEdgeProp\\edge_prop\\models\\base_model.py:55: RuntimeWarning: edge ('867', '5092') doesn't have a definitive max: [0.5 0.5]\n",
      "  warnings.warn(f\"edge {(u,v)} doesn't have a definitive max: {dist}\", category=RuntimeWarning)\n",
      "C:\\Users\\Brus\\Documents\\repos\\TemporalEdgeProp\\edge_prop\\models\\base_model.py:55: RuntimeWarning: edge ('886', '1881') doesn't have a definitive max: [0.5 0.5]\n",
      "  warnings.warn(f\"edge {(u,v)} doesn't have a definitive max: {dist}\", category=RuntimeWarning)\n",
      "C:\\Users\\Brus\\Documents\\repos\\TemporalEdgeProp\\edge_prop\\models\\base_model.py:55: RuntimeWarning: edge ('915', '1438') doesn't have a definitive max: [0.5 0.5]\n",
      "  warnings.warn(f\"edge {(u,v)} doesn't have a definitive max: {dist}\", category=RuntimeWarning)\n",
      "C:\\Users\\Brus\\Documents\\repos\\TemporalEdgeProp\\edge_prop\\models\\base_model.py:55: RuntimeWarning: edge ('924', '5843') doesn't have a definitive max: [0.5 0.5]\n",
      "  warnings.warn(f\"edge {(u,v)} doesn't have a definitive max: {dist}\", category=RuntimeWarning)\n",
      "C:\\Users\\Brus\\Documents\\repos\\TemporalEdgeProp\\edge_prop\\models\\base_model.py:55: RuntimeWarning: edge ('926', '2055') doesn't have a definitive max: [0.5 0.5]\n",
      "  warnings.warn(f\"edge {(u,v)} doesn't have a definitive max: {dist}\", category=RuntimeWarning)\n",
      "C:\\Users\\Brus\\Documents\\repos\\TemporalEdgeProp\\edge_prop\\models\\base_model.py:55: RuntimeWarning: edge ('93', '1127') doesn't have a definitive max: [0.5 0.5]\n",
      "  warnings.warn(f\"edge {(u,v)} doesn't have a definitive max: {dist}\", category=RuntimeWarning)\n",
      "C:\\Users\\Brus\\Documents\\repos\\TemporalEdgeProp\\edge_prop\\models\\base_model.py:55: RuntimeWarning: edge ('931', '4976') doesn't have a definitive max: [0.5 0.5]\n",
      "  warnings.warn(f\"edge {(u,v)} doesn't have a definitive max: {dist}\", category=RuntimeWarning)\n",
      "C:\\Users\\Brus\\Documents\\repos\\TemporalEdgeProp\\edge_prop\\models\\base_model.py:55: RuntimeWarning: edge ('973', '1156') doesn't have a definitive max: [0.5 0.5]\n",
      "  warnings.warn(f\"edge {(u,v)} doesn't have a definitive max: {dist}\", category=RuntimeWarning)\n"
     ]
    },
    {
     "name": "stdout",
     "output_type": "stream",
     "text": [
      "alpha=0, test_size=0.25, \t Baseline: 0.783\t New Model:0.783\n",
      "alpha=0, test_size=0.5, \t Baseline: 0.781\t New Model:0.781\n",
      "alpha=0, test_size=0.75, \t Baseline: 0.779\t New Model:0.779\n",
      "alpha=0.5, test_size=0.25, \t Baseline: 0.686\t New Model:0.685\n",
      "alpha=0.5, test_size=0.5, \t Baseline: 0.716\t New Model:0.713\n",
      "alpha=0.5, test_size=0.75, \t Baseline: 0.748\t New Model:0.744\n",
      "alpha=0.8, test_size=0.25, \t Baseline: 0.684\t New Model:0.678\n",
      "alpha=0.8, test_size=0.5, \t Baseline: 0.718\t New Model:0.705\n",
      "alpha=0.8, test_size=0.75, \t Baseline: 0.751\t New Model:0.731\n",
      "alpha=1, test_size=0.25, \t Baseline: 0.689\t New Model:0.678\n",
      "alpha=1, test_size=0.5, \t Baseline: 0.721\t New Model:0.699\n",
      "alpha=1, test_size=0.75, \t Baseline: 0.749\t New Model:0.713\n"
     ]
    }
   ],
   "source": [
    "alphas = [0, 0.5, 0.8, 1]\n",
    "test_sizes = [0.25, 0.5, 0.75]\n",
    "\n",
    "path = DATASET2PATH['wiki']\n",
    "dtype_tuples = [('label', int), ('time', str)]\n",
    "results = {}\n",
    "\n",
    "for alpha, test_size in product(alphas, test_sizes):\n",
    "    # create dataset\n",
    "    graph, y_true, test_indices = DataLoader(path, dtype_tuples=dtype_tuples, test_size=test_size).load_data()\n",
    "    y_test = y_true[test_indices]\n",
    "    \n",
    "    edge_prop = DenseEdgeProp(graph.y_attr, max_iter=50, alpha=alpha)\n",
    "    edge_prop.fit(graph)\n",
    "    y_pred = edge_prop.predict()[test_indices]\n",
    "    our_accuracy = accuracy_score(y_test, y_pred)\n",
    "    \n",
    "    baseline = DenseBasline(graph.y_attr, max_iter=50, alpha=alpha)\n",
    "    baseline.fit(graph)\n",
    "    y_pred = baseline.predict()[test_indices]\n",
    "    baseline_accuracy = accuracy_score(y_test, y_pred)\n",
    "    results[(alpha, test_size)] = (our_accuracy, baseline_accuracy)\n",
    "    \n",
    "for (alpha, test_size), (new_acc, baseline_acc) in results.items():\n",
    "    print(f\"alpha={alpha}, test_size={test_size}, \\t Baseline: {round(baseline_acc,3)}\\t New Model:{round(new_acc,3)}\")"
   ]
  },
  {
   "cell_type": "code",
   "execution_count": 28,
   "metadata": {
    "ExecuteTime": {
     "end_time": "2020-03-19T11:29:17.716082Z",
     "start_time": "2020-03-19T11:29:17.676073Z"
    }
   },
   "outputs": [
    {
     "name": "stdout",
     "output_type": "stream",
     "text": [
      "alpha=0, test_size=0.25, \t Baseline: 0.783\t New Model:0.783\n",
      "alpha=0, test_size=0.5, \t Baseline: 0.781\t New Model:0.781\n",
      "alpha=0, test_size=0.75, \t Baseline: 0.779\t New Model:0.779\n",
      "alpha=0.5, test_size=0.25, \t Baseline: 0.685\t New Model:0.686\n",
      "alpha=0.5, test_size=0.5, \t Baseline: 0.713\t New Model:0.716\n",
      "alpha=0.5, test_size=0.75, \t Baseline: 0.744\t New Model:0.748\n",
      "alpha=0.8, test_size=0.25, \t Baseline: 0.678\t New Model:0.684\n",
      "alpha=0.8, test_size=0.5, \t Baseline: 0.705\t New Model:0.718\n",
      "alpha=0.8, test_size=0.75, \t Baseline: 0.731\t New Model:0.751\n",
      "alpha=1, test_size=0.25, \t Baseline: 0.678\t New Model:0.689\n",
      "alpha=1, test_size=0.5, \t Baseline: 0.699\t New Model:0.721\n",
      "alpha=1, test_size=0.75, \t Baseline: 0.713\t New Model:0.749\n"
     ]
    }
   ],
   "source": [
    "for (alpha, test_size), (new_acc, baseline_acc) in results.items():\n",
    "    print(f\"alpha={alpha}, test_size={test_size}, \\t Baseline: {round(baseline_acc,3)}\\t New Model:{round(new_acc,3)}\")"
   ]
  },
  {
   "cell_type": "code",
   "execution_count": 29,
   "metadata": {
    "ExecuteTime": {
     "end_time": "2020-03-19T11:51:23.947852Z",
     "start_time": "2020-03-19T11:47:46.134482Z"
    }
   },
   "outputs": [
    {
     "data": {
      "application/vnd.jupyter.widget-view+json": {
       "model_id": "386cc2302280427dbd239644624a66f3",
       "version_major": 2,
       "version_minor": 0
      },
      "text/plain": [
       "HBox(children=(FloatProgress(value=0.0, description='Fitting model', max=50.0, style=ProgressStyle(description…"
      ]
     },
     "metadata": {},
     "output_type": "display_data"
    },
    {
     "name": "stdout",
     "output_type": "stream",
     "text": [
      "\n"
     ]
    },
    {
     "name": "stderr",
     "output_type": "stream",
     "text": [
      "Fitting model: 100%|██████████████████████████████████████████████████████████████████████████████████████████████████████████████████████| 50/50 [00:00<00:00, 533.41iter/s, dif=0.031]\n"
     ]
    },
    {
     "data": {
      "text/plain": [
       "<edge_prop.models.dense_baseline.DenseBasline at 0x1ea80185c48>"
      ]
     },
     "execution_count": 29,
     "metadata": {},
     "output_type": "execute_result"
    }
   ],
   "source": [
    "edge_prop = DenseEdgeProp(graph.y_attr, max_iter=50, alpha=0)\n",
    "edge_prop.fit(graph)\n",
    "\n",
    "baseline = DenseBasline(graph.y_attr, max_iter=50, alpha=0)\n",
    "baseline.fit(graph)"
   ]
  },
  {
   "cell_type": "code",
   "execution_count": null,
   "metadata": {},
   "outputs": [],
   "source": [
    "edge_prop.predict_proba() - baseline.predict_proba()"
   ]
  }
 ],
 "metadata": {
  "kernelspec": {
   "display_name": "Python 3",
   "language": "python",
   "name": "python3"
  },
  "language_info": {
   "codemirror_mode": {
    "name": "ipython",
    "version": 3
   },
   "file_extension": ".py",
   "mimetype": "text/x-python",
   "name": "python",
   "nbconvert_exporter": "python",
   "pygments_lexer": "ipython3",
   "version": "3.7.6"
  }
 },
 "nbformat": 4,
 "nbformat_minor": 2
}
