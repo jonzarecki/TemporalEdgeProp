{
 "cells": [
  {
   "cell_type": "code",
   "execution_count": 1,
   "metadata": {
    "ExecuteTime": {
     "end_time": "2020-03-18T12:19:29.400818Z",
     "start_time": "2020-03-18T12:19:29.153764Z"
    }
   },
   "outputs": [],
   "source": [
    "%load_ext autoreload\n",
    "%autoreload 2\n",
    "\n",
    "import os,sys,inspect\n",
    "current_dir = os.path.dirname(os.path.abspath(inspect.getfile(inspect.currentframe())))\n",
    "parent_dir = os.path.dirname(current_dir)\n",
    "sys.path.insert(0, os.path.join(parent_dir)) \n",
    "\n",
    "%matplotlib inline"
   ]
  },
  {
   "cell_type": "code",
   "execution_count": 8,
   "metadata": {
    "ExecuteTime": {
     "end_time": "2020-03-18T12:20:36.315747Z",
     "start_time": "2020-03-18T12:20:36.273739Z"
    }
   },
   "outputs": [],
   "source": [
    "import networkx as nx\n",
    "import numpy as np\n",
    "from edge_prop.data_loader import DataLoader\n",
    "from edge_prop.models.dense_edge_propagation import DenseEdgeProp\n",
    "from edge_prop.models.dense_baseline import DenseBasline\n",
    "from sklearn.metrics import accuracy_score"
   ]
  },
  {
   "cell_type": "code",
   "execution_count": 6,
   "metadata": {
    "ExecuteTime": {
     "end_time": "2020-03-18T10:07:14.896843Z",
     "start_time": "2020-03-18T10:07:14.833829Z"
    }
   },
   "outputs": [],
   "source": [
    "g = nx.barabasi_albert_graph(100, 30)\n",
    "\n",
    "NUM_CLASSES = 2\n",
    "def int2onehot(i, max_int=NUM_CLASSES):\n",
    "    x = [0] * max_int\n",
    "    x[i] = 1\n",
    "    return x\n",
    "\n",
    "edge2label = {edge:int2onehot(np.random.randint(NUM_CLASSES)) for edge in g.edges()}\n",
    "nx.set_edge_attributes(g,edge2label,'label')"
   ]
  },
  {
   "cell_type": "code",
   "execution_count": 7,
   "metadata": {
    "ExecuteTime": {
     "end_time": "2020-03-18T10:07:15.180907Z",
     "start_time": "2020-03-18T10:07:15.136897Z"
    }
   },
   "outputs": [],
   "source": [
    "A=nx.adj_matrix(g).toarray()"
   ]
  },
  {
   "cell_type": "code",
   "execution_count": 8,
   "metadata": {
    "ExecuteTime": {
     "end_time": "2020-03-18T10:07:15.751036Z",
     "start_time": "2020-03-18T10:07:15.706025Z"
    }
   },
   "outputs": [],
   "source": [
    "Y = np.zeros(shape=(A.shape[0], A.shape[1], NUM_CLASSES))\n",
    "for (u,v), label in edge2label.items():\n",
    "    Y[u,v] = label\n",
    "    Y[v,u] = label"
   ]
  },
  {
   "cell_type": "code",
   "execution_count": 203,
   "metadata": {},
   "outputs": [],
   "source": [
    "def our_method(A, Y):\n",
    "    last_Y = Y.copy()\n",
    "    for i in range(100):\n",
    "        B = np.sum(np.dot(A, last_Y),axis=0)\n",
    "        D = np.sum(A,axis=0)\n",
    "\n",
    "        mat = (B[:,np.newaxis,:]+B[np.newaxis,:,:]) / (D[:,np.newaxis] + D[np.newaxis,:])[:,:,np.newaxis]\n",
    "\n",
    "        mat[A==0] = 0\n",
    "        mat[A!=0] = mat[A!=0]/np.sum(mat[A!=0],axis=-1)[:,np.newaxis]\n",
    "        mat[mat!=mat] = 0\n",
    "\n",
    "        last_Y = mat\n",
    "    return last_Y"
   ]
  },
  {
   "cell_type": "code",
   "execution_count": 208,
   "metadata": {},
   "outputs": [],
   "source": [
    "def their_method(A, Y):\n",
    "    last_Y = np.sum(np.dot(A, Y),axis=0)\n",
    "    last_Y = last_Y/np.sum(last_Y,axis=-1)[:,np.newaxis]\n",
    "    last_Y[last_Y!=last_Y] = 0\n",
    "    \n",
    "    for i in range(100):\n",
    "        B = np.dot(A, last_Y)\n",
    "        D = np.sum(A,axis=0)\n",
    "        last_Y = B/D[:,np.newaxis]\n",
    "    \n",
    "#     last_Y=last_Y[:,np.newaxis,:]*last_Y[np.newaxis,:,:]\n",
    "    last_Y=last_Y[:,np.newaxis,:]+last_Y[np.newaxis,:,:]\n",
    "    last_Y[A==0] = 0\n",
    "    last_Y[A!=0] = last_Y[A!=0]/np.sum(last_Y[A!=0],axis=-1)[:,np.newaxis]\n",
    "    last_Y[last_Y!=last_Y] = 0\n",
    "    \n",
    "    return last_Y"
   ]
  },
  {
   "cell_type": "code",
   "execution_count": 205,
   "metadata": {},
   "outputs": [
    {
     "data": {
      "text/plain": [
       "False"
      ]
     },
     "execution_count": 205,
     "metadata": {},
     "output_type": "execute_result"
    }
   ],
   "source": [
    "np.allclose(their_method(A, Y),our_method(A, Y))"
   ]
  },
  {
   "cell_type": "code",
   "execution_count": 209,
   "metadata": {},
   "outputs": [
    {
     "data": {
      "text/plain": [
       "array([[0.        , 0.        , 0.        , ..., 0.50206147, 0.        ,\n",
       "        0.        ],\n",
       "       [0.        , 0.        , 0.        , ..., 0.50206147, 0.        ,\n",
       "        0.        ],\n",
       "       [0.        , 0.        , 0.        , ..., 0.        , 0.        ,\n",
       "        0.        ],\n",
       "       ...,\n",
       "       [0.50206147, 0.50206147, 0.        , ..., 0.        , 0.        ,\n",
       "        0.50206147],\n",
       "       [0.        , 0.        , 0.        , ..., 0.        , 0.        ,\n",
       "        0.        ],\n",
       "       [0.        , 0.        , 0.        , ..., 0.50206147, 0.        ,\n",
       "        0.        ]])"
      ]
     },
     "execution_count": 209,
     "metadata": {},
     "output_type": "execute_result"
    }
   ],
   "source": [
    "their_method(A, Y)[:,:,0]"
   ]
  },
  {
   "cell_type": "code",
   "execution_count": 210,
   "metadata": {},
   "outputs": [
    {
     "data": {
      "text/plain": [
       "array([[0.        , 0.        , 0.        , ..., 0.49784624, 0.        ,\n",
       "        0.        ],\n",
       "       [0.        , 0.        , 0.        , ..., 0.49784624, 0.        ,\n",
       "        0.        ],\n",
       "       [0.        , 0.        , 0.        , ..., 0.        , 0.        ,\n",
       "        0.        ],\n",
       "       ...,\n",
       "       [0.49784624, 0.49784624, 0.        , ..., 0.        , 0.        ,\n",
       "        0.49784624],\n",
       "       [0.        , 0.        , 0.        , ..., 0.        , 0.        ,\n",
       "        0.        ],\n",
       "       [0.        , 0.        , 0.        , ..., 0.49784624, 0.        ,\n",
       "        0.        ]])"
      ]
     },
     "execution_count": 210,
     "metadata": {},
     "output_type": "execute_result"
    }
   ],
   "source": [
    "our_method(A, Y)[:,:,0]"
   ]
  },
  {
   "cell_type": "markdown",
   "metadata": {},
   "source": [
    "### Experiment on real world data"
   ]
  },
  {
   "cell_type": "code",
   "execution_count": 19,
   "metadata": {
    "ExecuteTime": {
     "end_time": "2020-03-18T12:24:06.478758Z",
     "start_time": "2020-03-18T12:24:04.122207Z"
    }
   },
   "outputs": [],
   "source": [
    "path = r'C:\\Users\\Brus\\Documents\\repos\\TemporalEdgeProp\\data\\soc-sign-Slashdot090221.txt'\n",
    "graph, y_true, test_indices = DataLoader(path).load_data(1000)\n",
    "y_test = y_true[test_indices]"
   ]
  },
  {
   "cell_type": "code",
   "execution_count": 25,
   "metadata": {
    "ExecuteTime": {
     "end_time": "2020-03-18T12:31:38.111922Z",
     "start_time": "2020-03-18T12:30:38.053890Z"
    }
   },
   "outputs": [
    {
     "data": {
      "application/vnd.jupyter.widget-view+json": {
       "model_id": "a3c23bf274e849b9a44c9b188bcc6b4c",
       "version_major": 2,
       "version_minor": 0
      },
      "text/plain": [
       "HBox(children=(FloatProgress(value=0.0, description='Fitting model', max=50.0, style=ProgressStyle(description…"
      ]
     },
     "metadata": {},
     "output_type": "display_data"
    },
    {
     "name": "stderr",
     "output_type": "stream",
     "text": [
      "C:\\Users\\Brus\\Documents\\repos\\TemporalEdgeProp\\edge_prop\\models\\dense_edge_propagation.py:56: RuntimeWarning: divide by zero encountered in true_divide\n",
      "  mat = (B[:, np.newaxis, :] + B[np.newaxis, :, :]) / (D[:, np.newaxis] + D[np.newaxis, :])[:, :, np.newaxis]\n",
      "C:\\Users\\Brus\\Documents\\repos\\TemporalEdgeProp\\edge_prop\\models\\dense_edge_propagation.py:56: RuntimeWarning: invalid value encountered in true_divide\n",
      "  mat = (B[:, np.newaxis, :] + B[np.newaxis, :, :]) / (D[:, np.newaxis] + D[np.newaxis, :])[:, :, np.newaxis]\n",
      "C:\\Users\\Brus\\Documents\\repos\\TemporalEdgeProp\\edge_prop\\models\\dense_edge_propagation.py:59: RuntimeWarning: invalid value encountered in true_divide\n",
      "  mat[adj_mat != 0] = mat[adj_mat != 0] / np.sum(mat[adj_mat != 0], axis=-1, keepdims=True)\n"
     ]
    },
    {
     "name": "stdout",
     "output_type": "stream",
     "text": [
      "\n"
     ]
    },
    {
     "name": "stderr",
     "output_type": "stream",
     "text": [
      "C:\\Users\\Brus\\Documents\\repos\\TemporalEdgeProp\\edge_prop\\models\\dense_edge_propagation.py:67: ConvergenceWarning: max_iter was reached without convergence\n",
      "  n_iter += 1\n"
     ]
    },
    {
     "data": {
      "text/plain": [
       "<edge_prop.models.dense_edge_propagation.DenseEdgeProp at 0x2d42e372788>"
      ]
     },
     "execution_count": 25,
     "metadata": {},
     "output_type": "execute_result"
    }
   ],
   "source": [
    "edge_prop = DenseEdgeProp(graph.y_attr, max_iter=50, alpha=0.8)\n",
    "edge_prop.fit(graph)"
   ]
  },
  {
   "cell_type": "code",
   "execution_count": 26,
   "metadata": {
    "ExecuteTime": {
     "end_time": "2020-03-18T12:31:38.161933Z",
     "start_time": "2020-03-18T12:31:38.112922Z"
    }
   },
   "outputs": [
    {
     "name": "stdout",
     "output_type": "stream",
     "text": [
      "Accuracy: 0.6561461794019934\n"
     ]
    }
   ],
   "source": [
    "y_pred = edge_prop.predict()[test_indices]\n",
    "print(f\"Accuracy: {accuracy_score(y_test, y_pred)}\")"
   ]
  },
  {
   "cell_type": "markdown",
   "metadata": {},
   "source": [
    "### Baseline"
   ]
  },
  {
   "cell_type": "code",
   "execution_count": 27,
   "metadata": {
    "ExecuteTime": {
     "end_time": "2020-03-18T12:35:49.817832Z",
     "start_time": "2020-03-18T12:35:48.397505Z"
    }
   },
   "outputs": [
    {
     "name": "stderr",
     "output_type": "stream",
     "text": [
      "C:\\Users\\Brus\\Documents\\repos\\TemporalEdgeProp\\edge_prop\\models\\dense_baseline.py:49: RuntimeWarning: invalid value encountered in true_divide\n",
      "  last_Y = last_Y / np.sum(last_Y, axis=-1)[:, np.newaxis]\n",
      "C:\\Users\\Brus\\Documents\\repos\\TemporalEdgeProp\\edge_prop\\models\\dense_baseline.py:55: RuntimeWarning: invalid value encountered in true_divide\n",
      "  last_Y = B / D[:, np.newaxis]\n"
     ]
    },
    {
     "data": {
      "text/plain": [
       "<edge_prop.models.dense_baseline.DenseBasline at 0x2d41fbd1188>"
      ]
     },
     "execution_count": 27,
     "metadata": {},
     "output_type": "execute_result"
    }
   ],
   "source": [
    "baseline = DenseBasline(graph.y_attr, max_iter=50, alpha=0.8)\n",
    "baseline.fit(graph)"
   ]
  },
  {
   "cell_type": "code",
   "execution_count": 28,
   "metadata": {
    "ExecuteTime": {
     "end_time": "2020-03-18T12:35:49.875844Z",
     "start_time": "2020-03-18T12:35:49.818832Z"
    }
   },
   "outputs": [
    {
     "name": "stdout",
     "output_type": "stream",
     "text": [
      "Accuracy: 0.654485049833887\n"
     ]
    }
   ],
   "source": [
    "y_pred = baseline.predict()[test_indices]\n",
    "print(f\"Accuracy: {accuracy_score(y_test, y_pred)}\")"
   ]
  }
 ],
 "metadata": {
  "kernelspec": {
   "display_name": "Python 3",
   "language": "python",
   "name": "python3"
  },
  "language_info": {
   "codemirror_mode": {
    "name": "ipython",
    "version": 3
   },
   "file_extension": ".py",
   "mimetype": "text/x-python",
   "name": "python",
   "nbconvert_exporter": "python",
   "pygments_lexer": "ipython3",
   "version": "3.7.6"
  }
 },
 "nbformat": 4,
 "nbformat_minor": 2
}
