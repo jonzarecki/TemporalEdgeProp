{
 "cells": [
  {
   "cell_type": "code",
   "execution_count": 1,
   "metadata": {
    "ExecuteTime": {
     "end_time": "2020-03-19T10:15:26.133645Z",
     "start_time": "2020-03-19T10:15:25.892592Z"
    }
   },
   "outputs": [],
   "source": [
    "%load_ext autoreload\n",
    "%autoreload 2\n",
    "\n",
    "import os,sys,inspect\n",
    "current_dir = os.path.dirname(os.path.abspath(inspect.getfile(inspect.currentframe())))\n",
    "parent_dir = os.path.dirname(current_dir)\n",
    "sys.path.insert(0, os.path.join(parent_dir)) \n",
    "\n",
    "%matplotlib inline"
   ]
  },
  {
   "cell_type": "code",
   "execution_count": 2,
   "metadata": {
    "ExecuteTime": {
     "end_time": "2020-03-19T10:15:26.587275Z",
     "start_time": "2020-03-19T10:15:26.134646Z"
    }
   },
   "outputs": [
    {
     "name": "stderr",
     "output_type": "stream",
     "text": [
      "C:\\Users\\Brus\\Documents\\repos\\TemporalEdgeProp\\edge_prop\\models\\dense_edge_propagation.py:19: TqdmExperimentalWarning: Using `tqdm.autonotebook.tqdm` in notebook mode. Use `tqdm.tqdm` instead to force console mode (e.g. in jupyter console)\n",
      "  from tqdm.autonotebook import tqdm\n"
     ]
    }
   ],
   "source": [
    "import networkx as nx\n",
    "import numpy as np\n",
    "from edge_prop.data_loader import DataLoader\n",
    "from edge_prop.models.dense_edge_propagation import DenseEdgeProp\n",
    "from edge_prop.models.dense_baseline import DenseBasline\n",
    "from sklearn.metrics import accuracy_score\n",
    "from edge_prop.constants import DATASET2PATH"
   ]
  },
  {
   "cell_type": "markdown",
   "metadata": {},
   "source": [
    "### Experiment on real world data"
   ]
  },
  {
   "cell_type": "code",
   "execution_count": 4,
   "metadata": {
    "ExecuteTime": {
     "end_time": "2020-03-18T16:39:32.679808Z",
     "start_time": "2020-03-18T16:39:30.224446Z"
    }
   },
   "outputs": [],
   "source": [
    "path = DATASET2PATH['slashdot']\n",
    "graph, y_true, test_indices = DataLoader(path).load_data(1_000)\n",
    "y_test = y_true[test_indices]"
   ]
  },
  {
   "cell_type": "markdown",
   "metadata": {},
   "source": [
    "##### Our model"
   ]
  },
  {
   "cell_type": "code",
   "execution_count": 7,
   "metadata": {
    "ExecuteTime": {
     "end_time": "2020-03-18T18:21:50.149100Z",
     "start_time": "2020-03-18T16:41:29.080845Z"
    }
   },
   "outputs": [
    {
     "data": {
      "application/vnd.jupyter.widget-view+json": {
       "model_id": "f1eea24e7aa641519ad7797d73de26ec",
       "version_major": 2,
       "version_minor": 0
      },
      "text/plain": [
       "HBox(children=(FloatProgress(value=0.0, description='Fitting model', max=50.0, style=ProgressStyle(description…"
      ]
     },
     "metadata": {},
     "output_type": "display_data"
    },
    {
     "name": "stderr",
     "output_type": "stream",
     "text": [
      "C:\\Users\\Brus\\Documents\\repos\\TemporalEdgeProp\\edge_prop\\models\\dense_edge_propagation.py:56: RuntimeWarning: divide by zero encountered in true_divide\n",
      "  mat = (B[:, np.newaxis, :] + B[np.newaxis, :, :]) / (D[:, np.newaxis] + D[np.newaxis, :])[:, :, np.newaxis]\n",
      "C:\\Users\\Brus\\Documents\\repos\\TemporalEdgeProp\\edge_prop\\models\\dense_edge_propagation.py:56: RuntimeWarning: invalid value encountered in true_divide\n",
      "  mat = (B[:, np.newaxis, :] + B[np.newaxis, :, :]) / (D[:, np.newaxis] + D[np.newaxis, :])[:, :, np.newaxis]\n",
      "C:\\Users\\Brus\\Documents\\repos\\TemporalEdgeProp\\edge_prop\\models\\dense_edge_propagation.py:59: RuntimeWarning: invalid value encountered in true_divide\n",
      "  mat[adj_mat != 0] = mat[adj_mat != 0] / np.sum(mat[adj_mat != 0], axis=-1, keepdims=True)\n"
     ]
    },
    {
     "name": "stdout",
     "output_type": "stream",
     "text": [
      "\n"
     ]
    },
    {
     "name": "stderr",
     "output_type": "stream",
     "text": [
      "C:\\Users\\Brus\\Documents\\repos\\TemporalEdgeProp\\edge_prop\\models\\dense_edge_propagation.py:67: ConvergenceWarning: max_iter was reached without convergence\n",
      "  warnings.warn(\"max_iter was reached without convergence\", category=ConvergenceWarning)\n"
     ]
    },
    {
     "data": {
      "text/plain": [
       "<edge_prop.models.dense_edge_propagation.DenseEdgeProp at 0x19f28fb3488>"
      ]
     },
     "execution_count": 7,
     "metadata": {},
     "output_type": "execute_result"
    }
   ],
   "source": [
    "edge_prop = DenseEdgeProp(graph.y_attr, max_iter=50, alpha=0.8)\n",
    "edge_prop.fit(graph)"
   ]
  },
  {
   "cell_type": "code",
   "execution_count": 9,
   "metadata": {
    "ExecuteTime": {
     "end_time": "2020-03-18T18:21:56.264094Z",
     "start_time": "2020-03-18T18:21:56.147068Z"
    }
   },
   "outputs": [
    {
     "name": "stdout",
     "output_type": "stream",
     "text": [
      "Accuracy: 0.595243701436308\n"
     ]
    }
   ],
   "source": [
    "y_pred = edge_prop.predict()[test_indices]\n",
    "print(f\"Accuracy: {accuracy_score(y_test, y_pred)}\")"
   ]
  },
  {
   "cell_type": "markdown",
   "metadata": {},
   "source": [
    "### Baseline"
   ]
  },
  {
   "cell_type": "code",
   "execution_count": 5,
   "metadata": {
    "ExecuteTime": {
     "end_time": "2020-03-18T16:41:17.632115Z",
     "start_time": "2020-03-18T16:39:32.680808Z"
    }
   },
   "outputs": [
    {
     "name": "stderr",
     "output_type": "stream",
     "text": [
      "C:\\Users\\Brus\\Documents\\repos\\TemporalEdgeProp\\edge_prop\\models\\dense_baseline.py:49: RuntimeWarning: invalid value encountered in true_divide\n",
      "  last_Y = last_Y / np.sum(last_Y, axis=-1)[:, np.newaxis]\n"
     ]
    },
    {
     "data": {
      "application/vnd.jupyter.widget-view+json": {
       "model_id": "bc5fd5f204db417faf0f44d9aec5f1ca",
       "version_major": 2,
       "version_minor": 0
      },
      "text/plain": [
       "HBox(children=(FloatProgress(value=0.0, description='Fitting model', max=50.0, style=ProgressStyle(description…"
      ]
     },
     "metadata": {},
     "output_type": "display_data"
    },
    {
     "name": "stderr",
     "output_type": "stream",
     "text": [
      "C:\\Users\\Brus\\Documents\\repos\\TemporalEdgeProp\\edge_prop\\models\\dense_baseline.py:55: RuntimeWarning: invalid value encountered in true_divide\n",
      "  last_Y = B / D[:, np.newaxis]\n"
     ]
    },
    {
     "name": "stdout",
     "output_type": "stream",
     "text": [
      "\n"
     ]
    },
    {
     "data": {
      "text/plain": [
       "<edge_prop.models.dense_baseline.DenseBasline at 0x19f2a4c1188>"
      ]
     },
     "execution_count": 5,
     "metadata": {},
     "output_type": "execute_result"
    }
   ],
   "source": [
    "baseline = DenseBasline(graph.y_attr, max_iter=50, alpha=0.8)\n",
    "baseline.fit(graph)"
   ]
  },
  {
   "cell_type": "code",
   "execution_count": 6,
   "metadata": {
    "ExecuteTime": {
     "end_time": "2020-03-18T16:41:21.528527Z",
     "start_time": "2020-03-18T16:41:21.417502Z"
    }
   },
   "outputs": [
    {
     "name": "stdout",
     "output_type": "stream",
     "text": [
      "Accuracy: 0.5939879130366533\n"
     ]
    }
   ],
   "source": [
    "y_pred = baseline.predict()[test_indices]\n",
    "print(f\"Accuracy: {accuracy_score(y_test, y_pred)}\")"
   ]
  },
  {
   "cell_type": "markdown",
   "metadata": {},
   "source": [
    "### Wikipedia dataset"
   ]
  },
  {
   "cell_type": "code",
   "execution_count": 3,
   "metadata": {
    "ExecuteTime": {
     "end_time": "2020-03-19T10:15:28.465404Z",
     "start_time": "2020-03-19T10:15:27.601199Z"
    }
   },
   "outputs": [],
   "source": [
    "path = DATASET2PATH['wiki']\n",
    "dtype_tuples = [('label', int), ('time', str)]\n",
    "graph, y_true, test_indices = DataLoader(path, dtype_tuples=dtype_tuples, test_size=0.5).load_data()\n",
    "y_test = y_true[test_indices]"
   ]
  },
  {
   "cell_type": "markdown",
   "metadata": {},
   "source": [
    "#### Our model"
   ]
  },
  {
   "cell_type": "code",
   "execution_count": 4,
   "metadata": {
    "ExecuteTime": {
     "end_time": "2020-03-19T10:16:44.948143Z",
     "start_time": "2020-03-19T10:15:30.277542Z"
    }
   },
   "outputs": [
    {
     "data": {
      "application/vnd.jupyter.widget-view+json": {
       "model_id": "6143b9fbfd854c229edf4641b3da38a5",
       "version_major": 2,
       "version_minor": 0
      },
      "text/plain": [
       "HBox(children=(FloatProgress(value=0.0, description='Fitting model', max=50.0, style=ProgressStyle(description…"
      ]
     },
     "metadata": {},
     "output_type": "display_data"
    },
    {
     "name": "stdout",
     "output_type": "stream",
     "text": [
      "\n"
     ]
    },
    {
     "data": {
      "text/plain": [
       "<edge_prop.models.dense_edge_propagation.DenseEdgeProp at 0x1ead5b13888>"
      ]
     },
     "execution_count": 4,
     "metadata": {},
     "output_type": "execute_result"
    }
   ],
   "source": [
    "edge_prop = DenseEdgeProp(graph.y_attr, max_iter=50, alpha=0.8)\n",
    "edge_prop.fit(graph)"
   ]
  },
  {
   "cell_type": "code",
   "execution_count": 6,
   "metadata": {
    "ExecuteTime": {
     "end_time": "2020-03-19T10:17:00.826350Z",
     "start_time": "2020-03-19T10:17:00.249727Z"
    }
   },
   "outputs": [
    {
     "name": "stderr",
     "output_type": "stream",
     "text": [
      "C:\\Users\\Brus\\Documents\\repos\\TemporalEdgeProp\\edge_prop\\models\\base_model.py:55: RuntimeWarning: edge ('2911', '2912') doesn't have a definitive max: [0. 0.]\n",
      "  warnings.warn(f\"edge {(u,v)} doesn't have a definitive max: {dist}\", category=RuntimeWarning)\n",
      "C:\\Users\\Brus\\Documents\\repos\\TemporalEdgeProp\\edge_prop\\models\\base_model.py:55: RuntimeWarning: edge ('5025', '5026') doesn't have a definitive max: [0. 0.]\n",
      "  warnings.warn(f\"edge {(u,v)} doesn't have a definitive max: {dist}\", category=RuntimeWarning)\n",
      "C:\\Users\\Brus\\Documents\\repos\\TemporalEdgeProp\\edge_prop\\models\\base_model.py:55: RuntimeWarning: edge ('5266', '5267') doesn't have a definitive max: [0. 0.]\n",
      "  warnings.warn(f\"edge {(u,v)} doesn't have a definitive max: {dist}\", category=RuntimeWarning)\n",
      "C:\\Users\\Brus\\Documents\\repos\\TemporalEdgeProp\\edge_prop\\models\\base_model.py:55: RuntimeWarning: edge ('5379', '5380') doesn't have a definitive max: [0. 0.]\n",
      "  warnings.warn(f\"edge {(u,v)} doesn't have a definitive max: {dist}\", category=RuntimeWarning)\n"
     ]
    },
    {
     "name": "stdout",
     "output_type": "stream",
     "text": [
      "Accuracy: 0.672621706118803\n"
     ]
    },
    {
     "name": "stderr",
     "output_type": "stream",
     "text": [
      "C:\\Users\\Brus\\Documents\\repos\\TemporalEdgeProp\\edge_prop\\models\\base_model.py:55: RuntimeWarning: edge ('6268', '6269') doesn't have a definitive max: [0. 0.]\n",
      "  warnings.warn(f\"edge {(u,v)} doesn't have a definitive max: {dist}\", category=RuntimeWarning)\n",
      "C:\\Users\\Brus\\Documents\\repos\\TemporalEdgeProp\\edge_prop\\models\\base_model.py:55: RuntimeWarning: edge ('6903', '6904') doesn't have a definitive max: [0. 0.]\n",
      "  warnings.warn(f\"edge {(u,v)} doesn't have a definitive max: {dist}\", category=RuntimeWarning)\n"
     ]
    }
   ],
   "source": [
    "y_pred = edge_prop.predict()[test_indices]\n",
    "print(f\"Accuracy: {accuracy_score(y_test, y_pred)}\")"
   ]
  },
  {
   "cell_type": "markdown",
   "metadata": {},
   "source": [
    "#### Baseline"
   ]
  },
  {
   "cell_type": "code",
   "execution_count": 7,
   "metadata": {
    "ExecuteTime": {
     "end_time": "2020-03-19T10:17:15.665127Z",
     "start_time": "2020-03-19T10:17:05.673827Z"
    }
   },
   "outputs": [
    {
     "name": "stderr",
     "output_type": "stream",
     "text": [
      "Fitting model:   0%|                                                                                                                            | 0/200 [00:00<?, ?iter/s, dif=0.000978]\n"
     ]
    },
    {
     "data": {
      "text/plain": [
       "<edge_prop.models.dense_baseline.DenseBasline at 0x1eadc5d6808>"
      ]
     },
     "execution_count": 7,
     "metadata": {},
     "output_type": "execute_result"
    }
   ],
   "source": [
    "baseline = DenseBasline(graph.y_attr, max_iter=200, alpha=0.8)\n",
    "baseline.fit(graph)"
   ]
  },
  {
   "cell_type": "code",
   "execution_count": 8,
   "metadata": {
    "ExecuteTime": {
     "end_time": "2020-03-19T10:17:16.249334Z",
     "start_time": "2020-03-19T10:17:15.666127Z"
    }
   },
   "outputs": [
    {
     "name": "stderr",
     "output_type": "stream",
     "text": [
      "C:\\Users\\Brus\\Documents\\repos\\TemporalEdgeProp\\edge_prop\\models\\base_model.py:55: RuntimeWarning: edge ('2911', '2912') doesn't have a definitive max: [0. 0.]\n",
      "  warnings.warn(f\"edge {(u,v)} doesn't have a definitive max: {dist}\", category=RuntimeWarning)\n",
      "C:\\Users\\Brus\\Documents\\repos\\TemporalEdgeProp\\edge_prop\\models\\base_model.py:55: RuntimeWarning: edge ('5025', '5026') doesn't have a definitive max: [0. 0.]\n",
      "  warnings.warn(f\"edge {(u,v)} doesn't have a definitive max: {dist}\", category=RuntimeWarning)\n",
      "C:\\Users\\Brus\\Documents\\repos\\TemporalEdgeProp\\edge_prop\\models\\base_model.py:55: RuntimeWarning: edge ('5266', '5267') doesn't have a definitive max: [0. 0.]\n",
      "  warnings.warn(f\"edge {(u,v)} doesn't have a definitive max: {dist}\", category=RuntimeWarning)\n",
      "C:\\Users\\Brus\\Documents\\repos\\TemporalEdgeProp\\edge_prop\\models\\base_model.py:55: RuntimeWarning: edge ('5379', '5380') doesn't have a definitive max: [0. 0.]\n",
      "  warnings.warn(f\"edge {(u,v)} doesn't have a definitive max: {dist}\", category=RuntimeWarning)\n"
     ]
    },
    {
     "name": "stdout",
     "output_type": "stream",
     "text": [
      "Accuracy: 0.6683043025160041\n"
     ]
    },
    {
     "name": "stderr",
     "output_type": "stream",
     "text": [
      "C:\\Users\\Brus\\Documents\\repos\\TemporalEdgeProp\\edge_prop\\models\\base_model.py:55: RuntimeWarning: edge ('6268', '6269') doesn't have a definitive max: [0. 0.]\n",
      "  warnings.warn(f\"edge {(u,v)} doesn't have a definitive max: {dist}\", category=RuntimeWarning)\n",
      "C:\\Users\\Brus\\Documents\\repos\\TemporalEdgeProp\\edge_prop\\models\\base_model.py:55: RuntimeWarning: edge ('6903', '6904') doesn't have a definitive max: [0. 0.]\n",
      "  warnings.warn(f\"edge {(u,v)} doesn't have a definitive max: {dist}\", category=RuntimeWarning)\n"
     ]
    }
   ],
   "source": [
    "y_pred = baseline.predict()[test_indices]\n",
    "print(f\"Accuracy: {accuracy_score(y_test, y_pred)}\")"
   ]
  }
 ],
 "metadata": {
  "kernelspec": {
   "display_name": "Python 3",
   "language": "python",
   "name": "python3"
  },
  "language_info": {
   "codemirror_mode": {
    "name": "ipython",
    "version": 3
   },
   "file_extension": ".py",
   "mimetype": "text/x-python",
   "name": "python",
   "nbconvert_exporter": "python",
   "pygments_lexer": "ipython3",
   "version": "3.7.6"
  }
 },
 "nbformat": 4,
 "nbformat_minor": 2
}
